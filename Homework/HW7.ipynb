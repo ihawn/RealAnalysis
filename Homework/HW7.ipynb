{
 "cells": [
  {
   "cell_type": "markdown",
   "id": "5ac59ab8",
   "metadata": {},
   "source": [
    "# Real Analysis Homework 7\n",
    "\n",
    "Isaac Hawn"
   ]
  },
  {
   "cell_type": "markdown",
   "id": "b5f204b5",
   "metadata": {},
   "source": [
    "$\\textbf{1)}$\n",
    "\n",
    "We want to prove Proposition 22 which states:\n",
    "\n",
    "Let $f$ be a measurable function defined on an interval $[a,b]$, and assume that $f$ takes the value $\\pm\\infty$ only on a set of measure zero. Then given $\\epsilon > 0$, we can find a step function $g$ and a continuous function $h$ such that $|f-g|<\\epsilon$ and $|f-h|<\\epsilon$ except on a set of measure less than $\\epsilon$. If in addition $m\\leq f\\leq M$, then we may choose the functions $g$ and $h$ so that $m\\leq g\\leq M$ and $m\\leq h\\leq M$."
   ]
  },
  {
   "cell_type": "markdown",
   "id": "0835bb8c",
   "metadata": {},
   "source": [
    "---------------------------------------\n",
    "First we need to prove the following lemmas:\n",
    "\n",
    "Lemma 1: Given a measurable function $f$ on $[a,b]$ that takes the values $\\pm\\infty$ only on a set of measure zero and given $\\epsilon > 0$, there is an $M$ such that $|f|\\leq M$ except on a set of measure less than $\\frac{\\epsilon}{3}$."
   ]
  },
  {
   "cell_type": "markdown",
   "id": "ad61a175",
   "metadata": {},
   "source": [
    "Proof:\n",
    "\n",
    "Let there be a measurable function $f$ defined on $E=[a,b]$ that takes the values $\\pm\\infty$ only on a set of measure zero and let $\\epsilon > 0$. Define $E_n\\subset E$ as $E_n = \\{x:|f(x)| > n\\}$ for each $n\\in\\mathbb{N}$. Notice that $E_1\\supseteq E_2\\supseteq\\cdots\\supseteq E_n \\supseteq\\cdots$ meaning that this is a sequence of nested sets."
   ]
  },
  {
   "cell_type": "markdown",
   "id": "08f412fc",
   "metadata": {},
   "source": [
    "Further, notice that since $E$ is an interval, $m(E) = \\ell(E) = b-a < \\infty$. Therefore, $\\left<E_n\\right>_{n=1}^\\infty$ is a bounded, nested, and closed sequence of sets meaning that $m\\left(\\bigcap_{n=1}^\\infty E_n\\right) = 0$. Thus, each $E_n$ can be as small as we want it which implies there exists an $M$ such that $m(E_M) < \\frac{\\epsilon}{3}$."
   ]
  },
  {
   "cell_type": "markdown",
   "id": "0e956996",
   "metadata": {},
   "source": [
    "This implies that for every $x\\notin E_M$, we have $|f(x)|\\leq M$. Hence, $|f|\\leq M$ except on a set of measure less than $\\frac{\\epsilon}{3}$. $\\blacksquare$"
   ]
  },
  {
   "cell_type": "markdown",
   "id": "fba54c9d",
   "metadata": {},
   "source": [
    "-----------------------------------------------------"
   ]
  },
  {
   "cell_type": "markdown",
   "id": "6ddea5c8",
   "metadata": {},
   "source": [
    "\n",
    "\n",
    "Lemma 2: Let $f$ be a measurable function on $[a,b]$. Given $\\epsilon>0$ and $M$, there is a simple function $\\phi$ such that $|f(x) - \\phi(x)|<\\epsilon$ except where $|f(x)|\\geq M$. If $m\\leq f \\leq M$, then we may take $\\phi$ so that $m\\leq\\phi\\leq M$."
   ]
  },
  {
   "cell_type": "markdown",
   "id": "10eea145",
   "metadata": {},
   "source": [
    "Proof:\n",
    "\n",
    "A function $\\phi$ will be simple if it is measurable and assumes a finite number of values. In other words, if $\\phi = \\sum_{i=1}^n \\alpha_i \\chi_{A_i}$ for finite sequence $\\left<\\alpha_i\\right>_{i=1}^n$ and $A_i = \\{x:\\phi(x) = \\alpha_i\\}$, then $\\phi$ is simple."
   ]
  },
  {
   "cell_type": "markdown",
   "id": "49c2f14d",
   "metadata": {},
   "source": [
    "Let $\\epsilon > z \\geq 0$ for some $z$. Define a finite sequence $\\left<a_i\\right>_{i=n}^{k} = i$ and let $E_i = \\{x\\in[a,b]:za_i\\leq f(x) < z(a_i+1)\\}$."
   ]
  },
  {
   "cell_type": "markdown",
   "id": "d0d96a04",
   "metadata": {},
   "source": [
    "Define simple function $\\phi = \\sum_{i=1}^{k} za_i \\chi_{E_i}$. For $|f(x)| < z(a_i+1) = M$, we will have that there is some $N\\in\\left<a_i\\right>$ such that $za_N\\leq f(x) < z(a_N+1)$ meaning that $x\\in E_N$. This also means that $\\phi(x) = za_N$."
   ]
  },
  {
   "cell_type": "markdown",
   "id": "00c6fd00",
   "metadata": {},
   "source": [
    "Taking the difference of $f$ and $\\phi$ we see that $za_N - \\phi(x) \\leq |f(x) - \\phi(x)| < z(a_N+1) - \\phi(x)$ implying $0\\leq |f(x) - \\phi(x)| < z < \\epsilon$."
   ]
  },
  {
   "cell_type": "markdown",
   "id": "7edd691c",
   "metadata": {},
   "source": [
    "If $m\\leq f\\leq M$ then we clearly have $m\\leq \\phi\\leq M$ since the distance between $f$ and $\\phi$ can be as small as we need. $\\blacksquare$"
   ]
  },
  {
   "cell_type": "markdown",
   "id": "a16cb4d9",
   "metadata": {},
   "source": [
    "--------------------------------------------------\n",
    "\n",
    "Lemma 3: Given a simple function $\\phi$ on $[a,b]$, there is a step function $g$ on $[a,b]$ such that $g(x) = \\phi(x)$ except on a set of measure less than $\\frac{\\epsilon}{3}$."
   ]
  },
  {
   "cell_type": "markdown",
   "id": "a4d1e6be",
   "metadata": {},
   "source": [
    "Proof:\n",
    "\n",
    "Let $E = [a,b]$ and define a simple function $\\phi = \\sum_{i=1}^n \\alpha_i\\chi_{E_i}$ for $E_i\\subset E$. Since $m(E_i) < m(E) = b-a < \\infty$, there is a finite union $U_i$ of open intervals such that $m(U_i\\Delta E_i) < \\frac{\\epsilon}{3n}$ by Proposition 15. Consider the set $A_k = \\bigcup_{i=k}^\\infty U_i$ and let step function $g$ be defined as $g = \\sum_{i=1}^n \\alpha_i\\chi_{A_i}$."
   ]
  },
  {
   "cell_type": "markdown",
   "id": "b236aeb1",
   "metadata": {},
   "source": [
    "Consider the set $S = \\{x\\in[a,b]:g(x)\\neq\\phi(x)\\} = S_1 \\cup S_2$ where $S_1 = \\{x\\in[a,b]:g(x) \\neq \\alpha_i,\\;\\phi(x) = \\alpha_i\\}$, $S_2 = \\{x\\in[a,b]:g(x) = \\alpha_i,\\;\\phi(x) \\neq \\alpha_i\\}$."
   ]
  },
  {
   "cell_type": "markdown",
   "id": "9292daab",
   "metadata": {},
   "source": [
    "If $x\\in S\\cap S_1$, then $x\\in E_i$ since $\\chi_{E_i}$ must be $1$ in this case. However, this means $x\\notin U_i$ so $x\\in E_i \\backslash U_i$."
   ]
  },
  {
   "cell_type": "markdown",
   "id": "56b0c996",
   "metadata": {},
   "source": [
    "If $x\\in S\\cap S_2$, then $x\\notin E_i$ since $\\chi_{E_i}$ must be zero in this case. However, $x\\in U_i$ since $x\\in E$ so $x\\in U_i\\backslash E_i$."
   ]
  },
  {
   "cell_type": "markdown",
   "id": "2df82ace",
   "metadata": {},
   "source": [
    "In either case, $x\\in (E_i \\backslash U_i) \\cup (U_i \\backslash E_i) = U_i \\Delta E_i$ so for $U = \\bigcup_{i=1}^n U_i$ and $E = \\bigcup_{i=1}^n E_i$, we will have that $S \\subset (U \\Delta E)$ meaning $m(S) \\leq m(U\\Delta E) < \\frac{\\epsilon}{3}$.\n",
    "\n",
    "Thus, $g(x) = \\phi(x)$ except on a set of measure less than $\\frac{\\epsilon}{3}$."
   ]
  },
  {
   "cell_type": "markdown",
   "id": "b68caeb6",
   "metadata": {},
   "source": [
    "Further, $g$ and $\\phi$ are both defined with range $\\alpha_i$ meaning that for $m\\leq\\phi\\leq M$, we can have $m\\leq g\\leq M$. $\\blacksquare$"
   ]
  },
  {
   "cell_type": "markdown",
   "id": "4beb133d",
   "metadata": {},
   "source": [
    "$\\textbf{2)}$\n",
    "\n",
    "We want to prove Lusin's Theorem which states:\n",
    "\n",
    "Let $f$ be a measurable, real-valued function on an interval $[a,b]$. Then, given $\\delta>0$, there is a continuous function $\\phi$ on $[a,b]$ such that $m\\{x:f(x)\\neq\\phi(x)\\} < \\delta$."
   ]
  },
  {
   "cell_type": "markdown",
   "id": "8a67ed39",
   "metadata": {},
   "source": [
    "Proof:\n",
    "\n",
    "Let $f$ given as above. By Proposition 22, for $\\epsilon_n > 0$, there is a continuous function $h_n$ such that $|f-h_n|<\\epsilon_n$ for each $n$ except on a set of measure zero. In other words, we have:\n",
    "\n",
    "$$\n",
    "m\\{x:|f(x) - h_n(x)| \\geq \\epsilon_n\\} < \\epsilon_n\n",
    "$$\n",
    "$$\\text{on }[a,b]\\text{ for each } n\\in\\mathbb{N}$$"
   ]
  },
  {
   "cell_type": "markdown",
   "id": "cc2ac490",
   "metadata": {},
   "source": [
    "Let $\\epsilon_n = \\frac{\\delta}{2^{n+1}}$. Then we have $m\\{x:|f(x) - h_n(x)| \\geq \\epsilon_n\\} < \\frac{\\delta}{2^{n+1}}$. By Proposition 15, there is a closed set $F_n \\subset E$ such that $m(E\\backslash F_n) < \\frac{\\delta}{2^{n+1}}$."
   ]
  },
  {
   "cell_type": "markdown",
   "id": "41a8ebd1",
   "metadata": {},
   "source": [
    "Because of these results, and since $m([a,b]) < \\infty$, we apply Egoroff's Theorem to get that there is a closed set $\\hat{F}\\subset [a,b] = E$ such that $h_n \\to f$ uniformly on $\\hat{F}$ and $m(E\\backslash \\hat{F}) < \\eta$ for $\\eta = \\frac{\\delta}{2}>0$. For $F = \\bigcap_{n=0}^\\infty F_n$ we see the following:"
   ]
  },
  {
   "cell_type": "markdown",
   "id": "ee0e41ed",
   "metadata": {},
   "source": [
    "$$\n",
    "m(E\\backslash F) = \n",
    "m\\left[\\left(\\bigcup_{n=1}^\\infty E_n\\right) \\backslash\\left(\\bigcap_{n=0}^\\infty F_n\\right)\\right] =\n",
    "m\\left[\\bigcup_{n=1}^\\infty (E\\backslash F_n)\\right] =\n",
    "m\\left[\\left(\\bigcup_{n=1}^\\infty (E\\backslash F_n)\\right)\\cup(E\\backslash \\hat{F})\\right] < \n",
    "\\eta + \\sum_{n=1}^\\infty \\epsilon_n = \n",
    "\\frac{\\delta}{2}+\\sum_{n=1}^\\infty \\frac{\\delta}{2^{n+1}} = \n",
    "\\delta\n",
    "$$"
   ]
  },
  {
   "cell_type": "markdown",
   "id": "65ac409d",
   "metadata": {},
   "source": [
    "Because $h_n\\to f$ uniformly on $\\hat{F}$, we have that $h_n\\to f$ uniformly on $F$ since $F\\subset\\hat{F}$. Also, $F$ is closed since it is the countable intersection of closed sets."
   ]
  },
  {
   "cell_type": "markdown",
   "id": "8133bf62",
   "metadata": {},
   "source": [
    "Since $h_n$ is continuous on $E$, it is continuouse on $F\\subset E$. By problem 2.40, there is a function $\\phi$ such that $\\phi$ is continuous on $\\mathbb{R}$ and $f(x) = \\phi(x)$ for each $x\\in F$. This implies $\\{x:f(x) \\neq \\phi(x)\\} \\cap F = \\emptyset$. Therefore, $\\{x:f(x) \\neq \\phi(x)\\} \\subseteq E\\backslash F \\to m\\{x:f(x) \\neq \\phi(x)\\} \\leq m(E\\backslash F) < \\delta$. $\\blacksquare$"
   ]
  },
  {
   "cell_type": "markdown",
   "id": "a8cab960",
   "metadata": {},
   "source": [
    "$\\textbf{3)}$\n",
    "\n",
    "We want to prove that the conclusion of Egoroff's Theorem fails for the sequence $f_n = \\chi[n, n+1],\\;n\\in\\mathbb{N}$."
   ]
  },
  {
   "cell_type": "markdown",
   "id": "23d476ff",
   "metadata": {},
   "source": [
    "Proof:\n",
    "\n",
    "Consider the sequence of functions  $f_n : E \\to \\{0,1\\} = \\chi_{[n, n+1]},\\;n\\in\\mathbb{N}$ for $E = \\mathbb{R}^+$. Let $L = \\lim_{n\\to\\infty} f_n$. Notice that for any $\\hat{x}$, there is an $N\\in \\mathbb{N}$ such that $\\hat{x}<x$ for $x\\in[N,N+1]$ meaning $f(\\hat{x}) = 0$. Thus, $f_N(\\hat{x}) = 0$ for large enought $N$. This implies $L = 0$. Therefore, $f_n\\to 0$ pointwise on $\\mathbb{R}$."
   ]
  },
  {
   "cell_type": "markdown",
   "id": "b5a34c5e",
   "metadata": {},
   "source": [
    "Suppose that there exists some closed $F\\subseteq E$ such that for every $\\epsilon > 0$ and $x\\in F$, there is an $N\\in\\mathbb{N}$ such that for all $n\\geq N$, $|f_n(x)| < \\epsilon$ and $m(E\\backslash F) < \\epsilon$."
   ]
  },
  {
   "cell_type": "markdown",
   "id": "748f2ef3",
   "metadata": {},
   "source": [
    "We see then that $x\\leq N$ and since $ x\\in F$, we will have $F \\subseteq [0, N]$. In other words, $m(F) < \\infty$. Notice then that that $m(E\\backslash F) = m\\left([N,\\infty]\\right) = \\infty > \\epsilon$.\n",
    "\n",
    "Therefore, Egoroff's theorem fails for the sequence $f_n = \\chi[n, n+1],\\;n\\in\\mathbb{N}$. $\\blacksquare$."
   ]
  }
 ],
 "metadata": {
  "kernelspec": {
   "display_name": "Julia 1.6.1",
   "language": "julia",
   "name": "julia-1.6"
  },
  "language_info": {
   "file_extension": ".jl",
   "mimetype": "application/julia",
   "name": "julia",
   "version": "1.6.1"
  }
 },
 "nbformat": 4,
 "nbformat_minor": 5
}
