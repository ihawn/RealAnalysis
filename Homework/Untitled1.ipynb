{
 "cells": [
  {
   "cell_type": "markdown",
   "id": "e2c88dec",
   "metadata": {},
   "source": [
    "# Real Analysis Homework 3\n",
    "\n",
    "Isaac Hawn"
   ]
  },
  {
   "cell_type": "markdown",
   "id": "21160e6c",
   "metadata": {},
   "source": [
    "$\\textbf{1)}$\n",
    "\n",
    "We want to prove that $\\overline{\\lim} x_n + \\underline{\\lim} y_n \\leq \\overline{\\lim} (x_n + y_n) \\leq \\overline{\\lim} x_n + \\overline{\\lim} y_n$ given that the left and right sides are not in the form $\\infty - \\infty$."
   ]
  },
  {
   "cell_type": "markdown",
   "id": "d9e46fcc",
   "metadata": {},
   "source": [
    "Proof:\n",
    "\n",
    "Let $x_k$ and $y_k$ be members of the sequence for some $k > n$. Then, by the definition of the supremum, we will necessarily have that $x_k + y_k \\leq \\sup x_k + \\sup y_k$ meaning that $\\sup (x_k + y_k) \\leq \\sup x_k + \\sup y_k.$"
   ]
  },
  {
   "cell_type": "markdown",
   "id": "922b228f",
   "metadata": {},
   "source": [
    "By extension, we can take the infimum of both sides and maintain equality. We get $\\inf_n \\sup (x_k + y_k) \\leq \\inf_n \\sup x_k + \\inf_n \\sup y_k$ which by definition is just $\\overline{\\lim} (x_n + y_n) \\leq \\overline{\\lim} x_n + \\overline{\\lim} y_n.$"
   ]
  },
  {
   "cell_type": "markdown",
   "id": "5fbf1990",
   "metadata": {},
   "source": [
    "Further, by definition, we have that $\\sup (x_k + y_k) \\geq \\sup{x_k} + \\inf{y_k}$ implying that $\\overline{lim} (x_k + y_k) \\geq \\overline{\\lim} x_k + \\underline{\\lim y_k}$ for $k > n$. Thus, we have that $\\overline{\\lim} (x_n + y_n) \\geq \\overline{\\lim} x_n + \\underline{\\lim} y_n$."
   ]
  },
  {
   "cell_type": "markdown",
   "id": "36a60726",
   "metadata": {},
   "source": [
    "Thus, we have $\\overline{\\lim} x_n + \\underline{\\lim} y_n \\leq \\overline{\\lim} (x_n + y_n) \\leq \\overline{\\lim} x_n + \\overline{\\lim} y_n$. $\\blacksquare$"
   ]
  }
 ],
 "metadata": {
  "kernelspec": {
   "display_name": "Julia 1.6.1",
   "language": "julia",
   "name": "julia-1.6"
  },
  "language_info": {
   "file_extension": ".jl",
   "mimetype": "application/julia",
   "name": "julia",
   "version": "1.6.1"
  }
 },
 "nbformat": 4,
 "nbformat_minor": 5
}
