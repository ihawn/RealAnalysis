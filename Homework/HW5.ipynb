{
 "cells": [
  {
   "cell_type": "markdown",
   "id": "403e504f",
   "metadata": {},
   "source": [
    "# Real Analysis Homework 5\n",
    "\n",
    "Isaac Hawn"
   ]
  },
  {
   "cell_type": "markdown",
   "id": "575f6b37",
   "metadata": {},
   "source": [
    "$\\textbf{1)}$\n",
    "\n",
    "We consider the sequence of functions $\\{f_n\\}_n$ on the interval $[0,1]$ where $f_0(x) = x$ and \n",
    "\n",
    "$$\n",
    "f_{n+1}(x) =\n",
    "\\begin{cases}\n",
    "\\frac12 f_n(3x), \\;\\;\\;\\;\\;\\;\\;\\;\\;\\;\\;\\;\\;\\;\\;\\;\\, x\\in\\left[0,\\frac13\\right)\\\\\n",
    "\\frac12,\\;\\;\\;\\;\\;\\;\\;\\;\\;\\;\\;\\;\\;\\;\\;\\;\\;\\;\\;\\;\\;\\;\\;\\;\\;\\, x\\in\\left[\\frac13,\\frac23\\right]\\\\\n",
    "\\frac12(1+f_n(3x-2)),\\;\\;\\; x\\in\\left(\\frac23,1\\right]\n",
    "\\end{cases}\n",
    "$$\n",
    "\n",
    "We want to show that $\\{f_n\\}_n$ converges uniformly to the Cantor function $\\mathcal{C}(x)$"
   ]
  },
  {
   "cell_type": "markdown",
   "id": "6a676270",
   "metadata": {},
   "source": [
    "Definition: A sequence of funcitons $\\{f_n\\}_n$ converges uniformly if for each $\\epsilon > 0$, there is an $N_\\epsilon\\in\\mathbb{N}$ such that $|f_n(x) - f_{n-1}(x)| < \\epsilon$."
   ]
  },
  {
   "cell_type": "markdown",
   "id": "ad2b4bc8",
   "metadata": {},
   "source": [
    "$$$$\n",
    "Proof of uniform convergence on $[0,1]$:\n",
    "\n",
    "Pick $\\epsilon$ such that $\\epsilon > \\frac{1}{2^n}$. We must split this into the three cases:\n",
    "\n",
    "$$$$\n",
    "Case $x\\in\\left[0,\\frac13\\right)$:\n",
    "\n",
    "We have that $|f_n(x) - f_{n+1}(x)| = \\left|\\frac12f_n(3x) - \\frac12f_{n-1}(3x)\\right| = \\frac12\\left|f_n(3x) - f_{n-1}(3x)\\right|$"
   ]
  },
  {
   "cell_type": "markdown",
   "id": "618a45ee",
   "metadata": {},
   "source": [
    "For this case we have $\\{f_n\\}_n = x, \\frac32x, \\frac94x,\\ldots = {\\left(\\frac32\\right)}^nx$. Thus, the difference between each subsequent term is $\\frac12x, \\frac34x,\\ldots = \\frac{3^{n-1}}{2^n}x$ meaning that for $x\\in\\left[0,\\frac13\\right)$, we see that $\\frac12\\left|f_n(3x) - f_{n-1}(3x)\\right| \\leq \\frac12\\frac{1}{2^n} = \\frac{1}{2^{n+1}}$."
   ]
  },
  {
   "cell_type": "markdown",
   "id": "476141b6",
   "metadata": {},
   "source": [
    "$$$$\n",
    "\n",
    "Case $x\\in\\left[\\frac13,\\frac23\\right]$:\n",
    "\n",
    "Trivial since $\\frac12\\left|f_n(x) - f_{n-1}(x)\\right| = \\frac12-\\frac12 = 0 < \\frac{1}{2^{n+1}}$."
   ]
  },
  {
   "cell_type": "markdown",
   "id": "c5fd43dc",
   "metadata": {},
   "source": [
    "$$$$\n",
    "\n",
    "Case $x\\in\\left(\\frac23,1\\right]$:"
   ]
  },
  {
   "cell_type": "markdown",
   "id": "51a78f08",
   "metadata": {},
   "source": [
    "We have that $|f_n(x) - f_{n+1}(x)| = \\left|\\frac12(1+f_n(3x-2)) - \\frac12(1+f_{n-1}(3x-2))\\right| = \\frac12\\left|f_n(3x-2) - f_{n-1}(3x-2)\\right|$.\n",
    "\n",
    "For this case we have that $\\{f_n\\}_n = x, \\frac{3x-1}{2}, \\frac{9x-5}{4}, \\ldots = \\frac{3^nx-t_n}{2^n},\\;t_n = 2^n+3t_{n-1},t_0=1$. Thus, the difference between each subseqent term will be $\\frac{3^n(x-1)}{2^{n+1}}$ meaning that for $x\\in\\left(\\frac23,1\\right]$, we will have that $|f_n(x) - f_{n+1}(x)| \\leq \\frac12 \\frac{1}{2^n} = \\frac{1}{2^{n+1}}$"
   ]
  },
  {
   "cell_type": "markdown",
   "id": "b0e1ed17",
   "metadata": {},
   "source": [
    "Hence, in each case we see by induction that $|f_n(x) - f_{n+1}(x)| \\leq \\frac{1}{2^{n+1}}$ meaning $|f_n(x) - f_{n-1}(x)| \\leq \\frac{1}{2^n}$ for all $n\\in \\mathbb{N}$ and $x\\in[0,1]$."
   ]
  },
  {
   "cell_type": "markdown",
   "id": "b0d2ae1b",
   "metadata": {},
   "source": [
    "Now let $i$ and $j$ be positive integers such that $i < j$. Then we see the following:\n",
    "\n",
    "\n",
    "$$\\begin{align}\n",
    "|f_i(x)-f_j(x)| &= |f_i(x)-f_{i+1}(x) + f_{i+1}(x) - f_{i+2}(x) + f_{i+2}(x) - f_{i+3}(x) + \\cdots + f_{j-1}(x) - f_j(x)|\\\\\n",
    "&\\leq |f_i(x)-f_{i+1}(x)| + |f_{i+1}(x) - f_{i+2}(x)| + |f_{i+2}(x) - f_{i+3}(x)| + \\cdots + |f_{j-1}(x) - f_j(x)|\\;\\text{by the triangle inequality}\\\\\n",
    "&\\leq \\frac{1}{2^{i+1}} + \\frac{1}{2^{i+2}} + \\cdots + \\frac{1}{2^{j}}\\;\\text{as shown in the cases}\\\\\n",
    "&= \\sum_{k=i+1}^j \\frac{1}{2^k} < \\frac{1}{2^i}\n",
    "\\end{align}$$"
   ]
  },
  {
   "cell_type": "markdown",
   "id": "fa851ee7",
   "metadata": {},
   "source": [
    "Thus, if we pick a natural number $N\\geq i$ we will have $\\frac{1}{2^N} \\leq \\frac{1}{2^i} < \\epsilon$ which gives the following:\n",
    "\n",
    "$$|f_i(x) - f_j(x)| < \\frac{1}{2^i} \\leq \\frac{1}{2^N} < \\epsilon$$"
   ]
  },
  {
   "cell_type": "markdown",
   "id": "84d143cc",
   "metadata": {},
   "source": [
    "Therefore, $\\{f_n\\}_n$ converges uniformly on $[0,1]$. $\\blacksquare$"
   ]
  },
  {
   "cell_type": "markdown",
   "id": "cbc96bab",
   "metadata": {},
   "source": [
    "$$$$\n",
    "Proof that $\\{f_n\\}_n$ converges uniformly to $\\mathcal{C}(x)$:\n",
    "\n",
    "Proof of pointwise convergence is sufficient since it has already been shown that $\\{f_n\\}_n$ converges uniformly on $[0,1]$. Thus we need to show that for every $\\epsilon > 0$, there is an $N$ such that for $n\\geq N$ we will have $|f_n(x) - \\mathcal{C}(x)| < \\epsilon$. Where $\\mathcal{C}(x)$ is defined as:\n",
    "\n",
    "$$\n",
    "\\mathcal{C}(x) = \\begin{cases} \\sum_{n=1}^\\infty \\frac{b_n}{2^n}, \\;\\;\\; x\\in\\mathcal{C} \\\\ \\sum_{n=1}^N \\frac{b_n}{2^n}, \\;\\;\\; x\\in[0,1]\\backslash\\mathcal{C}\\end{cases}\n",
    "$$\n",
    "\n",
    "Further, $b_n = \\frac12a_n$ and $N$ represents the smallest value of $n$ such that $a_n = 1$."
   ]
  },
  {
   "cell_type": "markdown",
   "id": "611122b5",
   "metadata": {},
   "source": [
    "As shown in the previous proof, $\\frac12(1+f_n(3x-2)) = x, \\frac{3x-1}{2}, \\frac{9x-5}{4}, \\ldots = \\frac{3^nx-t_n}{2^n},\\;t_n = 2^n+3t_{n-1},t_0=1$."
   ]
  },
  {
   "cell_type": "markdown",
   "id": "7e1b0e63",
   "metadata": {},
   "source": [
    "Pick $\\epsilon > \\left(\\frac12\\right)^n$. Then, there is an $N$ such that for $n\\geq N$, we have that $\\left|\\sum_{i=1}^N \\frac{b_i}{2^i} - \\frac12(1+f_n(3x-2))\\right| \\leq \\left|\\sum_{i=1}^N \\frac{c_i}{2^i} - \\frac12(1+f_n(3x-2))\\right| \\leq \\frac{1}{2^n} < \\epsilon$ where $c_i = 2,2,2,\\ldots$. Thus, $\\{f_n(x)\\}_n$ converges pointwise to $\\mathcal{C}(x)$ over $\\left[\\frac23,1\\right]$. By symmetry, $\\{f_n(x)\\}_n$ also converges pointwise to $\\mathcal{C}(x)$ over $\\left[0,\\frac23\\right]$."
   ]
  },
  {
   "cell_type": "markdown",
   "id": "345ae977",
   "metadata": {},
   "source": [
    "For $x\\in\\left(\\frac13,\\frac23\\right)$, we will have that $|f_n(x) - \\mathcal{C}(x)| = \\left|\\frac12 - \\sup_{y\\leq x, y\\in\\mathcal{C}} \\mathcal{C}(x)\\right| = \\frac12-\\frac12 = 0 < \\epsilon$ since $\\left(\\frac13,\\frac23\\right) \\cap \\mathcal{C} = \\emptyset$."
   ]
  },
  {
   "cell_type": "markdown",
   "id": "c0a348bb",
   "metadata": {},
   "source": [
    "Therefore, $f(x)$ converges pointwise to $\\mathcal{C}(x)$ on $[0,1]$. Since $f(x)$ converges uniformly on $[0,1]$, $f(x)$ converges uniformly to $\\mathcal{C}(x)$ on $[0,1]$. $\\blacksquare$"
   ]
  },
  {
   "cell_type": "markdown",
   "id": "01692d00",
   "metadata": {},
   "source": [
    "$\\textbf{3)}$\n",
    "\n",
    "Assuming set $E$ is measurable, we want to prove that the set $E+y$ is also measurable for every $y\\in\\mathbb{R}$ and $m(E+y) = m(E)$."
   ]
  },
  {
   "cell_type": "markdown",
   "id": "0e68ba9e",
   "metadata": {},
   "source": [
    "Proof of translation invariance:\n",
    "\n",
    "Let $E$ be a set and let $\\left<I_n\\right>_{n\\in\\mathbb{N}}$ be a collection of open intervals that cover $E$. Then, for $y\\in\\mathbb{R}$ we have that the sequence of intervals $\\left<I_n+y\\right>_{n\\in\\mathbb{N}}$ covers $E+y$."
   ]
  },
  {
   "cell_type": "markdown",
   "id": "0513405c",
   "metadata": {},
   "source": [
    "Then we have the following from the definition of $m^*(E)$:\n",
    "\n",
    "$$\\begin{align}\n",
    "m^*(E) = \\inf_{A\\subset \\cup I_n} \\sum_n \\ell(I_n) &= \\inf_{A\\subset \\cup I_n} \\sum_n \\ell(I_n+y)\\;\\;\\text{Since }\\ell \\text{ is translation invariant}\\\\\n",
    "&\\geq m^*(E+y)\\;\\; \\text{Since}\\;\\left<I_n+y\\right>_{n\\in\\mathbb{N}} \\;\\text{covers}\\; E+y\n",
    "\\end{align}$$\n",
    "\n",
    "Thus, $m^*(E+y)\\leq m^*(E)$"
   ]
  },
  {
   "cell_type": "markdown",
   "id": "2306acdc",
   "metadata": {},
   "source": [
    "In the same way, for $y\\in\\mathbb{R}$ we let the sequence of open intervals $\\left<I_n\\right>_{n\\in\\mathbb{N}}$ cover $E+y$ meaning $\\left<I_n-y\\right>_{n\\in\\mathbb{N}}$ covers $E$. Thus:\n",
    "\n",
    "$$\n",
    "\\begin{align}\n",
    "m^*(E+y) = \\inf_{A\\subset\\cup I_n} \\sum_n \\ell(I_n+y) &= \\inf_{A\\subset\\cup I_n} \\sum_n \\ell(I_n-y)\\;\\;\\text{Since }\\ell \\text{ is translation invariant}\\\\\n",
    "&\\geq m^*(E)\\;\\;\\text{Since}\\;\\left<I_n-y\\right>_{n\\in\\mathbb{N}} \\;\\text{covers}\\; E\n",
    "\\end{align}\n",
    "$$\n",
    "\n",
    "Thus, $m^*(E+y)\\geq m^*(E)$\n",
    "\n",
    "Therefore, $m^*(E+y)= m^*(E)$"
   ]
  },
  {
   "cell_type": "markdown",
   "id": "460d6336",
   "metadata": {},
   "source": [
    "Since $E$ is measurable, we can drop the $^*$ to get $m(E+y) = m(E)\\;\\blacksquare$"
   ]
  },
  {
   "cell_type": "markdown",
   "id": "9c309b6a",
   "metadata": {},
   "source": [
    "Proof that $E+y$ is measurable for measurable $E$:\n",
    "\n",
    "By definition, a set $E+y$ is measurable if for each set $A$ we have that $m^*A = m^*(A\\cap (E+y)) + m^*(A\\cap (E+y)^c)$."
   ]
  },
  {
   "cell_type": "markdown",
   "id": "159374c5",
   "metadata": {},
   "source": [
    "$E$ is measurable so we have $m^*(A-y) = m^*((A-y)\\cap E) + m^*((A-y)\\cap E^c)$."
   ]
  },
  {
   "cell_type": "markdown",
   "id": "f363e5bb",
   "metadata": {},
   "source": [
    "By translation invariance, this is equivalent to $m^*(A-y) = m^*(((A-y)\\cap E) + y) + m^*(((A-y)\\cap E^c)+y) = m^*(A\\cap (E+y)) + m^*(A\\cap (E+y)^c)$"
   ]
  },
  {
   "cell_type": "markdown",
   "id": "b8f89da0",
   "metadata": {},
   "source": [
    "Thus, for measureable $E$, $E+y$ is also measurable. $\\blacksquare$"
   ]
  },
  {
   "cell_type": "markdown",
   "id": "1d231b48",
   "metadata": {},
   "source": [
    "$\\textbf{4)}$\n",
    "\n",
    "We want to show that the Cantor ternary set has Lebesgue measure $0$."
   ]
  },
  {
   "cell_type": "markdown",
   "id": "8da41cb7",
   "metadata": {},
   "source": [
    "Since the measure of an interval will be its length, we can find the measure of the Cantor set by computing $m([0,1]) - m\\left(\\bigcup_{n\\in\\mathbb{N}} S_n\\right)$ where $\\left<S_n\\right> = S_1, S_2,\\ldots = \\left(\\frac13,\\frac23\\right),\\left[\\left(\\frac19,\\frac29\\right)\\cup\\left(\\frac79,\\frac89\\right)\\right],\\ldots$"
   ]
  },
  {
   "cell_type": "markdown",
   "id": "4f3df2da",
   "metadata": {},
   "source": [
    "We see that $m\\left(\\bigcup_{n\\in\\mathbb{N}} S_n\\right) = \\frac13 + \\left(\\frac19 + \\frac19\\right) + \\cdots = \\frac13 + \\frac29 + \\frac{4}{27} + \\cdots = \\sum_{n=1}^\\infty \\frac{2^{n-1}}{3^n} = \\sum_{n=1}^\\infty \\frac{2^n}{(2)3^n} = \\frac12\\sum_{n=1}^\\infty {\\left(\\frac23\\right)}^n = \\frac{2/3}{2(1-2/3)} = 1$"
   ]
  },
  {
   "cell_type": "markdown",
   "id": "b118268f",
   "metadata": {},
   "source": [
    "Thus, $m([0,1]) - m\\left(\\bigcup_{n\\in\\mathbb{N}} S_n\\right) = 1-1 = 0$ meaning that $m(\\mathcal{C}) = 0$. $\\blacksquare$"
   ]
  }
 ],
 "metadata": {
  "kernelspec": {
   "display_name": "Julia 1.6.1",
   "language": "julia",
   "name": "julia-1.6"
  },
  "language_info": {
   "file_extension": ".jl",
   "mimetype": "application/julia",
   "name": "julia",
   "version": "1.6.1"
  }
 },
 "nbformat": 4,
 "nbformat_minor": 5
}
