{
 "cells": [
  {
   "cell_type": "markdown",
   "id": "ffc2f2a8",
   "metadata": {},
   "source": [
    "# Real Analysis Homework 6\n",
    "\n",
    "Isaac Hawn"
   ]
  },
  {
   "cell_type": "markdown",
   "id": "6a8cfd81",
   "metadata": {},
   "source": [
    "$\\textbf{1)}$\n",
    "\n",
    "We want to prove proposition 15 which states that for $E\\subseteq\\mathbb{R}$:\n",
    "\n",
    "(i) $E$ is measurable\n",
    "\n",
    "(ii) Given $\\epsilon >0$ there is an open set $O\\supset E$ such that $m^*(O\\backslash E)<\\epsilon$\n",
    "\n",
    "(iii) Given $\\epsilon > 0$, there is a closed set $F\\subset E$ with $m^*(E\\backslash F) < \\epsilon$\n",
    "\n",
    "(iv) There is a $G$ in $G_\\delta$ with $E\\subset G$, $m^*(G\\backslash E) = 0$\n",
    "\n",
    "(v) There is an $F$ in $F_\\sigma$ with $F\\subset E$, $m^*(E\\backslash F) = 0$\n",
    "\n",
    "If $m^* (E) < \\infty$, the above are equivalent to:\n",
    "\n",
    "(iv) For all $\\epsilon> 0$ there is a finite union $U$ of open intervals such that $m^* (U\\Delta E) < \\epsilon$"
   ]
  },
  {
   "cell_type": "markdown",
   "id": "9906bf33",
   "metadata": {},
   "source": [
    "(i)$\\to$(ii) if $m^*(E) < \\infty$"
   ]
  },
  {
   "cell_type": "markdown",
   "id": "f27df8e9",
   "metadata": {},
   "source": [
    "Assume (i) and $m^*(E) < \\infty$. Then there exist a countable collection of open intervals $\\{I_n\\}$ covering $E$. Let $O = \\bigcup_{n\\in\\mathbb{N}} I_n$. Then $E\\subset O$ since $O$ is the countable union of open sets covering $E$."
   ]
  },
  {
   "cell_type": "markdown",
   "id": "9aba6d31",
   "metadata": {},
   "source": [
    "By Proposition 5, we will have that $m^*O \\leq m^*E + \\epsilon$. Since the outer measure of an interval will just be its length, we have that $m^*(O) - m^*(E) = \\ell(\\bigcup I_n) - m^*(E) \\leq \\ell(\\sum I_n) - m^*(E) < \\epsilon$ since $O$ is open. Thus, $m^*(O\\backslash E)<\\epsilon$. $\\blacksquare$"
   ]
  },
  {
   "cell_type": "markdown",
   "id": "7a0b1665",
   "metadata": {},
   "source": [
    "(ii)$\\to$(vi)"
   ]
  },
  {
   "cell_type": "markdown",
   "id": "d00c91ab",
   "metadata": {},
   "source": [
    "Assume that given $\\epsilon >0$ there is an open set $O\\supset E$ such that $m^*(O\\backslash E)<\\epsilon$ and $m^*(E) < \\infty$."
   ]
  },
  {
   "cell_type": "markdown",
   "id": "3f1a4275",
   "metadata": {},
   "source": [
    "$m^*(O\\backslash E)<\\epsilon$ implies $m^*(O)<m^*(E) + \\epsilon$. Let $\\{I_n\\}$ be a collection of disjoint open intervals such that $O = \\bigcup I_n$ meaning that $\\ell(\\bigcup I_n) < m^*(E) + \\epsilon$ since $\\{I_n\\}$ is a collection of intervals."
   ]
  },
  {
   "cell_type": "markdown",
   "id": "7a256666",
   "metadata": {},
   "source": [
    "Since $\\{I_n\\}$ is disjoint, the length of its union, must equal the sum of the lengths of its elements. In other words, $\\ell(\\bigcup I_n) = \\ell(\\sum_{n=1}^\\infty I_n)$ meaning that $\\ell(\\sum_{n=1}^\\infty I_n) < m^*(E) + \\epsilon$."
   ]
  },
  {
   "cell_type": "markdown",
   "id": "69f67007",
   "metadata": {},
   "source": [
    "We can partition this sum like so:\n",
    "\n",
    "$$\\ell(\\sum_{n=1}^k I_n) + \\ell(\\sum_{n=k+1}^\\infty I_n) < m^*(E) + \\epsilon$$\n",
    "\n",
    "For some $k\\in\\mathbb{N}$. \n",
    "\n",
    "Since $k$ is arbitrary, let $k$ be such that  $\\ell(\\sum_{n=k+1}^\\infty I_n) < \\epsilon$ meaning that $\\ell(\\sum_{n=1}^k I_n) = m^*(E)$."
   ]
  },
  {
   "cell_type": "markdown",
   "id": "8f492e58",
   "metadata": {},
   "source": [
    "Define set $U$ as $U = \\bigcup_{n=1}^k$ meaning that $m^*(U) \\leq m^*(O)$. We already have that $m^*(E) \\leq m^*(O)$ since $E\\subset O$."
   ]
  },
  {
   "cell_type": "markdown",
   "id": "b268af52",
   "metadata": {},
   "source": [
    "Thus, for $m^*(U\\Delta E) = m^*((U\\backslash E)\\cup(E\\backslash U))$, we must have that \n",
    "$$m^*((U\\backslash E)\\cup(E\\backslash U))\\leq m^*((O\\backslash E)\\cup(O\\backslash U)) = m^*(O\\backslash E)+m^*(O\\backslash U) < \\epsilon + \\epsilon = 2\\epsilon$$"
   ]
  },
  {
   "cell_type": "markdown",
   "id": "4e7d006b",
   "metadata": {},
   "source": [
    "This is because $m^*(U) \\leq m^*(O)$, $m^*(E) \\leq m^*(O)$, $m^*(O\\backslash E)<\\epsilon$ and $m^*(E) <\\infty$."
   ]
  },
  {
   "cell_type": "markdown",
   "id": "686bbc67",
   "metadata": {},
   "source": [
    "Since $\\epsilon$ is arbitrary, we can drop the $2$ to obtain $m^*(U\\Delta E) < \\epsilon$. $\\blacksquare$"
   ]
  },
  {
   "cell_type": "markdown",
   "id": "61b5aab1",
   "metadata": {},
   "source": [
    "(vi)$\\to$(ii)\n",
    "\n"
   ]
  },
  {
   "cell_type": "markdown",
   "id": "f4eb36eb",
   "metadata": {},
   "source": [
    "Assume that $m^* (E) < \\infty$ and for all $\\epsilon> 0$ there is a finite union $U$ of open intervals such that $m^* (U\\Delta E) < \\epsilon$."
   ]
  },
  {
   "cell_type": "markdown",
   "id": "d6cd982d",
   "metadata": {},
   "source": [
    "As before, let $O = \\bigcup_{n=1}^\\infty I_n$ and $U = \\bigcup_{n=1}^k I_n$ where $\\{I_n\\}$ is a collection of open intervals that covers $E$."
   ]
  },
  {
   "cell_type": "markdown",
   "id": "ba6e16e5",
   "metadata": {},
   "source": [
    "Clearly $E\\subset O$ meaning that $E\\backslash U\\subset O$. By Proposition 5, we have that $m^*(O) \\leq m^*(E\\backslash U) + \\epsilon$ meaning that $m^*(O\\backslash (E\\backslash U)) < \\epsilon$."
   ]
  },
  {
   "cell_type": "markdown",
   "id": "7576b0b1",
   "metadata": {},
   "source": [
    "We have $m^*(U\\Delta E) = m^*((U\\backslash E))\\cup(E\\backslash U))<\\epsilon$ meaning that if we combine these two equations, we see:\n",
    "\n",
    "$$m^*((U\\backslash E))\\cup(E\\backslash U)\\cup(O\\backslash (E\\backslash U)))< 2\\epsilon$$"
   ]
  },
  {
   "cell_type": "markdown",
   "id": "be9e6258",
   "metadata": {},
   "source": [
    "Clearly, $(U\\backslash E))\\cup(E\\backslash U) \\subset O$ since $U\\subset O$ and $E\\subset O$. Further, $(E\\backslash U)\\cup(O\\backslash (E\\backslash U)) = O$. Therefore:\n",
    "\n",
    "$$m^*(O\\backslash E) \\leq m^*((U\\backslash E))\\cup(E\\backslash U)\\cup(O\\backslash (E\\backslash U))) = m^*(O) < 2\\epsilon$$"
   ]
  },
  {
   "cell_type": "markdown",
   "id": "18cd11a1",
   "metadata": {},
   "source": [
    "Thus, there is an open set $O\\supset E$ such that $m^*(O\\backslash E)<\\epsilon$. $\\blacksquare$"
   ]
  },
  {
   "cell_type": "markdown",
   "id": "fb615e85",
   "metadata": {},
   "source": [
    "(i)$\\to$(ii) if $m^*(E) = \\infty$"
   ]
  },
  {
   "cell_type": "markdown",
   "id": "8bf508bb",
   "metadata": {},
   "source": [
    "Assume that $E$ is measurable. Define a sequence of sets $E_n$ to be $E_n = [-n,n]\\cap E$. By Proposition $5$, for each $E_n$, there is an open set $O_n$ such that $E_n \\subset O_n$ and $m^*(O_n\\backslash E_n) < m^*(O_n)-m^*(E_n)\\leq\\frac{\\epsilon}{n}$."
   ]
  },
  {
   "cell_type": "markdown",
   "id": "7e0577af",
   "metadata": {},
   "source": [
    "Taking the union gives $m^*(\\bigcup O_n) \\backslash (\\bigcup E_n) < \\epsilon$. Letting $E=\\bigcup E_n$ and $O=\\bigcup O_n$ gives the desired inequality. Also $E$ is clearly a subset of $O$ since $E_n \\subset O_n$ for all $n\\in\\mathbb{N}$."
   ]
  },
  {
   "cell_type": "markdown",
   "id": "59fc1588",
   "metadata": {},
   "source": [
    "Therefore, there is an open set $O\\supset E$ such that $m^*(O\\backslash E)<\\epsilon$. $\\blacksquare$"
   ]
  },
  {
   "cell_type": "markdown",
   "id": "d6e4a309",
   "metadata": {},
   "source": [
    "(ii)$\\to$(iv)"
   ]
  },
  {
   "cell_type": "markdown",
   "id": "4ec0910f",
   "metadata": {},
   "source": [
    "Assume that given $\\epsilon >0$ there is an open set $O\\supset E$ such that $m^*(O\\backslash E)<\\epsilon$"
   ]
  },
  {
   "cell_type": "markdown",
   "id": "2c66f6b7",
   "metadata": {},
   "source": [
    "Let set $G$ be the countable intersection of $O_n$ for $n\\in\\mathbb{N}$. Then we will have that $E\\subset G$ since $E\\subset O$. Further, we have that $G\\in G_\\delta$ since we took $G$ to be the countable intersection of open $O_n$.\n",
    "\n",
    "The construction of $G$ and $m^*(O\\backslash E) < \\epsilon$ implies that $m^*(G\\backslash E) < \\epsilon$. Let $\\epsilon = \\frac1n$. Since we have that $m^*(G\\backslash E) < \\epsilon = \\frac1n$ for any $n$, we will have that $m^*(G\\backslash E) = 0$. $\\blacksquare$"
   ]
  },
  {
   "cell_type": "markdown",
   "id": "f71e754a",
   "metadata": {},
   "source": [
    "(iv)$\\to$(i)"
   ]
  },
  {
   "cell_type": "markdown",
   "id": "77a9d688",
   "metadata": {},
   "source": [
    "Assume that there is a $G$ in $G_\\delta$ with $E\\subset G$, $m^*(G\\backslash E) = 0$."
   ]
  },
  {
   "cell_type": "markdown",
   "id": "7f83c4e7",
   "metadata": {},
   "source": [
    "Since $G$ is a $G_\\delta$ set, $G$ is a Borel set and is thus measurable. Further, $m^*(G\\backslash E) = 0$ meaning $G\\backslash E$ is measurable as well. Therefore $G\\backslash(G\\backslash E) = E$ must be measureable. $\\blacksquare$"
   ]
  },
  {
   "cell_type": "markdown",
   "id": "04b42819",
   "metadata": {},
   "source": [
    "(i)$\\to$(iii)"
   ]
  },
  {
   "cell_type": "markdown",
   "id": "e2930ffc",
   "metadata": {},
   "source": [
    "Assume that $E\\subseteq\\mathbb{R}$ is measurable. Measurability is closed under complements meaning $E^c$ is also measurable."
   ]
  },
  {
   "cell_type": "markdown",
   "id": "aad00c46",
   "metadata": {},
   "source": [
    "By (ii), there is an open set $O$ such that $E^c\\subset O$ and $m^*(O\\backslash E^c) < \\epsilon$ for $\\epsilon> 0$. The set $O\\backslash E^c$ will be everything in $O$ not in the complement of $E$. Everything not in the complement of $E$ will just be $E$ itself. Therefore, $O\\backslash E^c$ will be every element in $O$ and $E$ meaning $O\\backslash E^c = O\\cap E$. By the same logic,  $O\\cap E = E\\backslash O^c$.\n",
    "\n",
    "Combining these gives the equality $E\\backslash O^c = O\\backslash E^c$ meaning $m^*(E\\backslash O^c) = m^*(O\\backslash E^c)<\\epsilon$. \n",
    "\n",
    "$O$ is open meaning $O^c$ is closed."
   ]
  },
  {
   "cell_type": "markdown",
   "id": "143bca13",
   "metadata": {},
   "source": [
    "Thus, there is a closed set $F=O^c\\subset E$ with $m^*(E\\backslash F) < \\epsilon$. $\\blacksquare$"
   ]
  },
  {
   "cell_type": "markdown",
   "id": "1385f422",
   "metadata": {},
   "source": [
    "$\\textbf{4)}$\n",
    "\n",
    "We want to give an example of a continuous function $g$ and a measurable function $h$ such that $h \\circ g$ is not measurable."
   ]
  },
  {
   "cell_type": "markdown",
   "id": "278b18d5",
   "metadata": {},
   "source": [
    "Let $g:[0,1]\\to[0,1]$ be the Cantor function and let $h:[0,1]\\to[0,2] = g(x) + x$. The Cantor function is measurable and function $h$ is continuous."
   ]
  },
  {
   "cell_type": "markdown",
   "id": "d7a2e7e2",
   "metadata": {},
   "source": [
    "Since $h$ is continuous, its inverse $f(x) = h^{-1}(x)$ is continuous as well. Let $\\mathcal{C}$ be the Cantor set. By the definition of the Cantor function, we have that $g$ is constant over the set $[0,1]\\backslash\\mathcal{C}$ meaning that its measure on $[0,1]$ will simply be the length of $\\mathcal{[0,1]\\backslash\\mathcal{C}}$. Thus, $m(g(\\mathcal{[0,1]\\backslash\\mathcal{C}})) = 1$ on $[0,1]$. \n",
    "\n",
    "Therefore, $m(h(\\mathcal{C})) = 1$ on $[0,2]$ since $h$ must map $\\mathcal{C}$ to an interval which has the same length as $g(\\mathcal{[0,1]\\backslash\\mathcal{C}})$."
   ]
  },
  {
   "cell_type": "markdown",
   "id": "69df816d",
   "metadata": {},
   "source": [
    "We have that $m(h(\\mathcal{C})) = 1\\neq 0$ meaning that by Vitali's theorem, there must be an $S \\subseteq h(\\mathcal{C})$ which is not measurable."
   ]
  },
  {
   "cell_type": "markdown",
   "id": "ba3c5c0c",
   "metadata": {},
   "source": [
    "Let $X = f(S)$. Clearly, $X\\subseteq \\mathcal{C}$ since $f(S) = h^{-1}(S) \\subseteq \\mathcal{C}$. Thus, $X$ is measurable since it is the subset of a set with measure zero."
   ]
  },
  {
   "cell_type": "markdown",
   "id": "ef6e7cf5",
   "metadata": {},
   "source": [
    "Notice then, that the function $h \\circ g$ cannot be measurable since $(h \\circ g)(X) = h(h(X) \\backslash X) = h(S\\backslash X) = g(S\\backslash X) \\cup (S\\backslash X)$ is not measurable."
   ]
  },
  {
   "cell_type": "markdown",
   "id": "9a055aff",
   "metadata": {},
   "source": [
    "Vitali's Theorem: Given a set $A \\subseteq \\mathbb{R}$, set $A$ will have measure zero if and only if each $S\\subseteq A$ is measurable."
   ]
  }
 ],
 "metadata": {
  "kernelspec": {
   "display_name": "Julia 1.6.2",
   "language": "julia",
   "name": "julia-1.6"
  },
  "language_info": {
   "file_extension": ".jl",
   "mimetype": "application/julia",
   "name": "julia",
   "version": "1.6.2"
  }
 },
 "nbformat": 4,
 "nbformat_minor": 5
}
