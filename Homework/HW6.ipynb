{
 "cells": [
  {
   "cell_type": "markdown",
   "id": "ffc2f2a8",
   "metadata": {},
   "source": [
    "# Real Analysis Homework 6\n",
    "\n",
    "Isaac Hawn"
   ]
  },
  {
   "cell_type": "markdown",
   "id": "fa3b9376",
   "metadata": {},
   "source": [
    "$\\textbf{1)}$\n",
    "\n",
    "We want to prove proposition 15 which states that for $E\\subseteq\\mathbb{R}$:\n",
    "\n",
    "(i) $E$ is measurable\n",
    "\n",
    "(ii) Given $\\epsilon >0$ there is an open set $O\\supset E$ such that $m^*(O\\backslash E)<\\epsilon$\n",
    "\n",
    "(iii) Given $\\epsilon > 0$, there is a closed set $F\\subset E$ with $m^*(E\\backslash F) < \\epsilon$\n",
    "\n",
    "(iv) There is a $G$ in $G_\\delta$ with $E\\subset G$, $m^*(G\\backslash E) = 0$\n",
    "\n",
    "(v) There is an $F$ in $F_\\sigma$ with $F\\subset E$, $m^*(E\\backslash F) = 0$\n",
    "\n",
    "If $m^* (E) < \\infty$, the above are equivalent to:\n",
    "\n",
    "(vi) For all $\\epsilon> 0$ there is a finite union $U$ of open intervals such that $m^* (U\\Delta E) < \\epsilon$"
   ]
  },
  {
   "cell_type": "markdown",
   "id": "a2c63fa3",
   "metadata": {},
   "source": [
    "(i)$\\to$(ii) if $m^*(E) < \\infty$"
   ]
  },
  {
   "cell_type": "markdown",
   "id": "96636b17",
   "metadata": {},
   "source": [
    "Assume (i) and $m^*(E) < \\infty$. Then there exist a countable collection of open intervals $\\{I_n\\}$ covering $E$. Let $O = \\bigcup_{n\\in\\mathbb{N}} I_n$. Then $E\\subset O$ since $O$ is the countable union of open sets covering $E$."
   ]
  },
  {
   "cell_type": "markdown",
   "id": "66b6884a",
   "metadata": {},
   "source": [
    "By Proposition 5, we will have that $m^*O \\leq m^*E + \\epsilon$. Since the outer measure of an interval will just be its length, we have that $m^*(O\\backslash E) = \\ell(\\bigcup I_n) - m^*(E) \\leq \\ell(\\sum I_n) - m^*(E) < \\epsilon$ since $O$ is open. Thus, $m^*(O\\backslash E)<\\epsilon$. $\\blacksquare$"
   ]
  },
  {
   "cell_type": "markdown",
   "id": "c01f78b4",
   "metadata": {},
   "source": [
    "(ii)$\\to$(vi)"
   ]
  },
  {
   "cell_type": "markdown",
   "id": "7f57a213",
   "metadata": {},
   "source": [
    "Assume that given $\\epsilon >0$ there is an open set $O\\supset E$ such that $m^*(O\\backslash E)<\\epsilon$ and $m^*(E) < \\infty$."
   ]
  },
  {
   "cell_type": "markdown",
   "id": "60f4c614",
   "metadata": {},
   "source": [
    "$m^*(O\\backslash E)<\\epsilon$ implies $m^*(O)<m^*(E) + \\epsilon$. Let $\\{I_n\\}$ be a collection of disjoint open intervals such that $O = \\dot\\bigcup I_n$ meaning that $m^*(O) = \\ell(\\bigcup I_n) < m^*(E) + \\epsilon$."
   ]
  },
  {
   "cell_type": "markdown",
   "id": "ed3c4b48",
   "metadata": {},
   "source": [
    "Since $\\{I_n\\}$ is disjoint, the length of its union, must equal the sum of the lengths of its elements. In other words, $\\ell(\\bigcup I_n) = \\ell(\\sum_{n=1}^\\infty I_n)$ meaning that $\\ell(\\sum_{n=1}^\\infty I_n) < m^*(E) + \\epsilon$."
   ]
  },
  {
   "cell_type": "markdown",
   "id": "4e3dad6f",
   "metadata": {},
   "source": [
    "We can partition this sum like so:\n",
    "\n",
    "$$\\ell\\left(\\sum_{n=1}^k I_n\\right) + \\ell\\left(\\sum_{n=k+1}^\\infty I_n\\right) < m^*(E) + \\epsilon$$\n",
    "\n",
    "For some $k\\in\\mathbb{N}$. \n",
    "\n",
    "Since $k$ is arbitrary, let $k$ be such that  $\\ell(\\sum_{n=k+1}^\\infty I_n) < \\epsilon$ meaning that $\\ell(\\sum_{n=1}^k I_n) = m^*(E)$."
   ]
  },
  {
   "cell_type": "markdown",
   "id": "7a466a62",
   "metadata": {},
   "source": [
    "Define set $U$ as $U = \\bigcup_{n=1}^kI_n$ meaning that $m^*(U) \\leq m^*(O)$. We already have that $m^*(E) \\leq m^*(O)$ since $E\\subset O$."
   ]
  },
  {
   "cell_type": "markdown",
   "id": "86a814fe",
   "metadata": {},
   "source": [
    "Thus, for $m^*(U\\Delta E) = m^*((U\\backslash E)\\cup(E\\backslash U))$, we must have that \n",
    "$$m^*((U\\backslash E)\\cup(E\\backslash U))\\leq m^*((O\\backslash E)\\cup(O\\backslash U)) = m^*(O\\backslash E)+m^*(O\\backslash U) < \\epsilon + \\epsilon = 2\\epsilon$$"
   ]
  },
  {
   "cell_type": "markdown",
   "id": "13113e5b",
   "metadata": {},
   "source": [
    "Since $m^*(U) \\leq m^*(O)$, $m^*(E) \\leq m^*(O)$, $m^*(O\\backslash E)<\\epsilon$ and $m^*(E) <\\infty$."
   ]
  },
  {
   "cell_type": "markdown",
   "id": "96f77420",
   "metadata": {},
   "source": [
    "Since $\\epsilon$ is arbitrary, we can drop the $2$ to obtain $m^*(U\\Delta E) < \\epsilon$. $\\blacksquare$"
   ]
  },
  {
   "cell_type": "markdown",
   "id": "1b1d71e0",
   "metadata": {},
   "source": [
    "(vi)$\\to$(ii)\n",
    "\n"
   ]
  },
  {
   "cell_type": "markdown",
   "id": "0cfffefb",
   "metadata": {},
   "source": [
    "Assume that $m^* (E) < \\infty$ and for all $\\epsilon> 0$ there is a finite union $U$ of open intervals such that $m^* (U\\Delta E) < \\epsilon$."
   ]
  },
  {
   "cell_type": "markdown",
   "id": "f63adac5",
   "metadata": {},
   "source": [
    "As before, let $O = \\bigcup_{n=1}^\\infty I_n$ and $U = \\bigcup_{n=1}^k I_n$ where $\\{I_n\\}$ is a collection of open intervals that covers $E$."
   ]
  },
  {
   "cell_type": "markdown",
   "id": "ed67d114",
   "metadata": {},
   "source": [
    "Clearly $E\\subset O$ meaning that $E\\backslash U\\subset O$. By Proposition 5, we have that $m^*(O) \\leq m^*(E\\backslash U) + \\epsilon$ meaning that $m^*(O\\backslash (E\\backslash U)) < \\epsilon$."
   ]
  },
  {
   "cell_type": "markdown",
   "id": "4fd1d058",
   "metadata": {},
   "source": [
    "We have $m^*(U\\Delta E) = m^*((U\\backslash E))\\cup(E\\backslash U))<\\epsilon$ meaning that if we combine these two equations, we see:\n",
    "\n",
    "$$m^*((U\\backslash E))\\cup(E\\backslash U)\\cup(O\\backslash (E\\backslash U)))< 2\\epsilon$$"
   ]
  },
  {
   "cell_type": "markdown",
   "id": "4ba29e16",
   "metadata": {},
   "source": [
    "Clearly, $(U\\backslash E))\\cup(E\\backslash U) \\subset O$ since $U\\subset O$ and $E\\subset O$. Further, $(E\\backslash U)\\cup(O\\backslash (E\\backslash U)) = O$. Therefore:\n",
    "\n",
    "$$m^*(O\\backslash E) \\leq m^*((U\\backslash E))\\cup(E\\backslash U)\\cup(O\\backslash (E\\backslash U))) = m^*(O) < 2\\epsilon$$"
   ]
  },
  {
   "cell_type": "markdown",
   "id": "f4678755",
   "metadata": {},
   "source": [
    "Thus, there is an open set $O\\supset E$ such that $m^*(O\\backslash E)<\\epsilon$. $\\blacksquare$"
   ]
  },
  {
   "cell_type": "markdown",
   "id": "21546f1e",
   "metadata": {},
   "source": [
    "(i)$\\to$(ii) if $m^*(E) = \\infty$"
   ]
  },
  {
   "cell_type": "markdown",
   "id": "063f0de9",
   "metadata": {},
   "source": [
    "Assume that $E$ is measurable. Define a sequence of sets $E_n$ to be $E_n = E\\cap[-n,n]$. By Proposition $5$, for each $E_n$, there is an open set $O_n$ such that $E_n \\subset O_n$ and $m^*(O_n\\backslash E_n) < m^*(O_n)-m^*(E_n)\\leq\\frac{\\epsilon}{n}$."
   ]
  },
  {
   "cell_type": "markdown",
   "id": "d7dfb3d6",
   "metadata": {},
   "source": [
    "Let $E=\\bigcup E_n$ and $O=\\bigcup O_n$ giving  $m^*(O\\backslash E) = m^*(\\bigcup O_n) \\backslash (\\bigcup E_n) < \\epsilon$. Further, we have that $E\\subset O$ since $E_n \\subset O_n$ for all $n\\in\\mathbb{N}$."
   ]
  },
  {
   "cell_type": "markdown",
   "id": "74731dd7",
   "metadata": {},
   "source": [
    "Therefore, there is an open set $O\\supset E$ such that $m^*(O\\backslash E)<\\epsilon$. $\\blacksquare$"
   ]
  },
  {
   "cell_type": "markdown",
   "id": "b6f4c070",
   "metadata": {},
   "source": [
    "(ii)$\\to$(iv)"
   ]
  },
  {
   "cell_type": "markdown",
   "id": "34e8d19b",
   "metadata": {},
   "source": [
    "Assume that given $\\epsilon >0$ there is an open set $O\\supset E$ such that $m^*(O\\backslash E)<\\epsilon$"
   ]
  },
  {
   "cell_type": "markdown",
   "id": "627a0099",
   "metadata": {},
   "source": [
    "Let set $G$ be the countable intersection of $O_n$ for $n\\in\\mathbb{N}$. Then we will have that $E\\subset G$ since $E\\subset O$. Further, we have that $G\\in G_\\delta$ since we took $G$ to be the countable intersection of open $O_n$.\n",
    "\n",
    "The construction of $G$ and $m^*(O\\backslash E) < \\epsilon$ implies that $m^*(G\\backslash E) < \\epsilon$. Let $\\epsilon = \\frac1n$. Since we have that $m^*(G\\backslash E) < \\epsilon = \\frac1n$ for any $n$, we will have that $m^*(G\\backslash E) = 0$. $\\blacksquare$"
   ]
  },
  {
   "cell_type": "markdown",
   "id": "20fb7e2f",
   "metadata": {},
   "source": [
    "(iv)$\\to$(i)"
   ]
  },
  {
   "cell_type": "markdown",
   "id": "04a52d4f",
   "metadata": {},
   "source": [
    "Assume that there is a $G$ in $G_\\delta$ with $E\\subset G$, $m^*(G\\backslash E) = 0$."
   ]
  },
  {
   "cell_type": "markdown",
   "id": "d0df1a6b",
   "metadata": {},
   "source": [
    "Since $G$ is a $G_\\delta$ set, $G$ is a Borel set and is thus measurable. Further, $m^*(G\\backslash E) = 0$ meaning $G\\backslash E$ is measurable as well. Therefore $G\\backslash(G\\backslash E) = E$ must be measureable. $\\blacksquare$"
   ]
  },
  {
   "cell_type": "markdown",
   "id": "f678a476",
   "metadata": {},
   "source": [
    "(i)$\\to$(iii)"
   ]
  },
  {
   "cell_type": "markdown",
   "id": "4098d584",
   "metadata": {},
   "source": [
    "Assume that $E\\subseteq\\mathbb{R}$ is measurable. Measurability is closed under complements meaning $E^c$ is also measurable."
   ]
  },
  {
   "cell_type": "markdown",
   "id": "5e272060",
   "metadata": {},
   "source": [
    "By (ii), there is an open set $O$ such that $E^c\\subset O$ and $m^*(O\\backslash E^c) < \\epsilon$ for $\\epsilon> 0$. The set $O\\backslash E^c$ will be everything in $O$ not in the complement of $E$ or just $E$ itself. Therefore, $O\\backslash E^c$ will be every element in $O$ and $E$ meaning $O\\backslash E^c = O\\cap E$. By the same logic,  $O\\cap E = E\\backslash O^c$.\n",
    "\n",
    "Combining these gives the equality $E\\backslash O^c = O\\backslash E^c$ meaning $m^*(E\\backslash O^c) = m^*(O\\backslash E^c)<\\epsilon$. \n",
    "\n",
    "$O$ is open meaning $O^c$ is closed."
   ]
  },
  {
   "cell_type": "markdown",
   "id": "07e11557",
   "metadata": {},
   "source": [
    "Thus, there is a closed set $F=O^c\\subset E$ with $m^*(E\\backslash F) < \\epsilon$. $\\blacksquare$"
   ]
  },
  {
   "cell_type": "markdown",
   "id": "c0fcb029",
   "metadata": {},
   "source": [
    "(iii)$\\to$(v)"
   ]
  },
  {
   "cell_type": "markdown",
   "id": "e6a2c540",
   "metadata": {},
   "source": [
    "Assume that given $\\epsilon > 0$, there is a closed set $F\\subset E$ with $m^*(E\\backslash F) < \\epsilon$."
   ]
  },
  {
   "cell_type": "markdown",
   "id": "9c273106",
   "metadata": {},
   "source": [
    "Let $\\{F_n\\}$ be the collection of closed subsets of $E$ such that $F = \\bigcup_{n\\in\\mathbb{N}} F_n$. Clearly $F$ is in $F_\\sigma$ since it is the countable union of closed sets."
   ]
  },
  {
   "cell_type": "markdown",
   "id": "8683b4ae",
   "metadata": {},
   "source": [
    "Then by the assumption, we have that for each $F_n$, $m^*(E\\backslash F_n) < \\eta$ for each $\\eta > 0$. Let $\\eta = \\frac1n$ which gives $m^*(E\\backslash F_n) = 0$"
   ]
  },
  {
   "cell_type": "markdown",
   "id": "9917b6cc",
   "metadata": {},
   "source": [
    "Since $F_n\\subset F$, we must have $m^*(E\\backslash F) \\leq m^*(E\\backslash F_n) = 0$ meaning that $m^*(E\\backslash F) = 0$."
   ]
  },
  {
   "cell_type": "markdown",
   "id": "43053e29",
   "metadata": {},
   "source": [
    "Therefore, there is an $F$ in $F_\\sigma$ with $F\\subset E$, $m^*(E\\backslash F) = 0$. $\\blacksquare$"
   ]
  },
  {
   "cell_type": "markdown",
   "id": "87eb4651",
   "metadata": {},
   "source": [
    "(v)$\\to$(i)"
   ]
  },
  {
   "cell_type": "markdown",
   "id": "f64d76e0",
   "metadata": {},
   "source": [
    "Assume that there is an $F$ in $F_\\sigma$ with $F\\subset E$, $m^*(E\\backslash F) = 0$"
   ]
  },
  {
   "cell_type": "markdown",
   "id": "ce325daf",
   "metadata": {},
   "source": [
    "Set $F$ is Borel since it is $F_\\sigma$. Thus $F$ is measurable. Set $E\\backslash F$ has outer measure $0$ so it too is measurable. Measurability is closed under finite unions so $(E\\backslash F) \\cup F = E$ is measurable. $\\blacksquare$"
   ]
  },
  {
   "cell_type": "markdown",
   "id": "db6e3aeb",
   "metadata": {},
   "source": [
    "$\\textbf{2)}$ Duplicate $\\to$ ignore. $\\blacksquare$"
   ]
  },
  {
   "cell_type": "markdown",
   "id": "6234fa5e",
   "metadata": {},
   "source": [
    "$\\textbf{3)}$\n",
    "\n",
    "We want to show that if $m^*(A) > 0$, then $A$ contains a nonmeasurable subset $E$."
   ]
  },
  {
   "cell_type": "markdown",
   "id": "0492eea9",
   "metadata": {},
   "source": [
    "Proof:\n",
    "\n",
    "Consider set $B\\subseteq[0,1)$ with positive outer measure. Define the sum modulo $1$ operation to be as it is in the text. In other words, for $x,y\\in B$, define $x ⨢ y = \\begin{cases} x + y,\\;\\;x+y<1 \\\\ x + y - 1,\\;\\;x+y\\geq 1 \\end{cases}$. Further, partition $B$ into equivalence classses where $x\\mathcal{R}y$ if $x-y \\in \\mathbb{Q}$."
   ]
  },
  {
   "cell_type": "markdown",
   "id": "60a6aaea",
   "metadata": {},
   "source": [
    "By the Axiom of Choice, there exists a set $P$ which contains exactly one element from each equivalence class. Let the sequence $\\left<r_n\\right>_{n=1}^\\infty$ enumerate each rational in $B$. Since all the rationals in $B$ are countable, define $E_i = B\\cap (P ⨢ r_i)$ for each $i$."
   ]
  },
  {
   "cell_type": "markdown",
   "id": "08a23363",
   "metadata": {},
   "source": [
    "Let $E = \\bigcup E_i$. Assuming $E$ is measurable, we see $m(E_i) = m(B\\cap (P ⨢ r_i)$. Problem $15$ gives us that for measurable $E_i$ and $E_i\\subset B\\cap (P ⨢ r_i)$, we will have that $m(E_i) = 0$. We see this is the case since $m(P ⨢ r_i) = 0$ and $E_i \\subset B$. Thus, $M(E_i) = 0$."
   ]
  },
  {
   "cell_type": "markdown",
   "id": "c408705b",
   "metadata": {},
   "source": [
    "However,  $\\sum m^*(E_i) \\geq m^*(B) > 0$ by subadditivity which is a contradiction."
   ]
  },
  {
   "cell_type": "markdown",
   "id": "492be8b4",
   "metadata": {},
   "source": [
    "Thus, the set $B\\subseteq[0,1)$ with $m^*(B) > 0$ contains a nonmeasurable subset. Due to translation invariance, we can say without loss of generality that the set $A\\subseteq\\mathbb{R}$ with $m^*(A) > 0$ also contains a nonmeasurable subset. $\\blacksquare$"
   ]
  },
  {
   "cell_type": "markdown",
   "id": "1385f422",
   "metadata": {},
   "source": [
    "$\\textbf{4)}$\n",
    "\n",
    "We want to give an example of a continuous function $g$ and a measurable function $h$ such that $h \\circ g$ is not measurable."
   ]
  },
  {
   "cell_type": "markdown",
   "id": "278b18d5",
   "metadata": {},
   "source": [
    "Let $f_1:[0,1]\\to[0,1]$ be the Cantor function and let $f:[0,1]\\to[0,2] = f_1(x) + x$."
   ]
  },
  {
   "cell_type": "markdown",
   "id": "d7a2e7e2",
   "metadata": {},
   "source": [
    "Let $\\mathcal{C}$ be the Cantor set. By the definition of the Cantor function, we have that $f_1$ is constant over the set $[0,1]\\backslash\\mathcal{C}$ meaning that its measure on $[0,1]$ will simply be the length of $\\mathcal{[0,1]\\backslash\\mathcal{C}}$. Thus, $m(f_1(\\mathcal{[0,1]\\backslash\\mathcal{C}})) = 1$ on $[0,1]$. \n",
    "\n",
    "Therefore, $m(f(\\mathcal{C})) = 1$ on $[0,2]$ since $f$ must map $\\mathcal{C}$ to an interval which has the same length as $f_1(\\mathcal{[0,1]\\backslash\\mathcal{C}})$."
   ]
  },
  {
   "cell_type": "markdown",
   "id": "69df816d",
   "metadata": {},
   "source": [
    "Thus by the previous problem, for $m(f(\\mathcal{C})) = 1> 0$, there must be an $S \\subseteq f(\\mathcal{C})$ which is not measurable."
   ]
  },
  {
   "cell_type": "markdown",
   "id": "ba3c5c0c",
   "metadata": {},
   "source": [
    "Define $A$ and $g$ such that $g = f^{-1}$ and $A = f^{-1}(S)\\subset \\mathcal{C}$ meaning $A$ is measurable since it is the subset of a set with measure zero. Further, $g$ is continuous since it is the inverse of a continuouse, one-to-one function. Define characteristic function $h = \\chi_A$. Function $h$ will be measurable since $A$ is measurable."
   ]
  },
  {
   "cell_type": "markdown",
   "id": "9aaeead5",
   "metadata": {},
   "source": [
    "However, $(h\\circ g)^{-1}(A) = g^{-1}(A) = f(A) = S$ which is not measurable. $\\blacksquare$"
   ]
  }
 ],
 "metadata": {
  "kernelspec": {
   "display_name": "Julia 1.6.1",
   "language": "julia",
   "name": "julia-1.6"
  },
  "language_info": {
   "file_extension": ".jl",
   "mimetype": "application/julia",
   "name": "julia",
   "version": "1.6.1"
  }
 },
 "nbformat": 4,
 "nbformat_minor": 5
}
