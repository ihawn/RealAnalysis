{
 "cells": [
  {
   "cell_type": "markdown",
   "id": "ffc2f2a8",
   "metadata": {},
   "source": [
    "# Real Analysis Homework 6\n",
    "\n",
    "Isaac Hawn"
   ]
  },
  {
   "cell_type": "markdown",
   "id": "1385f422",
   "metadata": {},
   "source": [
    "$\\textbf{4)}$\n",
    "\n",
    "We want to give an example of a continuous function $g$ and a measurable function $h$ such that $h \\circ g$ is not measurable."
   ]
  },
  {
   "cell_type": "markdown",
   "id": "278b18d5",
   "metadata": {},
   "source": [
    "Let $g:[0,1]\\to[0,1]$ be the Cantor function and let $h:[0,1]\\to[0,2] = g(x) + x$. The Cantor function is continuous and therefore measurable. By proposition $19$, function $h$ is measurable as well."
   ]
  },
  {
   "cell_type": "markdown",
   "id": "d7a2e7e2",
   "metadata": {},
   "source": [
    "Since $h$ is continuous, its inverse $f(x) = h^{-1}(x)$ is continuous as well. Let $\\mathcal{C}$ be the Cantor set. By the definition of the Cantor function, we have that $g$ is constant over the set $[0,1]\\backslash\\mathcal{C}$ meaning that its measure on $[0,1]$ will simply be the length of $\\mathcal{[0,1]\\backslash\\mathcal{C}}$. Thus, $m(g(\\mathcal{[0,1]\\backslash\\mathcal{C}})) = 1$ on $[0,1]$. \n",
    "\n",
    "Therefore, $m(h(\\mathcal{C})) = 1$ on $[0,2]$ since $h$ must map $\\mathcal{C}$ to an interval which has the same length as $g(\\mathcal{[0,1]\\backslash\\mathcal{C}})$."
   ]
  },
  {
   "cell_type": "markdown",
   "id": "69df816d",
   "metadata": {},
   "source": [
    "We have that $m(h(\\mathcal{C})) = 1\\neq 0$ meaning that by Vitali's theorem, there must be an $S \\subseteq h(\\mathcal{C})$ which is not measurable."
   ]
  },
  {
   "cell_type": "markdown",
   "id": "ba3c5c0c",
   "metadata": {},
   "source": [
    "Let $X = f(S)$. Clearly, $X\\subseteq \\mathcal{C}$ since $f(S) = h^{-1}(S) \\subseteq \\mathcal{C}$. Thus, $X$ is measurable since it is the subset of a set with measure zero."
   ]
  },
  {
   "cell_type": "markdown",
   "id": "ef6e7cf5",
   "metadata": {},
   "source": [
    "Notice then, that the function $h \\circ g$ cannot be measurable since $(h \\circ g)(X) = h(h(X) \\backslash X) = h(S\\backslash X) = g(S\\backslash X) \\cup (S\\backslash X)$ is not measurable."
   ]
  },
  {
   "cell_type": "markdown",
   "id": "9a055aff",
   "metadata": {},
   "source": [
    "Vitali's Theorem: Given a set $A \\subseteq \\mathbb{R}$, set $A$ will have measure zero if and only if each $S\\subseteq A$ is measurable."
   ]
  }
 ],
 "metadata": {
  "kernelspec": {
   "display_name": "Julia 1.6.2",
   "language": "julia",
   "name": "julia-1.6"
  },
  "language_info": {
   "file_extension": ".jl",
   "mimetype": "application/julia",
   "name": "julia",
   "version": "1.6.2"
  }
 },
 "nbformat": 4,
 "nbformat_minor": 5
}
