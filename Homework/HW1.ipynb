{
 "cells": [
  {
   "cell_type": "markdown",
   "metadata": {},
   "source": [
    "# Real Analysis Homework 1\n",
    "\n",
    "Isaac Hawn\n",
    "\n",
    "$\\textbf{1)}$\n",
    "\n",
    "We want to prove for every collection of subsets of a given set $X$, there is a smallest $\\sigma$-algebra that contains it.\n",
    "\n",
    "Proof:\n",
    "\n",
    "Let $B$ be an arbitrary collection of subsets of $X$ and let $C$ be the collection of all $\\sigma$-algebras containing it.\n",
    "\n",
    "We first need to show that $C$ is non-empty: By definition, $B \\in \\mathcal{P}(X)$. Further $\\mathcal{P}(X)$ is a $\\sigma$-algebra because it is closed under complements and countable unions. Thus, $\\mathcal{P}(X) \\in C$ meaning $C$ is non-empty.\n",
    "\n",
    "Next, we need to show that there is a smallest member of $C$: Define $H$ as the set of all sets contained in $C$. Let $D = \\bigcap H$ meaning that $D$ is also a $\\sigma$-algebra containing $B$. Let $G$ be a set contained in $H$. Since $D$ is the intersection of all such sets, $\\mathbf{card}(D) < \\mathbf{card}(G) \\; \\forall G \\in H, G \\neq D$. In other words, $D$ is the smallest $\\sigma$-algebra that contains $B$. $\\blacksquare$"
   ]
  },
  {
   "cell_type": "markdown",
   "metadata": {},
   "source": [
    "$\\textbf{2)}$ \n",
    "\n",
    "We have that $f$ is the function from set $X$ to its power set $\\mathcal{P}(x)$. We want to show that there is a set $E \\in \\mathcal{P(x)}$ such that $E \\notin f(X)$."
   ]
  },
  {
   "cell_type": "markdown",
   "metadata": {},
   "source": [
    "Proof:\n",
    "\n",
    "Let $E \\subset X$ such that $E = \\{x \\in X : x \\notin f(x)\\}$ and assume $f(y) = E$ for some $y \\in X$. Consider the following two cases:\n",
    "\n",
    "1) $y \\in f(y)$: If this is the case then $y \\in E$ since $f(y) = E$ but this contradicts the definition of $E$ since in order to be in $E$, $y$ must not be in $f(y)$.\n",
    "\n",
    "2) $y \\notin f(y)$: In this case, $y \\notin E$ since $y \\notin f(y) = E$, but $y$ must be in $E$ since $y \\notin f(y)$ so this is another contradiction.\n",
    "\n",
    "Therefore, we must conclude that $f(y) \\neq E \\; \\forall y \\in X$ implying that $E \\notin f(X)$. $\\blacksquare$\n",
    "\n",
    "In addition, we can conclude that $\\mathbf{card}(X) < \\mathbf{card}(\\mathcal{P}(X))$."
   ]
  },
  {
   "cell_type": "markdown",
   "metadata": {},
   "source": [
    "$\\textbf{3)}$\n",
    "\n",
    "We want to provide an example of a partially ordered set $(X, \\prec)$ which has a unique minimal element but no smallest element."
   ]
  },
  {
   "cell_type": "markdown",
   "metadata": {},
   "source": [
    "Consider the set $X = \\{x : x = 2^n \\; \\text{for} \\; n \\in \\mathbb{Z}^{+} : n > 0\\}$. We define $x \\preceq y$ for $x, y \\in X$ to mean either $x = y = 2$ or $x^y < y^x$. \n",
    "\n",
    "Here, $2$ is the minimal element since there is no $x \\in X$ such that $x < 2$. However, $2$ is not the smallest element because $2 \\npreceq 4$."
   ]
  },
  {
   "cell_type": "markdown",
   "metadata": {},
   "source": [
    "$\\textbf{4)}$\n",
    "\n",
    "We want to show that if a strictly linearly ordered set has no strictly decreasing subsequence then it is a well-ordered set."
   ]
  },
  {
   "cell_type": "markdown",
   "metadata": {},
   "source": [
    "Proof:\n",
    "\n",
    "Let $X$ be a strictly linearly ordered set with no strictly decreasing subsequences. Since $X$ has no strictly decreasing subsequences, none of its subsets will either. Let $S \\subseteq X$ and choose a subsequence $P =\\{x_i : i \\in \\mathbb{N}\\} \\subseteq S$ such that $P$ decreases for finitely many iterations like so: $x_1 > x_2 > \\cdots > x_n < x_{n+1}$. Since $P$ decreases for finitely many iterations, it must contain an element with no elements in $P$ that are smaller. In other words $P$ has a minimal element. The strict linear ordering of $X$ implies that this minimal element is also the smallest. Therefore, all subsets of $X$ contain a smallest element meaning that $X$ is well-ordered. $\\blacksquare$"
   ]
  }
 ],
 "metadata": {
  "kernelspec": {
   "display_name": "Julia 1.6.1",
   "language": "julia",
   "name": "julia-1.6"
  },
  "language_info": {
   "file_extension": ".jl",
   "mimetype": "application/julia",
   "name": "julia",
   "version": "1.6.1"
  }
 },
 "nbformat": 4,
 "nbformat_minor": 4
}
