{
 "cells": [
  {
   "cell_type": "markdown",
   "id": "403e504f",
   "metadata": {},
   "source": [
    "# Real Analysis Homework 5\n",
    "\n",
    "Isaac Hawn"
   ]
  },
  {
   "cell_type": "markdown",
   "id": "01692d00",
   "metadata": {},
   "source": [
    "$\\textbf{3)}$\n",
    "\n",
    "Assuming set $E$ is measurable, we want to prove that the set $E+y$ is also measurable for every $y\\in\\mathbb{R}$ and $m(E+y) = m(E)$."
   ]
  },
  {
   "cell_type": "markdown",
   "id": "0e68ba9e",
   "metadata": {},
   "source": [
    "Proof of translation invariance:\n",
    "\n",
    "Let $E$ be a set and let $\\left<I_n\\right>_{n\\in\\mathbb{N}}$ be a collection of open intervals that cover $E$. Then, for $y\\in\\mathbb{R}$ we have that the sequence of intervals $\\left<I_n+y\\right>_{n\\in\\mathbb{N}}$ covers $E+y$."
   ]
  },
  {
   "cell_type": "markdown",
   "id": "0513405c",
   "metadata": {},
   "source": [
    "Then we have the following from the definition of $m^*(E)$:\n",
    "\n",
    "$$\n",
    "m^*(E) = \\inf_{A\\subset \\cup I_n} \\sum_n \\ell(I_n) = \\inf_{A\\subset \\cup I_n} \\sum_n \\ell(I_n+y)\\geq m^*(E+y)\\;\\;\\text{Since }\\ell \\text{ is translation invariant}\n",
    "$$\n",
    "\n",
    "Thus, $m^*(E+y)\\leq m^*(E)$"
   ]
  },
  {
   "cell_type": "markdown",
   "id": "2306acdc",
   "metadata": {},
   "source": [
    "In the same way, for $y\\in\\mathbb{R}$ we have that the sequence of intervals $\\left<I_n-y\\right>_{n\\in\\mathbb{N}}$ covers $E-y$. Thus:\n",
    "\n",
    "$$\n",
    "m^*(E) = \\inf_{A\\subset\\cup I_n} \\sum_n \\ell(I_n) = \\inf_{A\\subset\\cup I_n} \\sum_n \\ell(I_n-y)\\leq m^*(E-y) \n",
    "$$\n",
    "\n",
    "Thus, $m^*(E+y)\\geq m^*(E)$"
   ]
  },
  {
   "cell_type": "markdown",
   "id": "460d6336",
   "metadata": {},
   "source": [
    "Therefore, $m^*(E+y) = m^*(E)$"
   ]
  },
  {
   "cell_type": "code",
   "execution_count": null,
   "id": "aab74655",
   "metadata": {},
   "outputs": [],
   "source": []
  },
  {
   "cell_type": "markdown",
   "id": "9c309b6a",
   "metadata": {},
   "source": [
    "Proof:\n",
    "\n",
    "By the definition in the text, a set $E$ is measurable if for each set $A$ we have that $m^*A = m^*(A\\cap E) + m^*(A\\cap E^c)$."
   ]
  },
  {
   "cell_type": "markdown",
   "id": "159374c5",
   "metadata": {},
   "source": [
    "With this definition in mind, we have:\n",
    "\n",
    "$$\n",
    "\\begin{align}\n",
    "m^*(A-y) &= m^*(A\\cap E) + m^*(A\\cap E^c)\\\\\n",
    "&= m^*((A\\cap E)+y) + m^*((A-y\\cap E^c)+y)\n",
    "\\end{align}\n",
    "$$"
   ]
  }
 ],
 "metadata": {
  "kernelspec": {
   "display_name": "Julia 1.6.2",
   "language": "julia",
   "name": "julia-1.6"
  },
  "language_info": {
   "file_extension": ".jl",
   "mimetype": "application/julia",
   "name": "julia",
   "version": "1.6.2"
  }
 },
 "nbformat": 4,
 "nbformat_minor": 5
}
