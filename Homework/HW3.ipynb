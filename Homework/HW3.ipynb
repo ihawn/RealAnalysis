{
 "cells": [
  {
   "cell_type": "markdown",
   "id": "2930231f",
   "metadata": {},
   "source": [
    "# Real Analysis Homework 3\n",
    "\n",
    "Isaac Hawn"
   ]
  },
  {
   "cell_type": "markdown",
   "id": "030a7fe9",
   "metadata": {},
   "source": [
    "$\\textbf{1)}$\n",
    "\n",
    "We want to prove that $\\overline{\\lim} x_n + \\underline{\\lim} y_n \\leq \\overline{\\lim} (x_n + y_n) \\leq \\overline{\\lim} x_n + \\overline{\\lim} y_n$ given that the left and right sides are not in the form $\\infty - \\infty$."
   ]
  },
  {
   "cell_type": "markdown",
   "id": "84d8cf9d",
   "metadata": {},
   "source": [
    "Proof:\n",
    "\n",
    "Let $x_k$ and $y_k$ be members of the sequence for some $k > n$. Then, by the definition of the supremum, we will necessarily have that $x_k + y_k \\leq \\sup x_k + \\sup y_k$ meaning that $\\sup (x_k + y_k) \\leq \\sup x_k + \\sup y_k.$"
   ]
  },
  {
   "cell_type": "markdown",
   "id": "99f48c2c",
   "metadata": {},
   "source": [
    "By extension, we see that $\\inf_n \\sup (x_k + y_k) \\leq \\inf_n \\sup x_k + \\inf_n \\sup y_k$ which by definition is just $\\overline{\\lim} (x_n + y_n) \\leq \\overline{\\lim} x_n + \\overline{\\lim} y_n.$"
   ]
  },
  {
   "cell_type": "markdown",
   "id": "ceb0f428",
   "metadata": {},
   "source": [
    "Further, by definition, we have that $\\sup (x_k + y_k) \\geq \\sup{x_k} + \\inf{y_k}$ implying that $\\overline{\\lim} (x_k + y_k) \\geq \\overline{\\lim} x_k + \\underline{\\lim}$ y_k for $k > n$. Thus, we have that $\\overline{\\lim} (x_n + y_n) \\geq \\overline{\\lim} x_n + \\underline{\\lim} y_n$."
   ]
  },
  {
   "cell_type": "markdown",
   "id": "7ecaf826",
   "metadata": {},
   "source": [
    "Thus, we have $\\overline{\\lim} x_n + \\underline{\\lim} y_n \\leq \\overline{\\lim} (x_n + y_n) \\leq \\overline{\\lim} x_n + \\overline{\\lim} y_n$. $\\blacksquare$"
   ]
  },
  {
   "cell_type": "markdown",
   "id": "ee2709e8",
   "metadata": {},
   "source": [
    "$\\textbf{2)}$\n",
    "\n",
    "For $E \\subseteq \\mathbb{R}^+$ we have that $\\sum_{x\\in E} x$ is defined as $\\sup_{F\\in \\mathcal{F}} \\left(\\sum_{x\\in F} x\\right)$ where $\\mathcal{F}$ is a collection of all finite subsets of $E$.\n",
    "\n",
    "(a) We want to show that $\\sum_{x\\in E} x < \\infty$ only if $E$ is countable."
   ]
  },
  {
   "cell_type": "markdown",
   "id": "4f512afd",
   "metadata": {},
   "source": [
    "Proof:\n",
    "\n",
    "Assume that $E$ is uncountable and $\\sum_{x\\in E} x < \\infty$. Consider the set $E_\\epsilon = \\{x\\in E:x>\\epsilon\\}$ for $\\epsilon > 0$. Clearly, $E_\\epsilon \\subset E$ and both sets contain only positive reals. Thus the sum $\\sum_{x\\in E_\\epsilon}x$, has the following relationship:\n",
    "\n",
    "$$\\sum_{x\\in E_\\epsilon}x < \\sum_{x\\in E}x < \\infty$$"
   ]
  },
  {
   "cell_type": "markdown",
   "id": "93e1c4ca",
   "metadata": {},
   "source": [
    "This implies that $card(E_\\epsilon)$ is finite."
   ]
  },
  {
   "cell_type": "markdown",
   "id": "7e8589ba",
   "metadata": {},
   "source": [
    "Let $\\epsilon = \\frac1n$ meaning $E_n = \\{x\\in E:x\\geq\\frac1n\\}$ for $n\\in\\mathbb{R}$. Set $E_n$ is countable since its cardinality is finite. Since $\\frac1n$ approaches $0$ for $n\\to\\infty$, we are left with $E_n = \\{x\\in E:x>0\\} = E$ a $n\\to\\infty$. Thus, $E$ will be the union of $E_n,\\;n\\in\\mathbb{R}$ meaning $E$ is the union of countable sets. Thus $E$ is countable meaning we have reached a contradiction."
   ]
  },
  {
   "cell_type": "markdown",
   "id": "baaa1bce",
   "metadata": {},
   "source": [
    "Therefore, $\\sum_{x\\in E} x < \\infty$ only if $E$ is countable. $\\blacksquare$"
   ]
  },
  {
   "cell_type": "markdown",
   "id": "2552dd68",
   "metadata": {},
   "source": [
    "(b) We want to show that if $E$ is countable and $n \\rightarrow x_n : \\mathbb{N} \\rightarrow E$ is a bijection then $\\sum_{x\\in E} x = \\sum_{n=1}^\\infty x_n$."
   ]
  },
  {
   "cell_type": "markdown",
   "id": "5f7cd8c1",
   "metadata": {},
   "source": [
    "Proof:\n",
    "\n",
    "Since $\\mathcal{F}$ is the collection of all finite subsets of $E$, we will have that the subsequence $\\{x_i\\}_{i = 1}^n \\in \\mathcal{F} \\; \\forall n$. Since $F\\in\\mathcal{F}$ there exists an $n$ such that $F \\subseteq \\{x_i\\}_{i = 1}^n$. This being the case, $\\sum_{x\\in F} x \\leq \\sum_{i = 1}^n x_n$. Therefore, $\\sup \\sum_{x\\in F} x \\leq \\sup \\sum_{i = 1}^n x_n$. By the given definition, this means that $\\sum_{x\\in E} x \\leq \\sum_{n=1}^\\infty x_n$.\n",
    "\n",
    "However, since $\\{x_i\\}_{i = 1}^n \\in \\mathcal{F} \\; \\forall n$, there exists an $n$ such that $\\{x_i\\}_{i = 1}^n \\subseteq F$. Thus, for such an $n$, we will have that $\\sup \\sum_{i = 1}^n x_n \\leq \\sup \\sum_{x\\in F} x$. By the given definition, this means that $\\sum_{n=1}^\\infty x_n \\leq \\sum_{x\\in E} x $.\n",
    "\n",
    "Therefore, $\\sum_{x\\in E} x = \\sum_{n=1}^\\infty x_n$. $\\blacksquare$"
   ]
  },
  {
   "cell_type": "markdown",
   "id": "0e7a36a4",
   "metadata": {},
   "source": [
    "$\\textbf{3)}$\n",
    "\n",
    "We have that $p$ is an integer greater than $1$ and $x \\in (0,1)$. We want to show that there is a sequence $\\left<a_n\\right>$ of integers with $0 \\leq a_n < p$ such that $$x = \\sum_{n=1}^\\infty \\frac{a_n}{p^n}$$ and that this sequence is unique except when $x$ is of the form $\\frac{q}{p^n}$ in which case there are exactly two such sequences."
   ]
  },
  {
   "cell_type": "markdown",
   "id": "ee70a4b2",
   "metadata": {},
   "source": [
    "$\\textbf{Existance}$\n",
    "\n",
    "Proof:\n",
    "\n",
    "To prove existance we can construct the sequence.\n",
    "\n",
    "Define the function $f(k)$ as exctracting the fractional part from $k \\in \\mathbb{R}$. Pick an $x$ out of the interval $(0, 1)$ and call it $x_1$ This means means that $0 < px_1 < p$. Pick a member of $a_n$ and call it $a_1$ such that $a_1 = floor(px_1)$. Pick $x_2$ out of $(0, 1)$ such that $x_2 = f(px_1)$. In other words, $a_1 + x_2 = px_1$. We are able to do this since $a_n \\in \\mathbb{Z}^+$."
   ]
  },
  {
   "cell_type": "markdown",
   "id": "5424e7a1",
   "metadata": {},
   "source": [
    "Dividing both sides by $p$ yields $x_1 = \\frac{a_1}{p} + \\frac{x_2}{p}$ which we can be written more generally as $x_{n-1} = \\frac{a_{n-1}}{p} + \\frac{x_n}{p}$. We can find $x_1$ in terms of each of the other terms by writing it recursively like so:\n",
    "\n",
    "$$x_1 = \\frac{a_1}{p} + \\frac{\\frac{a_{2}}{p} + \\frac{\\frac{a_3}{p} + \\frac{\\frac{\\frac{a_{n-1}}{p} + \\frac{x_n}{p}}{\\vdots}}{p} }{p}}{p}=\\frac{a_1}{p} + \\frac{a_2}{p^2} + \\frac{a_3}{p^3} + \\cdots + \\frac{a_{n-1}}{p^{n-1}} + \\frac{x_n}{p^{n-1}}= \\sum_{k=1}^{n-1} \\frac{a_k}{p^{k}} + \\frac{x_n}{p^{n-1}}$$"
   ]
  },
  {
   "cell_type": "markdown",
   "id": "2ca79772",
   "metadata": {},
   "source": [
    "Since $x_1 \\in (0, 1)$, we have that $0 < \\sum_{k=1}^{n-1} \\frac{a_k}{p^{k}} + \\frac{x_n}{p^{n-1}} < 1$.\n",
    "\n",
    "Therefore, there exists a sequence $\\left<a_n\\right>$ such that $\\sum_{n=1}^\\infty \\frac{a_n}{p^n} \\in (0, 1)$ $\\blacksquare$."
   ]
  },
  {
   "cell_type": "markdown",
   "id": "2a897c04",
   "metadata": {},
   "source": [
    "$\\textbf{Uniqueness}$"
   ]
  },
  {
   "cell_type": "markdown",
   "id": "2b5bafce",
   "metadata": {},
   "source": [
    "Proof:\n",
    "\n",
    "For any $a_n$ with the given properties, we will have the following:\n",
    "\n",
    "$$\\frac{a_1}{p} \\leq \\frac{a_1}{p} + \\sum_{n=2}^\\infty \\frac{p-1}{p^n} = \\frac{a_1}{p} + \\sum_{n=1}^\\infty \\frac{p-1}{p^{n+1}}$$"
   ]
  },
  {
   "cell_type": "markdown",
   "id": "12692974",
   "metadata": {},
   "source": [
    "$\\sum_{n=1}^\\infty \\frac{p-1}{p^{n+1}}$ is a geometric series with common ratio $r = \\frac1p$ meaning that we will have:\n",
    "\n",
    "$$\\sum_{n=1}^\\infty \\frac{p-1}{p^{n+1}} = \\frac{\\frac{p-1}{p^{2}}}{1-\\frac1p} = \\frac1p$$"
   ]
  },
  {
   "cell_type": "markdown",
   "id": "d44212cf",
   "metadata": {},
   "source": [
    "Thus, we have:\n",
    "\n",
    "$$\\frac{a_1}{p} \\leq \\frac{a_1 +1}{p}$$"
   ]
  },
  {
   "cell_type": "markdown",
   "id": "1713dd78",
   "metadata": {},
   "source": [
    "If we repeat this argument for each $a_n$ we see that the $n$-th base $p$ digit of $x$ must occur in the interval $\\left[\\frac{a_n}{p^n}, \\frac{a_n+1}{p^n}\\right)$. Clearly, $\\bigcap_{n\\in\\mathbb{N}} \\left[\\frac{a_n}{p^n}, \\frac{a_n+1}{p^n}\\right) = \\emptyset$\n"
   ]
  },
  {
   "cell_type": "markdown",
   "id": "cf8481d0",
   "metadata": {},
   "source": [
    "Assume there exists no $k\\in\\mathbb{N}$ for which $a_n = q-1\\;\\forall n\\geq k$. Then the sequence $\\left<a_n\\right>$ must be unique since each base $p$ digit of $x$ must occur on exactly one of the intervals $\\left[\\frac{a_n}{p^n}, \\frac{a_n+1}{p^n}\\right)$ which are disjoint."
   ]
  },
  {
   "cell_type": "markdown",
   "id": "6f739177",
   "metadata": {},
   "source": [
    "However, let $\\left<a_n\\right>$ be such that there exists a $k \\in \\mathbb{N}$ such that $a_n = q-1 \\;\\forall n\\geq k$. Then $x$ will be of the form $\\frac{q}{p^n}$ which means that all the base $p$ terminating digits of $x$, each of which equals $p-1$, occur at the border of the two intervals $\\left[\\frac{a_n}{p^n}, \\frac{a_n+1}{p^n}\\right]$ and $\\left[\\frac{a_{n+1}}{p^{n+1}}, \\frac{a_{n+1}+1}{p^{n+1}}\\right]$. This means that two sequences $\\left<a_n\\right>$ and $\\left<b_n\\right>$ exist for such an $x$. The decimal expansion of $\\frac12$ is one such example of this since $0.5$ and $0.4999\\ldots$ both equal $\\frac{1}{2}$. $\\blacksquare$\n"
   ]
  },
  {
   "cell_type": "markdown",
   "id": "c7bad9e8",
   "metadata": {},
   "source": [
    "We also want to show that if $\\left<a_n\\right>$ is any sequence of integers with $0 \\leq a_n < p$, the series $$\\sum_{n=1}^\\infty \\frac{a_n}{p^n}$$ converges to a real number $x$ with $x \\in [0,1]$"
   ]
  },
  {
   "cell_type": "markdown",
   "id": "ba148c37",
   "metadata": {},
   "source": [
    "Proof:\n",
    "\n",
    "This series is always greater than or equal to $0$ since $a_n \\geq 0$. Further, it is largest when $a_n$ is as large as possible.\n",
    "\n",
    "Since $a_n$ is an integer less than integer $p$, the largest value of $a_n$ is $p-1$. Thus we let $a_n = p-1\\;\\forall n$ and simplifty:\n",
    "\n",
    "$$\\sum_{n=1}^\\infty \\frac{p-1}{p^n}= \\sum_{n=1}^\\infty \\left(\\frac{1}{p^{n-1}} - \\frac{1}{p^n}\\right)$$\n",
    "$$= \\sum_{n=1}^\\infty \\frac{1}{p^{n-1}} - \\sum_{n=1}^\\infty \\frac{1}{p^n}$$\n",
    "$$= 1+\\sum_{n=1}^\\infty \\frac{1}{p^n} - \\sum_{n=1}^\\infty \\frac{1}{p^n}$$\n",
    "$$=1$$\n",
    "\n",
    "The series $\\sum_{n=1}^\\infty \\frac{1}{p^n}$ must necessarily converge since $\\sum_{n=1}^m \\frac{1}{p^n} \\leq \\sum_{n=1}^m \\frac{1}{2^n} < \\infty$ for integer $p>1$ and any positive integer $m$. This means we know that the above is not in the form $\\infty-\\infty$. Therefore, $0 \\leq \\sum_{n=1}^\\infty \\frac{a_n}{p^n} \\leq 1$ since it is bounded above by $1$ as shown above. $\\blacksquare$"
   ]
  }
 ],
 "metadata": {
  "kernelspec": {
   "display_name": "Julia 1.6.1",
   "language": "julia",
   "name": "julia-1.6"
  },
  "language_info": {
   "file_extension": ".jl",
   "mimetype": "application/julia",
   "name": "julia",
   "version": "1.6.1"
  }
 },
 "nbformat": 4,
 "nbformat_minor": 5
}
