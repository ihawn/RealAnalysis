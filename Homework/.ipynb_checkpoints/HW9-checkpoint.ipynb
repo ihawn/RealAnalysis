{
 "cells": [
  {
   "cell_type": "markdown",
   "id": "64a2c429",
   "metadata": {},
   "source": [
    "# Real Analysis Homework 9\n",
    "\n",
    "Isaac Hawn"
   ]
  },
  {
   "cell_type": "markdown",
   "id": "511f9fa9",
   "metadata": {},
   "source": [
    "$\\textbf{1)}$ \n",
    "\n",
    "We want to prove that if $f$ is integrable on $\\mathbb{R}$, then:\n",
    "\n",
    "$$\n",
    "\\lim_{n\\to\\infty} \\int_\\mathbb{R} f(x) \\cos(nx)dx = 0\n",
    "$$"
   ]
  },
  {
   "cell_type": "markdown",
   "id": "d98c4e37",
   "metadata": {},
   "source": [
    "Proof:\n",
    "\n",
    "Let $f$ be a function, integrable over $\\mathbb{R}$. By problem 15 on page 94, we may pick a step function $\\psi$ such that $\\int_\\mathbb{R}|f-\\psi| < \\epsilon$. Let $\\psi = \\sum_{k} b_k \\chi_{E_k}$ be such a step function approximating $f$ for step heights $b_k$ and step intervals $E_k$. We see that $\\left|\\int_\\mathbb{R} f(x) \\cos(nx)dx\\right| \\leq \\left|\\int_\\mathbb{R} \\psi(x) \\cos(nx)dx\\right| + \\int_\\mathbb{R}|f(x) - \\psi(x)| dx$."
   ]
  },
  {
   "cell_type": "markdown",
   "id": "8eac6111",
   "metadata": {},
   "source": [
    "For a function $h$, we have that $\\left|\\int h\\right| \\leq \\int|h|$. Thus $\\left|\\int_\\mathbb{R} \\psi(x) \\cos(nx)dx\\right|\\leq \\int_\\mathbb{R} |\\psi(x) \\cos(nx)|dx$. Since $\\psi(x)$ is constant over each $E_k$, this integral goes to zero as $n\\to\\infty$. Therefore, $\\left|\\int_\\mathbb{R} f(x) \\cos(nx)dx - 0\\right| < 0 + \\epsilon = \\epsilon$ for $n$ large enough meaning that $\\lim_{n\\to\\infty} \\int_\\mathbb{R} f(x) \\cos(nx)dx = 0$. $\\blacksquare$"
   ]
  }
 ],
 "metadata": {
  "kernelspec": {
   "display_name": "Julia 1.6.2",
   "language": "julia",
   "name": "julia-1.6"
  },
  "language_info": {
   "file_extension": ".jl",
   "mimetype": "application/julia",
   "name": "julia",
   "version": "1.6.2"
  }
 },
 "nbformat": 4,
 "nbformat_minor": 5
}
