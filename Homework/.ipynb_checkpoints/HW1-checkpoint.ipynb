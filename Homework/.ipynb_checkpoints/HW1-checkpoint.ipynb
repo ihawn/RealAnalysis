{
 "cells": [
  {
   "cell_type": "markdown",
   "metadata": {},
   "source": [
    "$\\textbf{2)}$ \n",
    "\n",
    "We have that $f$ is the function from set $X$ to its power set $\\mathcal{P}(x)$. We want to show that there is a set $E \\in \\mathcal{P(x)}$ such that $E \\notin f(X)$."
   ]
  },
  {
   "cell_type": "markdown",
   "metadata": {},
   "source": [
    "Proof:\n",
    "\n",
    "Let $E \\subset X$ such that $E = \\{x \\in X : x \\notin f(x)\\}$ and let $f(y) = E$ for some $y \\in X$. Consider the following two cases:\n",
    "\n",
    "1) $y \\in f(y)$: If this is the case then $y \\in E$ since $f(y) = E$ but this contradicts the definition of $E$ since in order to be in $E$, $y$ must not be in $f(y)$.\n",
    "\n",
    "2) $y \\notin f(y)$: In this case, $y \\notin E$ since $y \\notin f(y) = E$, but $y$ must be in $E$ since $y \\notin f(y)$ so this is another contradiction.\n",
    "\n",
    "Therefore, we must conclude that $f(y) \\neq E \\; \\forall y \\in X$ implying that $E \\notin f(X)$. $\\blacksquare$."
   ]
  },
  {
   "cell_type": "code",
   "execution_count": null,
   "metadata": {},
   "outputs": [],
   "source": []
  }
 ],
 "metadata": {
  "kernelspec": {
   "display_name": "Julia 1.4.1",
   "language": "julia",
   "name": "julia-1.4"
  },
  "language_info": {
   "file_extension": ".jl",
   "mimetype": "application/julia",
   "name": "julia",
   "version": "1.4.1"
  }
 },
 "nbformat": 4,
 "nbformat_minor": 4
}
