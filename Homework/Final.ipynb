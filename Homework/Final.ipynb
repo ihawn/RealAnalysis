{
 "cells": [
  {
   "cell_type": "markdown",
   "id": "3d52e5ca",
   "metadata": {},
   "source": [
    "# Real Analysis Final\n",
    "\n",
    "Isaac Hawn"
   ]
  },
  {
   "cell_type": "markdown",
   "id": "e6a20b94",
   "metadata": {},
   "source": [
    "### 4)\n",
    "\n",
    "Let function $g$ be a monotone increasing absolutely continuous function on $[a,b]$ with $g(a) = c$ and $g(b) = d$.\n",
    "\n",
    "#### a.\n",
    "\n",
    "We want to show that for any open set $O\\subset[c,d]$, we have:\n",
    "\n",
    "$$\n",
    "mO = \\int_{g^{-1}[O]} g'(x) dx\n",
    "$$"
   ]
  },
  {
   "cell_type": "markdown",
   "id": "dea6967e",
   "metadata": {},
   "source": [
    "Proof:\n",
    "\n",
    "Let $O$ be an open set with $O\\subset[c,d]$. We may express any open set as the countable union of disjoint open intervals. Denote such intervals $I_n$ so that we have $O = \\bigcup I_n$. Define sequences $x_n$ and $y_n$ so that we have $I_n = (x_n, y_n)$ for each $n$. "
   ]
  },
  {
   "cell_type": "markdown",
   "id": "a379e554",
   "metadata": {},
   "source": [
    "Due to continuity and since $g(a) = c, g(b) = d$, we must have that there are sequences $u_n, v_n\\in[c,d]$ such that $g(u_n) = x_n$ and $g(v_n) = y_n$ for each $n$. Denote $J_n = (u_n, v_n)$. Thus we have $g^{-1}[O] = g^{-1}\\left[\\bigcup I_n\\right] = \\bigcup g^{-1}[I_n]$. But we have that $I_n = (g(u_n),g(v_n))$ meaning that $\\bigcup g^{-1}[I_n] = \\bigcup J_n$."
   ]
  },
  {
   "cell_type": "markdown",
   "id": "0b34cef0",
   "metadata": {},
   "source": [
    "This implies that $\\int_{g^{-1}[O]} g'(x) dx = \\int_{\\cup J_n} g'(x) dx = \\sum \\int_{J_n} g'(x) dx$ due to disjointness. Integrating the right side yields $\\sum \\int_{J_n} g'(x) dx =\\sum (g(v_n) - g(u_n)) = \\sum \\ell(I_n)$. Since all $I_n$ are disjoint, $\\sum \\ell(I_n) = m\\left(\\bigcup I_n\\right) = mO$. Therefore, $mO = \\int_{g^{-1}[O]} g'(x) dx$. $\\blacksquare$"
   ]
  },
  {
   "cell_type": "markdown",
   "id": "920e1575",
   "metadata": {},
   "source": [
    "#### b.\n",
    "\n",
    "For $H = \\{x:g'(x)\\neq0\\}$ and $E\\subset[c,d]$ with $mE = 0$, we want to prove that $m(g^{-1}(E)\\cap H) = 0$."
   ]
  },
  {
   "cell_type": "markdown",
   "id": "46e4a622",
   "metadata": {},
   "source": [
    "Proof:\n",
    "\n",
    "Let $E\\subset[c,d]$ with $mE = 0$ and let $H = \\{x:g'(x)\\neq0\\}$. By proposition 5 on page 58, there exists an open set $O$ such that $E\\subset O$ and $mO < mE +\\epsilon$ for $\\epsilon > 0$ implying $mO < \\epsilon$."
   ]
  },
  {
   "cell_type": "markdown",
   "id": "5a9dc8a0",
   "metadata": {},
   "source": [
    "Part $a$ tells us that $mO = \\int_{g^{-1}[O]} g'(x) dx$ so we have $\\int_{g^{-1}[O]} g'(x) dx < \\epsilon$. We also have that $E\\subset O$ implying that $g^{-1}(E)\\subset g^{-1}(O)$. Further $g^{-1}(E)\\cap H \\subset g^{-1}(E)$. Therefore:\n",
    "\n",
    "$$\n",
    "\\int_{g^{-1}(E)\\cap H}g'(x) dx \\leq \\int_{g^{-1}(E)}g'(x) dx \\leq \\int_{g^{-1}[O]}g'(x) dx < \\epsilon\n",
    "$$"
   ]
  },
  {
   "cell_type": "markdown",
   "id": "d8c7386f",
   "metadata": {},
   "source": [
    "This is true for all $\\epsilon>0$ which implies that $\\int_{g^{-1}(E)\\cap H}g'(x) dx = 0$. However, $g$ is a monotone increasing function on $[a,b]$ and is nonzero on $g^{-1}(E)\\cap H$ by the definition of $H$. Therefore, $g'(x) > 0$ on $g^{-1}(E)\\cap H$. This means that $\\int_{g^{-1}(E)\\cap H}g'(x) dx$ may only be zero if $m(g^{-1}(E)\\cap H) = 0$. $\\blacksquare$"
   ]
  },
  {
   "cell_type": "markdown",
   "id": "63c750f7",
   "metadata": {},
   "source": [
    "#### c.\n",
    "\n",
    "For measurable $E\\subset[c,d]$, we want to prove that $F = g^{-1}[E]\\cap H$ is measurable and:\n",
    "\n",
    "$$\n",
    "mE = \\int_F g'(x) dx = \\int_a^b \\chi_E(g(x))g'(x)dx\n",
    "$$"
   ]
  },
  {
   "cell_type": "markdown",
   "id": "de4953e8",
   "metadata": {},
   "source": [
    "Proof:\n",
    "\n",
    "Let $E$ and $H$ be as before and let $F = g^{-1}[E]\\cap H$. Right away we have that $g^{-1}(E)$ is measurable since $E$ is measurable and $g$ is continuous. Further, since $g$ is increasing on $[a,b]$, we have that $g'$ is measurable by Theorem 3 so $H$ must be measurable as well since it is part of the domain of $g'$. Measurability is closed under finite intersection so $F = g^{-1}[E]\\cap H$ is measurable."
   ]
  },
  {
   "cell_type": "markdown",
   "id": "80ad64e7",
   "metadata": {},
   "source": [
    "By proposition 15 on page 63, there is a $G\\in G_\\delta$ such that $E\\subset G \\subset [c,d]$ and $m(G\\backslash E) = 0$. Thus, $g^{-1}(G\\backslash E)\\cap H$ has measure zero by part $b$. Clearly $g^{-1}(G)\\cap H = [g^{-1}(E)\\cap H] \\cup [g^{-1}(G\\backslash E)\\cap H]$ and we have just shown that $m[g^{-1}(G\\backslash E)\\cap H] = 0$ so we must have:\n",
    "\n",
    "$$\n",
    "\\int_{g^{-1}(E)\\cap H} g'(x) dx = \\int_{g^{-1}(G)\\cap H}g'(x) dx\n",
    "$$"
   ]
  },
  {
   "cell_type": "markdown",
   "id": "ac0de144",
   "metadata": {},
   "source": [
    "Therefore, we need only show that the desired result holds for $G$. We have that $G\\in G_\\delta$. Thus, it is the countable intersection of open sets $O_n$. Without loss of generality, we may construct "
   ]
  },
  {
   "cell_type": "markdown",
   "id": "7b3ba7f5",
   "metadata": {},
   "source": [
    "Since $E$ is measurable, so is $g\\inv[E]$. Meanwhile, by Theorem 3, \n",
    "    $g\\hp$ is measurable, hence $H$ is also measurable. Therefore, $F$ is\n",
    "    measurable.\\par\n",
    "    We may assume without loss of generality that $c,d\\notin E$. By Proposition\n",
    "    3.15, there exists some $G\\in G_\\delta$ such that $E\\subset G\\subset(c,d)$\n",
    "    and $m(G\\setminus E)=0$. Since $g$ is increasing, $g\\inv[G]\\cap H = F\\cup\n",
    "    (g\\inv[G\\setminus E]\\cap H)$ and by (b), $g[G\\setminus E]\\cap H$ is of\n",
    "    measure zero. Therefore, $\\int_F g\\hp=\\int_{g\\inv[G]\\cap H}g\\hp$. Namely, it \n",
    "    suffices to show the result for $G\\in G_\\delta$. \\par\n",
    "    Suppose that $G=\\bigcap_{n=1}^\\infty O_n$ where each $O_n\\subset(c,d)$ is \n",
    "    open and $mO_1<\\infty$. Without loss of generality, we may assume that \n",
    "    $\\langle O_n\\rangle$ is decreasing. Then $mG=\\lim_{n\\to\\infty}mO_n$. By (a),\n",
    "   $$\n",
    "      mO_n = \\int_{g\\inv[O_n]}g\\hp = \\int_a^b\\chi_{O_n}(g(x))g\\hp(x)\\rd x.\n",
    "  $$\n",
    "    As $\\chi_{O_n}(g(x))g\\hp(x)$ is bounded by $|g\\hp|$, \n",
    "$$\n",
    "      \\lim_{n\\to\\infty}\\int_a^b\\chi_{O_n}(g(x))g\\hp(x)\\rd x =\n",
    "      \\int_a^b\\chi_G(g(x))g\\hp(x)\\rd x.\n",
    "   $$\n",
    "    Hence, $mG=\\int_{g\\inv[G]\\cap H}g\\hp$, completing the proof.\\par"
   ]
  }
 ],
 "metadata": {
  "kernelspec": {
   "display_name": "Julia 1.6.1",
   "language": "julia",
   "name": "julia-1.6"
  },
  "language_info": {
   "file_extension": ".jl",
   "mimetype": "application/julia",
   "name": "julia",
   "version": "1.6.1"
  }
 },
 "nbformat": 4,
 "nbformat_minor": 5
}
