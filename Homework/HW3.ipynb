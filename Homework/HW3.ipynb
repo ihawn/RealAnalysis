{
 "cells": [
  {
   "cell_type": "markdown",
   "id": "2f08ffc7",
   "metadata": {},
   "source": [
    "# Real Analysis Homework 3\n",
    "\n",
    "Isaac Hawn"
   ]
  },
  {
   "cell_type": "markdown",
   "id": "e05722b0",
   "metadata": {},
   "source": [
    "$\\textbf{1)}$\n",
    "\n",
    "We want to prove that $\\overline{\\lim} x_n + \\underline{\\lim} y_n \\leq \\overline{\\lim} (x_n + y_n) \\leq \\overline{\\lim} x_n + \\overline{\\lim} y_n$ given that the left and right sides are not in the form $\\infty - \\infty$."
   ]
  },
  {
   "cell_type": "markdown",
   "id": "9c67d574",
   "metadata": {},
   "source": [
    "Proof:\n",
    "\n",
    "Let $x_k$ and $y_k$ be members of the sequence for some $k > n$. Then, by the definition of the supremum, we will necessarily have that $x_k + y_k \\leq \\sup x_k + \\sup y_k$ meaning that $\\sup (x_k + y_k) \\leq \\sup x_k + \\sup y_k.$"
   ]
  },
  {
   "cell_type": "markdown",
   "id": "a1af409a",
   "metadata": {},
   "source": [
    "By extension, we see that $\\inf_n \\sup (x_k + y_k) \\leq \\inf_n \\sup x_k + \\inf_n \\sup y_k$ which by definition is just $\\overline{\\lim} (x_n + y_n) \\leq \\overline{\\lim} x_n + \\overline{\\lim} y_n.$"
   ]
  },
  {
   "cell_type": "markdown",
   "id": "d3c6a5c5",
   "metadata": {},
   "source": [
    "Further, by definition, we have that $\\sup (x_k + y_k) \\geq \\sup{x_k} + \\inf{y_k}$ implying that $\\overline{\\lim} (x_k + y_k) \\geq \\overline{\\lim} x_k + \\underline{\\lim y_k}$ for $k > n$. Thus, we have that $\\overline{\\lim} (x_n + y_n) \\geq \\overline{\\lim} x_n + \\underline{\\lim} y_n$."
   ]
  },
  {
   "cell_type": "markdown",
   "id": "3396ccdf",
   "metadata": {},
   "source": [
    "Thus, we have $\\overline{\\lim} x_n + \\underline{\\lim} y_n \\leq \\overline{\\lim} (x_n + y_n) \\leq \\overline{\\lim} x_n + \\overline{\\lim} y_n$. $\\blacksquare$"
   ]
  },
  {
   "cell_type": "markdown",
   "id": "81be98cd",
   "metadata": {},
   "source": [
    "$\\textbf{2)}$\n",
    "\n",
    "For $E \\subseteq \\mathbb{R}^+$ we have that $\\sum_{x\\in E} x$ is defined as $\\sup_{F\\in \\mathcal{F}} \\left(\\sum_{x\\in F} x\\right)$ where $\\mathcal{F}$ is a collection of all finite subsets of $E$.\n",
    "\n",
    "(a) We want to show that $\\sum_{x\\in E} x < \\infty$ only if $E$ is countable."
   ]
  },
  {
   "cell_type": "markdown",
   "id": "4a2c6871",
   "metadata": {},
   "source": [
    "Proof:\n",
    "\n",
    "Assume for contradiction that $E$ is uncountable and $\\sum_{x\\in E} x < \\infty$. This means that $E$ will not be in the range of any sequence. This being the case, we cannot construct any sequence that maps to all the finite subsequences of $E$. Thus, the collection $\\mathcal{F}$ must be uncountable as well meaning $F\\in\\mathcal{F}$ is not necessarily finite. This contradicts the fact that $\\mathcal{F}$ is a collection of all finite subsets of $E$. Furthermore, $\\sum_{x\\in E} x \\leq \\infty$ for such an $F$. Thus, $\\sum_{x\\in E} x < \\infty$ only if $E$ is countable. $\\blacksquare$\n",
    "\n",
    "Assume $\\sum_{x\\in E} x = \\infty$. Then, $\\sum_{x\\in \\hat{F}} x = \\infty$ for some $\\hat{F}\\in\\mathcal{F}$. Since $\\mathcal{F}$ contains only finite sets, this implies that $\\infty \\in \\hat{F}$ meaning that $\\hat{F}$ will not be in the range of any sequence and therefore uncountable. We have that $\\hat{F} \\subseteq E$ meaning that $E$ must be uncountable. $\\blacksquare$\n",
    "\n",
    "Assume $\\sum_{x\\in E} x < \\infty$"
   ]
  },
  {
   "cell_type": "markdown",
   "id": "edbba673",
   "metadata": {},
   "source": [
    "(b) We want to show that if $E$ is countable and $n \\rightarrow x_n : \\mathbb{N} \\rightarrow E$ is a bijection then $\\sum_{x\\in E} x = \\sum_{n=1}^\\infty x_n$."
   ]
  },
  {
   "cell_type": "markdown",
   "id": "7c8c65f0",
   "metadata": {},
   "source": [
    "Proof:\n",
    "\n",
    "Since $\\mathcal{F}$ is the collection of all finite subsets of $E$, we will have that the subsequence $\\{x_i\\}_{i = 1}^n \\in \\mathcal{F} \\; \\forall n$. Since $F\\in\\mathcal{F}$ there exists an $n$ such that $F \\subseteq \\{x_i\\}_{i = 1}^n$. This being the case, $\\sum_{x\\in F} x \\leq \\sum_{i = 1}^n x_n$. Therefore, $\\sup \\sum_{x\\in F} x \\leq \\sup \\sum_{i = 1}^n x_n$. By the given definition, this means that $\\sum_{x\\in E} x \\leq \\sum_{n=1}^\\infty x_n$.\n",
    "\n",
    "However, since $\\{x_i\\}_{i = 1}^n \\in \\mathcal{F} \\; \\forall n$, there exists an $n$ such that $\\{x_i\\}_{i = 1}^n \\subseteq F$. Thus, for such an $n$, we will have that$\\sup \\sum_{i = 1}^n x_n \\leq \\sup \\sum_{x\\in F} x$. By the given definition, this means that $\\sum_{n=1}^\\infty x_n \\leq \\sum_{x\\in E} x $.\n",
    "\n",
    "Therefore, $\\sum_{x\\in E} x = \\sum_{n=1}^\\infty x_n$. $\\blacksquare$"
   ]
  },
  {
   "cell_type": "markdown",
   "id": "b2c3b90f",
   "metadata": {},
   "source": [
    "$\\textbf{3)}$\n",
    "\n",
    "We have that $p$ is an integer greater than $1$ and $x \\in (0,1)$. We want to show that there is a sequence $\\left<a_n\\right>$ of integers with $0 \\leq a_n < p$ such that $$x = \\sum_{n=1}^\\infty \\frac{a_n}{p^n}$$ and that this sequence is unique except when $x$ is of the form $\\frac{q}{p^n}$ in which case there are exactly two such sequences."
   ]
  },
  {
   "cell_type": "markdown",
   "id": "45878b75",
   "metadata": {},
   "source": [
    "Proof:\n",
    "\n",
    "Existence:\n",
    "\n",
    "Let $a_n = k$ for all $n$ and some constant $k = \\frac{p}{2}$. This gives the following:\n",
    "\n",
    "$$\\sum_{n=1}^\\infty \\frac{p/2}{p^n} = \\sum_{n=1}^\\infty \\frac{1}{2p^{n-1}}$$"
   ]
  },
  {
   "cell_type": "markdown",
   "id": "65cab510",
   "metadata": {},
   "source": [
    "Thus, for $p > 2$ we have:\n",
    "\n",
    "$$0 < \\sum_{n=1}^\\infty \\frac{1}{2p^{n-1}} = \\frac{1}{2} + \\frac{1}{2p} + \\frac{1}{2p^2} + \\cdots < \\frac{1}{2} + \\frac{1}{4} + \\frac{1}{8} + \\cdots = 1$$"
   ]
  },
  {
   "cell_type": "markdown",
   "id": "193e6195",
   "metadata": {},
   "source": [
    "Therefore, there exists a sequence $\\left<a_n\\right>$ such that $\\sum_{n=1}^\\infty \\frac{a_n}{p^n} \\in (0, 1)$ $\\blacksquare$."
   ]
  },
  {
   "cell_type": "markdown",
   "id": "eab21cf3",
   "metadata": {},
   "source": [
    "Uniqueness: \n",
    "\n",
    "Define the function $f(k)$ as exctracting the fractional part from $k \\in \\mathbb{R}$. Pick an $x$ out of the interval $(0, 1)$ and call it $x_1$ This means means that $0 < px_1 < p$. Pick a member of $a_n$ and call it $a_1$ such that $a_1 = floor(px_1)$. Pick $x_2$ out of $(0, 1)$ such that $x_2 = f(px_1)$. In other words, $a_1 + x_2 = px_1$. We are able to do this since $a_n \\in \\mathbb{Z}^+$."
   ]
  },
  {
   "cell_type": "markdown",
   "id": "02fb378b",
   "metadata": {},
   "source": [
    "Dividing both sides by $p$ yields $x_1 = \\frac{a_1}{p} + \\frac{x_2}{p}$ which we can be written more generally as $x_{n-1} = \\frac{a_{n-1}}{p} + \\frac{x_n}{p}$. We can find $x_1$ in terms of each of the other terms by writing it recursively like so:\n",
    "\n",
    "$$x_1 = \\frac{a_1}{p} + \\frac{\\frac{a_{2}}{p} + \\frac{\\frac{a_3}{p} + \\frac{\\frac{\\frac{a_{n-1}}{p} + \\frac{x_n}{p}}{\\vdots}}{p} }{p}}{p}=\\frac{a_1}{p} + \\frac{a_2}{p^2} + \\frac{a_3}{p^3} + \\cdots + \\frac{a_{n-1}}{p^{n-1}} + \\frac{x_n}{p^{n-1}}= \\sum_{k=1}^{n-1} \\frac{a_k}{p^{k}} + \\frac{x_n}{p^{n-1}}$$"
   ]
  },
  {
   "cell_type": "markdown",
   "id": "4029dae4",
   "metadata": {},
   "source": [
    "Since $x_1 \\in (0, 1)$, we have that $0 < \\sum_{n=1}^{t} \\frac{a_n}{p^n} < 1$ which means that "
   ]
  },
  {
   "cell_type": "markdown",
   "id": "758928e3",
   "metadata": {},
   "source": [
    "We also want to show that if $\\left<a_n\\right>$ is any sequence of integers with $0 \\leq a_n < p$, the series $$\\sum_{n=1}^\\infty \\frac{a_n}{p^n}$$ converges to a real number $x$ with $x \\in [0,1]$"
   ]
  }
 ],
 "metadata": {
  "kernelspec": {
   "display_name": "Julia 1.6.1",
   "language": "julia",
   "name": "julia-1.6"
  },
  "language_info": {
   "file_extension": ".jl",
   "mimetype": "application/julia",
   "name": "julia",
   "version": "1.6.1"
  }
 },
 "nbformat": 4,
 "nbformat_minor": 5
}
