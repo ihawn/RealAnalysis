{
 "cells": [
  {
   "cell_type": "markdown",
   "id": "39008fb2",
   "metadata": {},
   "source": [
    "# Real Analysis Homework 7\n",
    "\n",
    "Isaac Hawn"
   ]
  },
  {
   "cell_type": "markdown",
   "id": "66c87b79",
   "metadata": {},
   "source": [
    "$\\textbf{2)}$\n",
    "\n",
    "We want to prove Lusin's Theorem which states:\n",
    "\n",
    "Let $f$ be a measurable, real-valued function on an interval $[a,b]$. Then, given $\\delta>0$, there is a continuous function $\\phi$ on $[a,b]$ such that $m\\{x:f(x)\\neq\\phi(x)\\} < \\delta$."
   ]
  },
  {
   "cell_type": "markdown",
   "id": "dd084355",
   "metadata": {},
   "source": [
    "Proof:\n",
    "\n",
    "Let $f$ given as above. By Proposition 22, for $\\epsilon_n > 0$, there is a continuous function $h_n$ such that $|f-h_n|<\\epsilon_n$ for each $n$ except on a set of measure zero. In other words, we have:\n",
    "\n",
    "$$\n",
    "m\\{x:|f(x) - h_n(x)| \\geq \\epsilon_n\\} < \\epsilon_n\n",
    "$$\n",
    "$$\\text{on }[a,b]\\text{ for each } n\\in\\mathbb{N}$$"
   ]
  },
  {
   "cell_type": "markdown",
   "id": "d0f5cb29",
   "metadata": {},
   "source": [
    "Let $\\epsilon_n = \\frac{\\delta}{2^{n+1}}$. Then we have $m\\{x:|f(x) - h_n(x)| \\geq \\epsilon_n\\} < \\frac{\\delta}{2^{n+1}}$. By Proposition 5, there is a closed set $F_n \\subset E$ such that $m(E\\backslash F_n) < \\frac{\\delta}{2^{n+1}}$."
   ]
  },
  {
   "cell_type": "markdown",
   "id": "da13f923",
   "metadata": {},
   "source": [
    "Because of these results, and since $m([a,b]) < \\infty$, we apply Egoroff's Theorem to get that there is a closed set $\\hat{F}\\subset [a,b] = E$ such that $h_n \\to f$ uniformly on $\\hat{F}$ and $m(E\\backslash \\hat{F}) < \\eta$ for $\\eta = \\frac{\\delta}{2}>0$. For $F = \\bigcap_{n=0}^\\infty F_n$ we see the following:"
   ]
  },
  {
   "cell_type": "markdown",
   "id": "44cb41c0",
   "metadata": {},
   "source": [
    "$$\n",
    "m(E\\backslash F) = \n",
    "m\\left[\\left(\\bigcup_{n=1}^\\infty E_n\\right) \\backslash\\left(\\bigcap_{n=0}^\\infty F_n\\right)\\right] =\n",
    "m\\left[\\bigcup_{n=1}^\\infty (E\\backslash F_n)\\right] =\n",
    "m\\left[\\left(\\bigcup_{n=1}^\\infty (E\\backslash F_n)\\right)\\cup(E\\backslash \\hat{F})\\right] < \n",
    "\\eta + \\sum_{n=1}^\\infty \\epsilon_n = \n",
    "\\frac{\\delta}{2}+\\sum_{n=1}^\\infty \\frac{\\delta}{2^{n+1}} = \n",
    "\\delta\n",
    "$$"
   ]
  },
  {
   "cell_type": "markdown",
   "id": "55443b20",
   "metadata": {},
   "source": [
    "Because $h_n\\to f$ uniformly on $\\hat{F}$, we have that $h_n\\to f$ uniformly on $F$ since $F\\subset\\hat{F}$. Also, $F$ is closed since it is the countable intersection of closed sets."
   ]
  },
  {
   "cell_type": "markdown",
   "id": "2408c668",
   "metadata": {},
   "source": [
    "Since $h_n$ is continuous on $E$, it is continuouse on $F\\subset E$. By problem 2.40, there is a function $\\phi$ such that $\\phi$ is continuous on $\\mathbb{R}$ and $f(x) = \\phi(x)$ for each $x\\in F$. This implies $\\{x:f(x) \\neq \\phi(x)\\} \\cap F = \\emptyset$. Therefore, $\\{x:f(x) \\neq \\phi(x)\\} \\subseteq E\\backslash F \\to m\\{x:f(x) \\neq \\phi(x)\\} \\leq m(E\\backslash F) < \\delta$. $\\blacksquare$"
   ]
  },
  {
   "cell_type": "markdown",
   "id": "07fcbac1",
   "metadata": {},
   "source": [
    "$\\textbf{3)}$\n",
    "\n",
    "We want to prove that the conclusion of Egoroff's Theorem fails for the sequence $f_n = \\chi[n, n+1],\\;n\\in\\mathbb{N}$."
   ]
  },
  {
   "cell_type": "markdown",
   "id": "0f3f889d",
   "metadata": {},
   "source": [
    "Proof:\n",
    "\n",
    "Consider the sequence of functions  $f_n : E \\to \\{0,1\\} = \\chi_{[n, n+1]},\\;n\\in\\mathbb{N}$ for $E = \\mathbb{R}^+$. Let $L = \\lim_{n\\to\\infty} f_n$. Notice that for any $\\hat{x}$, there is an $N\\in \\mathbb{N}$ such that $\\hat{x}<x$ for $x\\in[N,N+1]$ meaning $f(\\hat{x}) = 0$. Thus, $f_N(\\hat{x}) = 0$ for large enought $N$. This implies $L = 0$. Therefore, $f_n\\to 0$ pointwise on $\\mathbb{R}$."
   ]
  },
  {
   "cell_type": "markdown",
   "id": "2b45afe3",
   "metadata": {},
   "source": [
    "Suppose that there exists some closed $F\\subseteq E$ such that for every $\\epsilon > 0$ and $x\\in F$, there is an $N\\in\\mathbb{N}$ such that for all $n\\geq N$, $|f_n(x)| < \\epsilon$ and $m(E\\backslash F) < \\epsilon$."
   ]
  },
  {
   "cell_type": "markdown",
   "id": "eff04d5f",
   "metadata": {},
   "source": [
    "We see then that $x\\leq N$ and since $ x\\in F$, we will have $F \\subseteq [0, N]$. In other words, $m(F) < \\infty$. Notice then that that $m(E\\backslash F) = m\\left([N,\\infty]\\right) = \\infty > \\epsilon$.\n",
    "\n",
    "Therefore, Egoroff's theorem fails for the sequence $f_n = \\chi[n, n+1],\\;n\\in\\mathbb{N}$. $\\blacksquare$."
   ]
  }
 ],
 "metadata": {
  "kernelspec": {
   "display_name": "Julia 1.6.1",
   "language": "julia",
   "name": "julia-1.6"
  },
  "language_info": {
   "file_extension": ".jl",
   "mimetype": "application/julia",
   "name": "julia",
   "version": "1.6.1"
  }
 },
 "nbformat": 4,
 "nbformat_minor": 5
}
