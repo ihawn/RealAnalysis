{
 "cells": [
  {
   "cell_type": "markdown",
   "id": "23f24ba2",
   "metadata": {},
   "source": [
    "# Real Analysis Homework 8\n",
    "\n",
    "Isaac Hawn\n",
    "\n",
    "$\\textbf{1)}$\n",
    "\n",
    "Given that sequence $\\left<f_n\\right>$ of measurable functions converge in measure, we want to show the following:\n",
    "\n",
    "\n",
    "1. Every subsequence of $\\left<f_n\\right>$ also converges in measure.\n",
    "\n",
    "2. The limit function is unique a.e.\n",
    "\n",
    "\n",
    "Proof of 1:\n",
    "\n",
    "Let $f$ be the limit function of the sequence. Let $\\left<f_{n_k}\\right>$ be a subsequence of $\\left<f_n\\right>$. As a subsequence we must have that for some $N_1 \\in \\mathbb{N}$, there is a $N_2 \\in \\mathbb{N}$ such that if $k \\geq N_2$, we will have $n_k \\geq N_1$.\n",
    "\n",
    "Since $\\left<f_n\\right>$ converges in measure, we have that there is an $N_1$ such that for all $n\\geq N_1$, we have $m\\{x:|f(x)-f_n(x)|\\geq \\epsilon\\} < \\epsilon$ for $\\epsilon > 0$.\n",
    "\n",
    "Therefore, for $k \\geq N_2$ we have $n_k \\geq N_1$ and $m\\{x:|f(x)-f_{n_k}(x)|\\geq \\epsilon\\} < \\epsilon$ for $\\epsilon > 0$. Thus, $\\left<f_{n_k}\\right>$ converges in measure. We have that $\\left<f_{n_k}\\right>$ is an arbitrary subsequence meaning that every subsequence of $\\left<f_n\\right>$ converges in measure. $\\blacksquare$\n",
    "\n",
    "Proof of 2:\n",
    "\n",
    "Let $f_1$ be such that $\\left<f_n\\right>$ converges to $f_1$ in measure. Since $\\left<f_n\\right>$ converges in measure, each subsequence $\\left<f_{n_k}\\right>$ will converge in measure by $1$. Let $f_2$ be such that $\\left<f_{n_k}\\right>$ converges to $f_2$ in measure.\n",
    "\n",
    "By Proposition $18$, there is a subsequence $\\left<f_{n_{k_i}}\\right>$ that converges to $f_2$ a.e. \n",
    "\n",
    "Again, by Proposition $18$, $\\left<f_{n_k}\\right>$ converges to $f_1$ a.e. since $\\left<f_n\\right>$ converges in measure to $f_1$. Therefore, $\\left<f_{n_{k_i}}\\right>$ converges to $f_1$ a.e. since it is a subsequence of $\\left<f_{n_k}\\right>$.\n",
    "\n",
    "So we have that $\\left<f_{n_{k_i}}\\right>$ converges a.e. to both $f_1$ and $f_2$ meaning $f_1 = f_2$. Thus, the limit function is unique. $\\blacksquare$\n",
    "\n",
    "$\\textbf{3)}$\n",
    "\n",
    "We want to show that Fatou's Lemma remains valid if we assume convergence in measure instead of convergence a.e.\n",
    "\n",
    "\n",
    "Proof:\n",
    "\n",
    "Let $\\left<f_n\\right>$ be a sequence of non-negative measurable functions such that $f_n$ converges to a function $f$ in measure on a set $E$. Take a subsequence $\\left<{f_{n_k}}\\right>$ such that $\\lim\\int_E{f_{n_k}} = \\underline{\\lim}\\int_E f_n$. We know that $\\left<f_{n_{k}}\\right>$ converges to $f$ a.e. by Proposition $18$. Note that $\\left<{f_{n_k}}\\right>$ also must be non-negative.\n",
    "\n",
    "By Fatou's Lemma (the original wording), we have that $\\int_E f \\leq \\underline{\\lim}\\int_E  f_{n_k}$. Thus, $\\int_E f \\leq \\underline{\\lim}\\int_E  f_{n_k} \\leq \\lim\\int_E{f_{n_k}} = \\underline{\\lim}\\int_E f_n$ thus confirming the result of Fatou's Lemma. $\\blacksquare$"
   ]
  },
  {
   "cell_type": "markdown",
   "id": "f218e606",
   "metadata": {},
   "source": [
    "\n"
   ]
  },
  {
   "cell_type": "markdown",
   "id": "24e4792b",
   "metadata": {},
   "source": []
  },
  {
   "cell_type": "markdown",
   "id": "3835b335",
   "metadata": {},
   "source": []
  },
  {
   "cell_type": "markdown",
   "id": "cb3e41ce",
   "metadata": {},
   "source": []
  },
  {
   "cell_type": "markdown",
   "id": "20f4ce11",
   "metadata": {},
   "source": []
  }
 ],
 "metadata": {
  "kernelspec": {
   "display_name": "Julia 1.6.1",
   "language": "julia",
   "name": "julia-1.6"
  },
  "language_info": {
   "file_extension": ".jl",
   "mimetype": "application/julia",
   "name": "julia",
   "version": "1.6.1"
  }
 },
 "nbformat": 4,
 "nbformat_minor": 5
}
