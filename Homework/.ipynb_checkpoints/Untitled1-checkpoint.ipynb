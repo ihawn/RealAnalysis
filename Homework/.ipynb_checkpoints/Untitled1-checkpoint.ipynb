{
 "cells": [
  {
   "cell_type": "markdown",
   "id": "f60b30a3",
   "metadata": {},
   "source": [
    "# Real Analysis Homework 3\n",
    "\n",
    "Isaac Hawn"
   ]
  },
  {
   "cell_type": "markdown",
   "id": "4631ae22",
   "metadata": {},
   "source": [
    "$\\textbf{1)}$\n",
    "\n",
    "We want to prove that $\\overline{\\lim} x_n + \\underline{\\lim} y_n \\leq \\overline{\\lim} (x_n + y_n) \\leq \\overline{\\lim} x_n + \\overline{\\lim} y_n$ given that the left and right sides are not in the form $\\infty - \\infty$."
   ]
  },
  {
   "cell_type": "markdown",
   "id": "fc38ff03",
   "metadata": {},
   "source": [
    "Proof:\n",
    "\n",
    "Let $x_k$ and $y_k$ be members of the sequence for some $k > n$. Then, by the definition of the supremum, we will necessarily have that $x_k + y_k \\leq \\sup x_k + \\sup y_k$ meaning that $\\sup (x_k + y_k) \\leq \\sup x_k + \\sup y_k.$"
   ]
  },
  {
   "cell_type": "markdown",
   "id": "d05c653f",
   "metadata": {},
   "source": [
    "By extension, we see that $\\inf_n \\sup (x_k + y_k) \\leq \\inf_n \\sup x_k + \\inf_n \\sup y_k$ which by definition is just $\\overline{\\lim} (x_n + y_n) \\leq \\overline{\\lim} x_n + \\overline{\\lim} y_n.$"
   ]
  },
  {
   "cell_type": "markdown",
   "id": "d5fcba14",
   "metadata": {},
   "source": [
    "Further, by definition, we have that $\\sup (x_k + y_k) \\geq \\sup{x_k} + \\inf{y_k}$ implying that $\\overline{\\lim} (x_k + y_k) \\geq \\overline{\\lim} x_k + \\underline{\\lim y_k}$ for $k > n$. Thus, we have that $\\overline{\\lim} (x_n + y_n) \\geq \\overline{\\lim} x_n + \\underline{\\lim} y_n$."
   ]
  },
  {
   "cell_type": "markdown",
   "id": "7869b8ae",
   "metadata": {},
   "source": [
    "Thus, we have $\\overline{\\lim} x_n + \\underline{\\lim} y_n \\leq \\overline{\\lim} (x_n + y_n) \\leq \\overline{\\lim} x_n + \\overline{\\lim} y_n$. $\\blacksquare$"
   ]
  },
  {
   "cell_type": "markdown",
   "id": "a5e4ec5e",
   "metadata": {},
   "source": [
    "$\\textbf{2)}$\n",
    "\n",
    "For $E \\subseteq \\mathbb{R}^+$ we have that $\\sum_{x\\in E} x$ is defined as $\\sup_{F\\in \\mathcal{F}} \\left(\\sum_{x\\in F} x\\right)$ where $\\mathcal{F}$ is a collection of all finite subsets of $E$.\n",
    "\n",
    "(a) We want to show that $\\sum_{x\\in E} x < \\infty$ only if $E$ is countable."
   ]
  },
  {
   "cell_type": "markdown",
   "id": "505419b3",
   "metadata": {},
   "source": [
    "Proof:\n",
    "\n",
    "Assume for contradiction that $E$ is uncountable and $\\sum_{x\\in E} x < \\infty$. This means that $E$ will not be in the range of any sequence. This being the case, we cannot construct any sequence that maps to all the finite subsequences of $E$. Thus, the collection $\\mathcal{F}$ must be uncountable as well meaning $F\\in\\mathcal{F}$ is not necessarily finite. This contradicts the fact that $\\mathcal{F}$ is a collection of all finite subsets of $E$. Furthermore, $\\sum_{x\\in E} x \\leq \\infty$ for such an $F$. Thus, $\\sum_{x\\in E} x < \\infty$ only if $E$ is countable. $\\blacksquare$\n",
    "\n",
    "Assume $\\sum_{x\\in E} x = \\infty$. Then, $\\sum_{x\\in \\hat{F}} x = \\infty$ for some $\\hat{F}\\in\\mathcal{F}$. Since $\\mathcal{F}$ contains only finite sets, this implies that $\\infty \\in \\hat{F}$ meaning that $\\hat{F}$ will not be in the range of any sequence and therefore uncountable. We have that $\\hat{F} \\subseteq E$ meaning that $E$ must be uncountable. $\\blacksquare$\n",
    "\n",
    "Assume $\\sum_{x\\in E} x < \\infty$"
   ]
  },
  {
   "cell_type": "markdown",
   "id": "a00cb2e8",
   "metadata": {},
   "source": [
    "(b) We want to show that if $E$ is countable and $n \\rightarrow x_n : \\mathbb{N} \\rightarrow E$ is a bijection then $\\sum_{x\\in E} x = \\sum_{n=1}^\\infty x_n$."
   ]
  },
  {
   "cell_type": "markdown",
   "id": "d9e1074b",
   "metadata": {},
   "source": [
    "Proof:\n",
    "\n",
    "Since $\\mathcal{F}$ is the collection of all finite subsets of $E$, we will have that the subsequence $\\{x_i\\}_{i = 1}^n \\in \\mathcal{F} \\; \\forall n$. Since $F\\in\\mathcal{F}$ there exists an $n$ such that $F \\subseteq \\{x_i\\}_{i = 1}^n$. This being the case, $\\sum_{x\\in F} x \\leq \\sum_{i = 1}^n x_n$. Therefore, $\\sup \\sum_{x\\in F} x \\leq \\sup \\sum_{i = 1}^n x_n$. By the given definition, this means that $\\sum_{x\\in E} x \\leq \\sum_{n=1}^\\infty x_n$.\n",
    "\n",
    "However, since $\\{x_i\\}_{i = 1}^n \\in \\mathcal{F} \\; \\forall n$, there exists an $n$ such that $\\{x_i\\}_{i = 1}^n \\subseteq F$. Thus, for such an $n$, we will have that$\\sup \\sum_{i = 1}^n x_n \\leq \\sup \\sum_{x\\in F} x$. By the given definition, this means that $\\sum_{n=1}^\\infty x_n \\leq \\sum_{x\\in E} x $.\n",
    "\n",
    "Therefore, $\\sum_{x\\in E} x = \\sum_{n=1}^\\infty x_n$. $\\blacksquare$"
   ]
  }
 ],
 "metadata": {
  "kernelspec": {
   "display_name": "Julia 1.6.1",
   "language": "julia",
   "name": "julia-1.6"
  },
  "language_info": {
   "file_extension": ".jl",
   "mimetype": "application/julia",
   "name": "julia",
   "version": "1.6.1"
  }
 },
 "nbformat": 4,
 "nbformat_minor": 5
}
