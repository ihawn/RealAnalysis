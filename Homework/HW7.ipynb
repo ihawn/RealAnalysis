{
 "cells": [
  {
   "cell_type": "markdown",
   "id": "f273d527",
   "metadata": {},
   "source": [
    "# Real Analysis Homework 7\n",
    "\n",
    "Isaac Hawn"
   ]
  },
  {
   "cell_type": "markdown",
   "id": "273c7de3",
   "metadata": {},
   "source": [
    "$\\textbf{3)}$\n",
    "\n",
    "We want to prove that the conclusion of Egoroff's theorem fails for the sequence $f_n = \\chi[n, n+1],\\;n\\in\\mathbb{N}$."
   ]
  },
  {
   "cell_type": "markdown",
   "id": "2627745a",
   "metadata": {},
   "source": [
    "Proof:\n",
    "\n",
    "Consider the sequence of functions  $f_n : E \\to \\{0,1\\} = \\chi_{[n, n+1]},\\;n\\in\\mathbb{N}$. Clearly, the domain of $f_n$ is the reals, but restrict $E = \\mathbb{R}^+$. Let $L = \\lim_{n\\to\\infty} f_n$. Notice that for any $\\hat{x}$, there is an $N\\in \\mathbb{N}$ such that $\\hat{x}<x$ for $x\\in[N,N+1]$ meaning $f(\\hat{x}) = 0$. Thus, $f_N(\\hat{x}) = 0$ for large enought $N$. This implies $L = 0$. Therefore, $f_n\\to 0$ pointwise on $\\mathbb{R}$."
   ]
  },
  {
   "cell_type": "markdown",
   "id": "356ef4b7",
   "metadata": {},
   "source": [
    "Suppose that there exists some closed $F\\subseteq E$ such that for every $\\epsilon > 0$ and $x\\in F$, there is an $N\\in\\mathbb{N}$ such that for all $n\\geq N$, $|f_n(x)| < \\epsilon$ and $m(E\\backslash F) < \\epsilon$."
   ]
  },
  {
   "cell_type": "markdown",
   "id": "fcace61d",
   "metadata": {},
   "source": [
    "We see then that $x\\leq N$ and since $ x\\in F$, we will have $F \\subseteq [0, N]$. In other words, $m(F) < \\infty$. Notice then that that $m(E\\backslash F) = m\\left([N,\\infty]\\right) = \\infty > \\epsilon$.\n",
    "\n",
    "Therefore, Egoroff's theorem fails for the sequence $f_n = \\chi[n, n+1],\\;n\\in\\mathbb{N}$. $\\blacksquare$."
   ]
  }
 ],
 "metadata": {
  "kernelspec": {
   "display_name": "Julia 1.6.1",
   "language": "julia",
   "name": "julia-1.6"
  },
  "language_info": {
   "file_extension": ".jl",
   "mimetype": "application/julia",
   "name": "julia",
   "version": "1.6.1"
  }
 },
 "nbformat": 4,
 "nbformat_minor": 5
}
