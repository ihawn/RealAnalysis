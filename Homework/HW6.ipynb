{
 "cells": [
  {
   "cell_type": "markdown",
   "id": "ffc2f2a8",
   "metadata": {},
   "source": [
    "# Real Analysis Homework 6\n",
    "\n",
    "Isaac Hawn"
   ]
  },
  {
   "cell_type": "markdown",
   "id": "1385f422",
   "metadata": {},
   "source": [
    "$\\textbf{4)}$\n",
    "\n",
    "We want to give an example of a continuous function $g$ and a measurable function $h$ such that $h \\circ g$ is not measurable."
   ]
  },
  {
   "cell_type": "markdown",
   "id": "278b18d5",
   "metadata": {},
   "source": [
    "Let $g:[0,1]\\to[0,1]$ be the Cantor function and let $h:[0,1]\\to[0,2] = g(x) + x$. The Cantor function is continuous and therefore measurable. By proposition $19$, function $h$ is measurable as well."
   ]
  },
  {
   "cell_type": "markdown",
   "id": "d7a2e7e2",
   "metadata": {},
   "source": []
  }
 ],
 "metadata": {
  "kernelspec": {
   "display_name": "Julia 1.5.0",
   "language": "julia",
   "name": "julia-1.5"
  }
 },
 "nbformat": 4,
 "nbformat_minor": 5
}
