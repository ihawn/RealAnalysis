{
 "cells": [
  {
   "cell_type": "markdown",
   "id": "b225ea88",
   "metadata": {},
   "source": [
    "# Real Analysis Homework 8\n",
    "\n",
    "Isaac Hawn\n",
    "\n",
    "$\\textbf{1)}$\n",
    "\n",
    "Given that sequence $\\left<f_n\\right>$ of measurable functions converge in measure, we want to show the following:\n",
    "\n",
    "\n",
    "1. Every subsequence of $\\left<f_n\\right>$ also converges in measure.\n",
    "\n",
    "2. The limit function is unique a.e.\n",
    "\n",
    "\n",
    "Proof of 1:\n",
    "\n",
    "Let $f$ be the limit function of the sequence. Let $\\left<f_{n_k}\\right>$ be a subsequence of $\\left<f_n\\right>$. As a subsequence we must have that for some $N_1 \\in \\mathbb{N}$, there is an $N_2 \\in \\mathbb{N}$ such that if $k \\geq N_2$, we will have $n_k \\geq N_1$.\n",
    "\n",
    "Since $\\left<f_n\\right>$ converges in measure, we have that there is an $N_1$ such that for all $n\\geq N_1$, we have $m\\{x:|f(x)-f_n(x)|\\geq \\epsilon\\} < \\epsilon$ for $\\epsilon > 0$.\n",
    "\n",
    "Therefore, for $k \\geq N_2$ we have $n_k \\geq N_1$ and $m\\{x:|f(x)-f_{n_k}(x)|\\geq \\epsilon\\} < \\epsilon$ for $\\epsilon > 0$. Thus, each $\\left<f_{n_k}\\right>$ converges in measure to $f$.$\\blacksquare$\n",
    "\n",
    "Proof of 2:\n",
    "\n",
    "Let $f_1$ be such that $\\left<f_n\\right>$ converges to $f_1$ in measure. Since $\\left<f_n\\right>$ converges in measure, each subsequence $\\left<f_{n_k}\\right>$ will converge in measure by $1$. Let $f_2$ be such that $\\left<f_{n_k}\\right>$ converges to $f_2$ in measure.\n",
    "\n",
    "By Proposition $18$, there is a subsequence $\\left<f_{n_{k_i}}\\right>$ that converges to $f_2$ a.e. \n",
    "\n",
    "Again, by Proposition $18$, $\\left<f_{n_k}\\right>$ converges to $f_1$ a.e. since $\\left<f_n\\right>$ converges in measure to $f_1$. Therefore, $\\left<f_{n_{k_i}}\\right>$ converges to $f_1$ a.e. since it is a subsequence of $\\left<f_{n_k}\\right>$.\n",
    "\n",
    "So we have that $\\left<f_{n_{k_i}}\\right>$ converges a.e. to both $f_1$ and $f_2$ meaning $f_1 = f_2$. Thus, the limit function is unique a.e. $\\blacksquare$\n",
    "\n"
   ]
  },
  {
   "cell_type": "markdown",
   "id": "4eb230a5",
   "metadata": {},
   "source": [
    "$\\textbf{2)}$\n",
    "\n",
    "We assume a sequence $\\left<f_n\\right>$ of measurable functions converges in measure to a function $f$. We want to prove the following:\n",
    "\n",
    "(i). $\\left<f_n\\right>$ is uniformly integrable if and only if $\\left<|f_n - f|\\right>$ is uniformly integrable.\n",
    "\n",
    "Proof:"
   ]
  },
  {
   "cell_type": "markdown",
   "id": "4acd4509",
   "metadata": {},
   "source": [
    "Assume $\\left<f_n\\right>$ is uniformly integrable over a set $E$. That is, for every $\\epsilon > 0$, there is a $\\delta > 0$ such that for each $f_i \\in \\left<f_n\\right>$, if $A\\subseteq E$ is measurable and $m(A) < \\delta$, then $\\int_A|f_i| < \\epsilon$."
   ]
  },
  {
   "cell_type": "markdown",
   "id": "eb0c2ad3",
   "metadata": {},
   "source": [
    "We have that $\\left<f_n\\right>$ converges to $f$ in measure meaning that given $\\epsilon > 0$, there is an $N\\in\\mathbb{N}$ such that for all $n\\geq N$, we have that $m\\{x:|f_n(x) - f(x)| \\geq \\epsilon\\} < \\epsilon$."
   ]
  },
  {
   "cell_type": "markdown",
   "id": "3cee53a6",
   "metadata": {},
   "source": [
    "By $3$, Fatou's Lemma remains valid in the case of convergence in measure. Thus, $\\int_A |f| \\leq \\underline{\\lim}\\int_A |f_n| < \\epsilon$ for some $\\epsilon > 0$ and $m(A) < \\delta$."
   ]
  },
  {
   "cell_type": "markdown",
   "id": "4d59be09",
   "metadata": {},
   "source": [
    "Thus we see that $\\int_A |f - f_n| \\leq \\int_A |f| \\leq \\underline{\\lim}\\int_A |f_n| < \\epsilon$ for some $\\epsilon > 0$ and large enough $n$ because $f_n$ converges to $f$ in measure. Thus, $\\left<|f_n - f|\\right>$ is uniformly integrable."
   ]
  },
  {
   "cell_type": "markdown",
   "id": "73f00f54",
   "metadata": {},
   "source": [
    "Conversely, suppose that $\\left<|f_n - f|\\right>$ is uniformly integrable but $\\left<f_n\\right>$ is not. Then, for every $\\epsilon > 0$, there is a $\\delta > 0$ such that for each $f_i \\in \\left<f_n\\right>$, if $A\\subseteq E$ is measurable and $m(A) < \\delta$, then $\\int_A|f_i- f| < \\epsilon$ and $\\int_A|f_i| \\geq \\epsilon$."
   ]
  },
  {
   "cell_type": "markdown",
   "id": "24713994",
   "metadata": {},
   "source": [
    "Further, we see that $\\left|\\int_Af_n - \\int_A f\\right| \\leq \\int_A|f_n - f| < \\epsilon$."
   ]
  },
  {
   "cell_type": "markdown",
   "id": "c992a032",
   "metadata": {},
   "source": [
    "By Fatou's Lemma, we have $\\int_A |f| \\leq \\underline{\\lim}\\int_A |f_n|$ so $\\left|\\int_Af_n - \\int_A f\\right| \\geq \\left|\\int_Af_n -  \\underline{\\lim}\\int_A |f_n|\\right|\\geq \\epsilon$ which is a contradiction. Thus, $\\left<f_n\\right>$ is uniformly integrable."
   ]
  },
  {
   "cell_type": "markdown",
   "id": "52900929",
   "metadata": {},
   "source": [
    "Therefore, $\\left<f_n\\right>$ is uniformly integrable if and only if $\\left<|f_n - f|\\right>$ is uniformly integrable. $\\blacksquare"
   ]
  },
  {
   "cell_type": "markdown",
   "id": "d157e187",
   "metadata": {},
   "source": [
    " (ii). $\\left<f_n\\right>$ is tight if and only if $\\left<|f_n - f|\\right>$ is tight.\n",
    " \n",
    " Proof:"
   ]
  },
  {
   "cell_type": "markdown",
   "id": "6832fa03",
   "metadata": {},
   "source": [
    "Assume $\\left<f_n\\right>$ is uniformly integrable meaning $\\left<|f_n - f|\\right>$ is uniformly integrable by (i). Further, assume $\\left<f_n\\right>$ defined on $E$ and tight. That is, for each $\\epsilon > 0$, there is an $E_0\\subseteq E$ of finite measure for which $\\int_{E\\backslash E_0} |f_i|<\\epsilon$ for all $f_i \\in \\left<f_n\\right>$."
   ]
  },
  {
   "cell_type": "markdown",
   "id": "0a862a90",
   "metadata": {},
   "source": [
    "By Fatou's Lemma, $\\int_{E\\backslash E_0} |f| \\leq \\underline{\\lim}\\int_{E\\backslash E_0} |f_n| < \\epsilon$. Since $f_n\\to f$ in measure, $\\int_{E\\backslash E_0} |f_n - f| < \\int_{E\\backslash E_0} |f|$ for large enough $n$. This implies $\\int_{E\\backslash E_0} |f_n - f| < \\epsilon$ meaning $\\left<|f_n - f|\\right>$ is tight."
   ]
  },
  {
   "cell_type": "markdown",
   "id": "1183bd4d",
   "metadata": {},
   "source": [
    "Conversely, suppose $\\left<|f_n - f|\\right>$ is tight. Pick $E\\backslash E_0 \\subset E$ such that $m(E\\backslash E_0) < \\delta$. By the uniform integrability of $\\left<f_n\\right>$, we have $\\int_{E\\backslash E_0} |f_n| <\\epsilon$ meaning $\\left<f_n\\right>$ is tight by definition."
   ]
  },
  {
   "cell_type": "markdown",
   "id": "1cb92272",
   "metadata": {},
   "source": [
    "Therefore, $\\left<f_n\\right>$ is tight if and only if $\\left<|f_n - f|\\right>$ is tight. $\\blacksquare$"
   ]
  },
  {
   "cell_type": "markdown",
   "id": "d593d606",
   "metadata": {},
   "source": [
    "$\\textbf{3)}$\n",
    "\n",
    "We want to show that Fatou's Lemma remains valid if we assume convergence in measure instead of convergence a.e.\n",
    "\n",
    "\n",
    "Proof:\n",
    "\n",
    "Let $\\left<f_n\\right>$ be a sequence of non-negative measurable functions such that $f_n$ converges to a function $f$ in measure on a set $E$. Take a subsequence $\\left<{f_{n_k}}\\right>$ such that $\\lim\\int_E{f_{n_k}} = \\underline{\\lim}\\int_E f_n$. We know that $\\left<f_{n_{k}}\\right>$ converges to $f$ a.e. by Proposition $18$. Note that $\\left<{f_{n_k}}\\right>$ also must be non-negative.\n",
    "\n",
    "By Fatou's Lemma (the original wording), we have that $\\int_E f \\leq \\underline{\\lim}\\int_E  f_{n_k}$. Thus, $\\int_E f \\leq \\underline{\\lim}\\int_E  f_{n_k} \\leq \\lim\\int_E{f_{n_k}} = \\underline{\\lim}\\int_E f_n$ thus confirming the result of Fatou's Lemma. $\\blacksquare$"
   ]
  }
 ],
 "metadata": {
  "kernelspec": {
   "display_name": "Julia 1.6.1",
   "language": "julia",
   "name": "julia-1.6"
  },
  "language_info": {
   "file_extension": ".jl",
   "mimetype": "application/julia",
   "name": "julia",
   "version": "1.6.1"
  }
 },
 "nbformat": 4,
 "nbformat_minor": 5
}
