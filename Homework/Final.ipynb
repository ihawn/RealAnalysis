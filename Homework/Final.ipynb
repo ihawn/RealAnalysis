{
 "cells": [
  {
   "cell_type": "markdown",
   "id": "539de5c8",
   "metadata": {},
   "source": [
    "# Real Analysis Final\n",
    "\n",
    "Isaac Hawn"
   ]
  },
  {
   "cell_type": "markdown",
   "id": "708aff97",
   "metadata": {},
   "source": [
    "### 1)\n",
    "\n",
    "#### a.\n",
    "For $E\\subset\\mathbb{R}$, we want to show that $mE = 0$ if and only if there are countably many intervals $\\{I_n\\}_{n\\in\\mathbb{N}}$ such that $\\sum_{n\\in\\mathbb{N}} \\ell(I_n) < \\infty$ and each $x\\in E$ lies in the interior of infinitely many of these intervals."
   ]
  },
  {
   "cell_type": "markdown",
   "id": "77d7fd0a",
   "metadata": {},
   "source": [
    "Proof:\n",
    "\n",
    "Suppose $mE = 0$ for $E\\subset\\mathbb{R}$. Then we may construct a countable collection $\\{S_{\\epsilon_n}\\}_{n\\in\\mathbb{N}}$ of collections of open intervals $\\{I_j\\}_{j\\in\\mathbb{N}}$ covering $E$ such that $\\sum_{j\\in\\mathbb{N}}\\ell(I_j) < \\epsilon$ and $\\epsilon > 0$. Let $\\epsilon = \\frac{1}{2^n}$. We have that $U = \\bigcup_{n\\in\\mathbb{N}}\\left(\\bigcup_{j\\in\\mathbb{N}} I_j\\right)$ is countable and since the sum of each $I_j \\in \\{I_j\\}_{j\\in\\mathbb{N}}\\in \\{S_{\\epsilon_n}\\}_{n\\in\\mathbb{N}}$ is less than $\\epsilon = \\frac{1}{2^n}$ we have:\n",
    "\n",
    "$$\n",
    "\\sum_{n\\in\\mathbb{N}} \\ell(I_n\\in U) < \\sum_{n\\in\\mathbb{N}} \\frac{1}{2^n} = 1 < \\infty\n",
    "$$"
   ]
  },
  {
   "cell_type": "markdown",
   "id": "794c2cbf",
   "metadata": {},
   "source": [
    "Consider also a point $x\\in E$. Then, there exists some $\\{I_j\\}_{j\\in\\mathbb{N}}\\in\\{S_{\\epsilon_n}\\}_{n\\in\\mathbb{N}}$ such that there is an $I_k\\in\\{I_j\\}$ with $x\\in I_k$. We have that $\\ell(I_k) = \\delta > 0$ but we must also have that $\\epsilon = \\frac{1}{2^m} < \\delta$ for $m$ large enough. Therefore there exists an $I_m$ such that $\\ell(I_m) < \\ell(I_k)$ and $m > k$. In this way, we may construct an infinite sequence of intervals $I_1, I_2,\\ldots$ containing $x$ such that $\\ell(I_{n+1}) < \\ell(I_n)$ for each $n$. We picked an arbitrary $x$ so we can construct such a sequence for any $x\\in E$. Notice too that each interval in $I_1, I_2,\\ldots$ is distinct since each of their lengths are distinct due to the strict inequality. \n",
    "\n",
    "Thus if $mE = 0$, there are countably many intervals $\\{I_n\\}_{n\\in\\mathbb{N}}$ such that $\\sum_{n\\in\\mathbb{N}} \\ell(I_n) < \\infty$ and each $x\\in E$ lies in the interior of infinitely many of these intervals."
   ]
  },
  {
   "cell_type": "markdown",
   "id": "3fc931ed",
   "metadata": {},
   "source": [
    "Conversely, suppose that there are countably many intervals $\\{I_n\\}_{n\\in\\mathbb{N}}$ such that $\\sum_{n\\in\\mathbb{N}} \\ell(I_n) < \\infty$ and each $x\\in E$ lies in the interior of infinitely many of these intervals. Let $E\\subseteq S$ for measurable set $S$."
   ]
  },
  {
   "cell_type": "markdown",
   "id": "ad4df55c",
   "metadata": {},
   "source": [
    "By the proof of the Borel-Cantelli Lemma on p. 46 in Royden 4th edition, for some $k$ we have that:\n",
    "\n",
    "$$\n",
    "mS = m\\left(\\bigcap_{j\\geq 0}^\\infty\\left(\\bigcup_{k>j}^\\infty I_k\\right)\\right) \\leq m\\left(\\bigcup_{n>k}^\\infty I_n\\right)\n",
    "$$"
   ]
  },
  {
   "cell_type": "markdown",
   "id": "6bfb4c24",
   "metadata": {},
   "source": [
    "For some collection of intervals, we have that $m\\left(\\bigcup I_n\\right) \\leq \\sum\\ell(I_n)$. Therefore:\n",
    "\n",
    "$$\n",
    "m\\left(\\bigcup_{n>k}^\\infty I_n\\right) \\leq \\sum_{n>k}^\\infty \\ell(I_n)\n",
    "$$"
   ]
  },
  {
   "cell_type": "markdown",
   "id": "5ad7c213",
   "metadata": {},
   "source": [
    "Further, we have that $\\sum_{n\\in\\mathbb{N}} \\ell(I_n) < \\infty$ meaning that its tail must go to zero. In other words:\n",
    "\n",
    "$$\n",
    "\\lim_{k\\to\\infty} \\sum_{n>k}^\\infty \\ell(I_n) = 0\n",
    "$$"
   ]
  },
  {
   "cell_type": "markdown",
   "id": "6b8ece4c",
   "metadata": {},
   "source": [
    "Thus, $mS = 0$ and $E\\subseteq S$ so $mE = 0$.\n",
    "\n",
    "Therefore, for $E\\subset\\mathbb{R}$, $mE = 0$ if and only if there are countably many intervals $\\{I_n\\}_{n\\in\\mathbb{N}}$ such that $\\sum_{n\\in\\mathbb{N}} \\ell(I_n) < \\infty$ and each $x\\in E$ lies in the interior of infinitely many of these intervals. $\\blacksquare$"
   ]
  },
  {
   "cell_type": "markdown",
   "id": "a00c0af9",
   "metadata": {},
   "source": [
    "#### b.\n",
    "\n",
    "For set $E\\subset(0,1)$, with measure zero, we want to find a continuous, non-decreasing function $f:[0,1]\\to\\mathbb{R}$ such that $f'(x)=\\infty$ for all $x\\in E$."
   ]
  },
  {
   "cell_type": "markdown",
   "id": "e38e90f3",
   "metadata": {},
   "source": [
    "Let $f(x) = \\left(x-\\frac12\\right)^\\frac13$ over $[0,1]$ and let $E = \\left\\{\\frac12\\right\\}$. Then $f$ is a continuous, non-decreasing function with infinite slope over set $E$ which has measure zero.\n",
    "\n",
    "-----------------------------------\n",
    "\n",
    "Proof of Continuity:"
   ]
  },
  {
   "cell_type": "markdown",
   "id": "be2afc30",
   "metadata": {},
   "source": [
    "Pick some $y\\in[0,1]$\n",
    "\n",
    "Let $y = \\frac12$. For $\\epsilon > 0$, let $\\delta = \\epsilon^3$. Then, if $|x-y| < \\delta$, we will have that $|f(x) - f(y)| = \\left|\\left(x-\\frac12\\right)^\\frac13 - 0\\right| <\\delta^\\frac13 = \\epsilon$. Thus $f$ is continuous at $\\frac12$."
   ]
  },
  {
   "cell_type": "markdown",
   "id": "ce8d4a0e",
   "metadata": {},
   "source": [
    "For $y\\neq\\frac12$, write $|f(x) - f(y)|$ in the following way:\n",
    "\n",
    "$$\n",
    "|f(x) - f(y)| = \\left|f(x) - f(y)\\right|\\frac{\\left|f(x)^2 + f(x)f(y) +f(y)^2\\right|}{\\left|f(x)^2 + f(x)f(y)+f(y)^2 \\right|} = \\frac{\\left|f(x)^3 - f(y)^3\\right|}{\\left|f(x)^2 + f(x)f(y) +f(y)^2\\right|} = \\frac{|x-y|}{\\left|f(x)^2 + f(x)f(y) +f(y)^2\\right|}\n",
    "$$"
   ]
  },
  {
   "cell_type": "markdown",
   "id": "3b58f11d",
   "metadata": {},
   "source": [
    "If $y > \\frac12$, pick $x > \\frac{y}{2}$. Then $f(x),f(y) > 0$ so $f(x)^2 + f(x)f(y) + f(y)^2 > f(y)^2 > 0$."
   ]
  },
  {
   "cell_type": "markdown",
   "id": "62011b2f",
   "metadata": {},
   "source": [
    "If $y < \\frac12$, pick $x<\\frac y2$. Then $f(x),f(y) < 0$ so $f(x)^2 + f(x)f(y) + f(y)^2 > f(y)^2 > 0$."
   ]
  },
  {
   "cell_type": "markdown",
   "id": "8606b538",
   "metadata": {},
   "source": [
    "Thus in either case, we have:\n",
    "\n",
    "$$\n",
    "|f(x) - f(y)| = \\frac{|x-y|}{\\left|f(x)^2 + f(x)f(y) +f(y)^2\\right|} < \\frac{|x-y|}{f(y)^2}\n",
    "$$"
   ]
  },
  {
   "cell_type": "markdown",
   "id": "dc785909",
   "metadata": {},
   "source": [
    "Let $\\delta = \\min\\left\\{f(y)^2\\epsilon, \\frac{|y|}{2}\\right\\}$ and let $|x-y| <\\delta$. Then:\n",
    "\n",
    "$$\n",
    "|f(x) - f(y)| < \\frac{|x-y|}{f(y)^2} < \\frac{f(y)^2\\epsilon}{f(y)^2} = \\epsilon.\n",
    "$$\n",
    "\n",
    "Therefore, $f$ is continuous over $[0,1]$. $\\blacksquare$\n",
    "\n",
    "-------------------------------------"
   ]
  },
  {
   "cell_type": "markdown",
   "id": "e6c8c7e7",
   "metadata": {},
   "source": [
    "Proof that $f'(x)$ over $E$ is $\\infty$:"
   ]
  },
  {
   "cell_type": "markdown",
   "id": "5d96dda3",
   "metadata": {},
   "source": [
    "Set $E$ contains only $\\frac12$ so clearly $mE = 0$. For $h>0$ take the limit at $\\frac12$:\n",
    "\n",
    "$$\n",
    "\\lim_{h\\to0} \\frac{\\left(\\frac12+h-\\frac12\\right)^\\frac13 - \\left(\\frac12-\\frac12\\right)^\\frac13}{h} = \\lim_{h\\to0}h^{-\\frac23}\n",
    "$$"
   ]
  },
  {
   "cell_type": "markdown",
   "id": "cbbeff8c",
   "metadata": {},
   "source": [
    "Pick $\\delta$ such that $0<h<\\delta$. For any such $h$, we may find an $N\\in\\mathbb{R}$ such that $h^{-\\frac23} > N$. Therefore, the limit is unbounded meaning $f'(x) = \\infty$ at $\\frac12$."
   ]
  },
  {
   "cell_type": "markdown",
   "id": "bc21220d",
   "metadata": {},
   "source": [
    "Proof That $f$ is Non-Decreasing:\n",
    "\n",
    "We will prove that it is strictly increasing which is more than enough. Pick $x,y\\in[0,1]$ such that $x < y$. Then we always have $\\left(x-\\frac12\\right)^\\frac13 < \\left(y-\\frac12\\right)^\\frac13$ i.e. $f$ is increasing. $\\blacksquare$"
   ]
  },
  {
   "cell_type": "markdown",
   "id": "3a5e2f6b",
   "metadata": {},
   "source": [
    "### 2)\n",
    "\n",
    "#### a.\n",
    "\n",
    "We want to prove that the Dirichlet function is not a limit of a sequence of continuous functions."
   ]
  },
  {
   "cell_type": "markdown",
   "id": "54028e35",
   "metadata": {},
   "source": [
    "Proof:\n",
    "\n",
    "Assuming that the Dirichlet function is discontinuous everywhere, "
   ]
  },
  {
   "cell_type": "markdown",
   "id": "ec11b0cb",
   "metadata": {},
   "source": [
    "#### b.\n",
    "\n",
    "We want to prove that:\n",
    "\n",
    "$$\n",
    "\\chi_\\mathbb{Q}(x) = \\lim_{n\\to\\infty}\\lim_{m\\to\\infty} [\\cos(2\\pi n!x)]^m,\\;\\;x\\in\\mathbb{R}\n",
    "$$"
   ]
  },
  {
   "cell_type": "markdown",
   "id": "7972dd7f",
   "metadata": {},
   "source": [
    "Proof:\n",
    "\n",
    "For $n\\in\\mathbb{N}$, let $f_n(x) = \\lim_{m\\to\\infty}[\\cos(2\\pi n!x)]^{m}$. If $n!x\\in\\mathbb{Z}$ we will have $\\cos(2\\pi n!x) = 1$ so $ \\lim_{m\\to\\infty}[\\cos(2\\pi n!x)]^{m} = 1$. On the other hand, if $n!x\\notin\\mathbb{Z}$, $\\cos(2\\pi n!x) < 1$ so $\\lim_{m\\to\\infty}[\\cos(2\\pi n!x)]^{m} = 0$. Thus we have $f_n(x) = \\begin{cases} 1,\\; n!x\\in\\mathbb{Z} \\\\ 0,\\;\\text{else} \\end{cases}$."
   ]
  },
  {
   "cell_type": "markdown",
   "id": "671591ca",
   "metadata": {},
   "source": [
    "Let $g(x) = \\lim_{n\\to\\infty} f_n(x)$. If $x\\in\\mathbb{Q}$, we have that $x=\\frac{p}{q}$ for integers $p$ and $q$ and $\\frac{p}{q}$ is fully reduced. Notice that if $n\\geq q$, some part of the factorization of $n$ will cancel with $q$ and the value $\\frac{n!p}{q}$ will be an integer. Since $g(x) =  \\lim_{n\\to\\infty} f_n(x)$, this implies that $g(x) = 1$ if $x$ is rational."
   ]
  },
  {
   "cell_type": "markdown",
   "id": "1b30bdd1",
   "metadata": {},
   "source": [
    "If $x\\notin\\mathbb{Q}$, we will have $g(x)=\\lim_{n\\to\\infty} f_n(x) = 0$. Therefore:\n",
    "\n",
    "$$\n",
    "\\chi_\\mathbb{Q}(x) = g(x) = \\lim_{n\\to\\infty}\\lim_{m\\to\\infty} [\\cos(2\\pi n!x)]^m,\\;\\;x\\in\\mathbb{R}. \\;\\;\\blacksquare\n",
    "$$"
   ]
  },
  {
   "cell_type": "markdown",
   "id": "6b5a05c1",
   "metadata": {},
   "source": [
    "### 4)\n",
    "\n",
    "Let function $g$ be a monotone increasing absolutely continuous function on $[a,b]$ with $g(a) = c$ and $g(b) = d$.\n",
    "\n",
    "#### a.\n",
    "\n",
    "We want to show that for any open set $O\\subset[c,d]$, we have:\n",
    "\n",
    "$$\n",
    "mO = \\int_{g^{-1}[O]} g'(x) dx\n",
    "$$"
   ]
  },
  {
   "cell_type": "markdown",
   "id": "cc4ed502",
   "metadata": {},
   "source": [
    "Proof:\n",
    "\n",
    "Let $O$ be an open set with $O\\subset[c,d]$. We may express any open set as the countable union of disjoint open intervals. Denote such intervals $I_n$ so that we have $O = \\bigcup I_n$. Define sequences $x_n$ and $y_n$ so that we have $I_n = (x_n, y_n)$ for each $n$. "
   ]
  },
  {
   "cell_type": "markdown",
   "id": "ef40a5a6",
   "metadata": {},
   "source": [
    "Due to continuity and since $g(a) = c, g(b) = d$, we must have that there are sequences $u_n, v_n\\in[c,d]$ such that $g(u_n) = x_n$ and $g(v_n) = y_n$ for each $n$. Denote $J_n = (u_n, v_n)$. Thus we have $g^{-1}[O] = g^{-1}\\left[\\bigcup I_n\\right] = \\bigcup g^{-1}[I_n]$. But we have that $I_n = (g(u_n),g(v_n))$ meaning that $\\bigcup g^{-1}[I_n] = \\bigcup J_n$."
   ]
  },
  {
   "cell_type": "markdown",
   "id": "615098d7",
   "metadata": {},
   "source": [
    "This implies that $\\int_{g^{-1}[O]} g'(x) dx = \\int_{\\cup J_n} g'(x) dx = \\sum \\int_{J_n} g'(x) dx$ due to disjointness. Integrating the right side yields $\\sum \\int_{J_n} g'(x) dx =\\sum (g(v_n) - g(u_n)) = \\sum \\ell(I_n)$. Since all $I_n$ are disjoint, $\\sum \\ell(I_n) = m\\left(\\bigcup I_n\\right) = mO$. Therefore, $mO = \\int_{g^{-1}[O]} g'(x) dx$. $\\blacksquare$"
   ]
  },
  {
   "cell_type": "markdown",
   "id": "c73fcdc8",
   "metadata": {},
   "source": [
    "#### b.\n",
    "\n",
    "For $H = \\{x:g'(x)\\neq0\\}$ and $E\\subset[c,d]$ with $mE = 0$, we want to prove that $m(g^{-1}(E)\\cap H) = 0$."
   ]
  },
  {
   "cell_type": "markdown",
   "id": "f365185d",
   "metadata": {},
   "source": [
    "Proof:\n",
    "\n",
    "Let $E\\subset[c,d]$ with $mE = 0$ and let $H = \\{x:g'(x)\\neq0\\}$. By proposition 5 on page 58, there exists an open set $O$ such that $E\\subset O$ and $mO < mE +\\epsilon$ for $\\epsilon > 0$ implying $mO < \\epsilon$."
   ]
  },
  {
   "cell_type": "markdown",
   "id": "237cc129",
   "metadata": {},
   "source": [
    "Part $a$ tells us that $mO = \\int_{g^{-1}[O]} g'(x) dx$ so we have $\\int_{g^{-1}[O]} g'(x) dx < \\epsilon$. We also have that $E\\subset O$ implying that $g^{-1}(E)\\subset g^{-1}(O)$. Further $g^{-1}(E)\\cap H \\subset g^{-1}(E)$. Therefore:\n",
    "\n",
    "$$\n",
    "\\int_{g^{-1}(E)\\cap H}g'(x) dx \\leq \\int_{g^{-1}(E)}g'(x) dx \\leq \\int_{g^{-1}[O]}g'(x) dx < \\epsilon\n",
    "$$"
   ]
  },
  {
   "cell_type": "markdown",
   "id": "1a5ca751",
   "metadata": {},
   "source": [
    "This is true for all $\\epsilon>0$ which implies that $\\int_{g^{-1}(E)\\cap H}g'(x) dx = 0$. However, $g$ is a monotone increasing function on $[a,b]$ and is nonzero on $g^{-1}(E)\\cap H$ by the definition of $H$. Therefore, $g'(x) > 0$ on $g^{-1}(E)\\cap H$. This means that $\\int_{g^{-1}(E)\\cap H}g'(x) dx$ may only be zero if $m(g^{-1}(E)\\cap H) = 0$. $\\blacksquare$"
   ]
  },
  {
   "cell_type": "markdown",
   "id": "d856cd93",
   "metadata": {},
   "source": [
    "#### c.\n",
    "\n",
    "For measurable $E\\subset[c,d]$, we want to prove that $F = g^{-1}[E]\\cap H$ is measurable and:\n",
    "\n",
    "$$\n",
    "mE = \\int_F g'(x) dx = \\int_a^b \\chi_E(g(x))g'(x)dx\n",
    "$$"
   ]
  },
  {
   "cell_type": "markdown",
   "id": "c544c017",
   "metadata": {},
   "source": [
    "Proof:\n",
    "\n",
    "Let $E$ and $H$ be as before and let $F = g^{-1}[E]\\cap H$. Right away we have that $g^{-1}(E)$ is measurable since $E$ is measurable and $g$ is continuous. Further, since $g$ is increasing on $[a,b]$, we have that $g'$ is measurable by Theorem 3 so $H$ must be measurable as well since it is part of the domain of $g'$. Measurability is closed under finite intersection so $F = g^{-1}[E]\\cap H$ is measurable."
   ]
  },
  {
   "cell_type": "markdown",
   "id": "d62f0ebd",
   "metadata": {},
   "source": [
    "By proposition 15 on page 63, there is a $G\\in G_\\delta$ such that $E\\subset G \\subset [c,d]$ and $m(G\\backslash E) = 0$. Thus, $g^{-1}(G\\backslash E)\\cap H$ has measure zero by part $b$. Clearly $g^{-1}(G)\\cap H = [g^{-1}(E)\\cap H] \\cup [g^{-1}(G\\backslash E)\\cap H]$ and we have just shown that $m[g^{-1}(G\\backslash E)\\cap H] = 0$ so we must have:\n",
    "\n",
    "$$\n",
    "\\int_{g^{-1}(E)\\cap H} g'(x) dx = \\int_{g^{-1}(G)\\cap H}g'(x) dx\n",
    "$$"
   ]
  },
  {
   "cell_type": "markdown",
   "id": "496b37bf",
   "metadata": {},
   "source": [
    "Therefore, we need only show that the desired result holds for $G$. We have that $G\\in G_\\delta$. Thus, it is the countable intersection of open sets $O_n$. Without loss of generality, we may assume $\\left<O_n\\right>$ is decreasing so that $\\lim_{n\\to\\infty} mO_n = mG$."
   ]
  },
  {
   "cell_type": "markdown",
   "id": "db0ffc8f",
   "metadata": {},
   "source": [
    "Part $a$ tells us that $mO_n = \\int_{g^{-1}[O_n]} g'(x) dx$ which can be written as $\\int_a^b \\chi_{O_n}(g(x))g'(x) dx$. We have that $\\lim_{n\\to\\infty} mO_n = mG$ and $\\chi_{O_n}(g(x))g'(x) > 0$ since $g$ is monotone increasing. Further $\\chi_{O_n}(g(x))g'(x) \\leq g'(x)$ so by the Lebesgue Dominated Convergence Theorem:\n",
    "\n",
    "$$\n",
    "\\lim_{n\\to\\infty} \\int_a^b \\chi_{O_n}(g(x))g'(x) dx = \\int_a^b \\chi_{G}(g(x))g'(x) dx\n",
    "$$\n",
    "\n",
    "Thus we have:\n",
    "\n",
    "$$\n",
    "mG = \\int_{g^{-1}(G)\\cap H} g'(x) dx = \\int_a^b \\chi_{G}(g(x))g'(x) dx\n",
    "$$\n",
    "\n",
    "This implies:\n",
    "\n",
    "$$\n",
    "mE = \\int_F g'(x) dx = \\int_a^b \\chi_{E}(g(x))g'(x) dx. \\;\\;\\blacksquare\n",
    "$$"
   ]
  },
  {
   "cell_type": "markdown",
   "id": "25dad268",
   "metadata": {},
   "source": [
    "#### d.\n",
    "\n",
    "For measurable, nonnegative function $f$ on $[c,d]$, we want to prove that $(f\\circ g)g'$ is measurable on $[a,b]$ and:\n",
    "\n",
    "$$\n",
    "\\int_c^d f(y) dy = \\int_a^b f(g(x))g'(x) dx\n",
    "$$"
   ]
  },
  {
   "cell_type": "markdown",
   "id": "af1290bd",
   "metadata": {},
   "source": [
    "Proof:\n",
    "\n",
    "Let $f$ be given as above. By problem 4 on page 89, there exists an increasing sequence $\\left<\\phi_n\\right>$ of nonnegative simple functions on $[c,d]$ such that $\\lim_{n\\to\\infty} \\phi_n = f$. Simple functions are measurable meaning $\\phi_n\\circ g$ is measurable. Further, we have that $g'$ is measurable from the first part of the proof in part $c$. Measurability is closed under multiplication so $(\\phi_n\\circ g)g'$ is measurable implying $(f\\circ g)g'$ is measurable."
   ]
  },
  {
   "cell_type": "markdown",
   "id": "07200f21",
   "metadata": {},
   "source": [
    "We have that $\\lim_{n\\to\\infty} \\phi_n = f$ so $\\lim_{n\\to\\infty}\\int_c^d \\phi_n = \\int_c^d f$ by the Monotone Convergence Theorem. We also have that $\\phi_n$ is of the form $\\sum_{k=1}^N \\alpha_{n_k}\\chi_{E_k}$ so let $\\phi_n(g(x)) = \\sum_{k=1}^N \\alpha_{n_k}\\chi_{E_k}(g(x))$ for each $n$. Thus:\n",
    "\n",
    "$$\n",
    "\\int_a^b \\phi_n(g(x))g'(x) dx = \\sum_{k=1}^N \\int_a^b \\alpha_{n_k}\\chi_{E_k}(g(x))g'(x) dx\n",
    "$$"
   ]
  },
  {
   "cell_type": "markdown",
   "id": "c4f1d69e",
   "metadata": {},
   "source": [
    "By part $c$ we have that $mE = \\int_a^b \\chi_{E}(g(x))g'(x) dx$ so:\n",
    "\n",
    "$$\n",
    "\\sum_{k=1}^N \\int_a^b \\alpha_{n_k}\\chi_{E_k}(g(x))g'(x) dx = \\sum_{k=1}^N \\alpha_{n_k} mE_k\n",
    "$$"
   ]
  },
  {
   "cell_type": "markdown",
   "id": "9e951cd3",
   "metadata": {},
   "source": [
    "The measure of a set is equal to the integral of its characteristic. Thus we have:\n",
    "\n",
    "$$\n",
    "\\sum_{k=1}^N \\alpha_{n_k} mE_k = \\int_c^d \\sum_{k=1}^N \\alpha_{n_k} \\chi_{E_k} = \\int_c^d \\phi_n\n",
    "$$"
   ]
  },
  {
   "cell_type": "markdown",
   "id": "64932158",
   "metadata": {},
   "source": [
    "Therefore:\n",
    "\n",
    "$$\n",
    "\\int_a^b \\phi_n(g(x))g'(x) dx = \\int_c^d \\phi_n (y) dy\n",
    "$$"
   ]
  },
  {
   "cell_type": "markdown",
   "id": "f2cf3686",
   "metadata": {},
   "source": [
    "Taking the limit of both sides yields:\n",
    "\n",
    "$$\n",
    "\\lim_{n\\to\\infty}\\int_a^b \\phi_n(g(x))g'(x) dx = \\lim_{n\\to\\infty}\\int_c^d \\phi_n(y) dy\n",
    "$$"
   ]
  },
  {
   "cell_type": "markdown",
   "id": "dd599e9b",
   "metadata": {},
   "source": [
    "As shown before, $\\lim_{n\\to\\infty}\\int_c^d \\phi_n(y) = \\int_c^d f(y)$ so we have:\n",
    "\n",
    "$$\n",
    "\\int_a^b f(g(x))g'(x) dx = \\int_c^d f(y) dy.\\;\\;\\blacksquare\n",
    "$$"
   ]
  },
  {
   "cell_type": "markdown",
   "id": "b7d1034a",
   "metadata": {},
   "source": [
    "### 5)\n",
    "\n",
    "For sequence of functions $f_n:[0,\\pi]\\to\\mathbb{R}$ given by:\n",
    "\n",
    "$$\n",
    "f_n(x) = \\frac{n\\sin(x)}{1+n^2\\sin^2(x)},\\;\\;n\\in\\mathbb{N}\n",
    "$$\n",
    "\n",
    "We want to find an explicit set $E_\\delta$ such that $\\left<f_n\\right>$ converges uniformly on $E_\\delta$ and $m([0,\\pi]\\backslash E_\\delta)<\\delta$."
   ]
  },
  {
   "cell_type": "markdown",
   "id": "5db78688",
   "metadata": {},
   "source": [
    "Proof:\n",
    "\n",
    "We must first check if Egoroff's theorem applies for this sequence. We see that for each $n$, the set $\\{x\\in[0,\\pi]:f_n(x)> a\\}$ is measurable. Therefore $f_n$ is measurable. Further $\\frac{n\\sin(x)}{1+n^2\\sin^2(x)}$ converges to zero on $[0,\\pi]$ except on the endpoints since if $x$ is zero or $\\pi$, we have $\\lim_{n\\to\\infty}f_n(x) = \\lim_{n\\to\\infty} \\frac{n\\sin(x)}{1+n^2\\sin^2(x)} = \\lim_{n\\to\\infty} \\frac{n\\cos(x)}{2n^2\\sin(x)\\cos(x)} \\neq 0$. In other words, $f_n$ converges to zero almost everywhere on a measurable set of finite measure. Thus, by Egoroff's Theorem, there is a set $E_\\delta$ such that $\\left<f_n\\right>$ converges uniformly on $E_\\delta$ and $m([0,\\pi]\\backslash E_\\delta)<\\epsilon$ for $\\epsilon > 0$."
   ]
  },
  {
   "cell_type": "markdown",
   "id": "d178ca82",
   "metadata": {},
   "source": [
    "Now let us construct such a set $E_\\delta$. We will consider only the interval $[0,\\frac\\pi2]$ for now. We have:\n",
    "\n",
    "$$\n",
    "\\frac{n\\sin(x)}{1+n^2\\sin^2(x)} < \\frac{n\\sin(x)}{n^2\\sin^2(x)} = \\frac{1}{n\\sin(x)}\n",
    "$$\n",
    "\n",
    "Further, $\\frac{5x}{8} < \\sin(x)$ over $(0,\\frac\\pi2]$. Therefore:\n",
    "\n",
    "$$\n",
    "\\frac{1}{n\\sin(x)} < \\frac{8}{5nx}\n",
    "$$"
   ]
  },
  {
   "cell_type": "markdown",
   "id": "40130518",
   "metadata": {},
   "source": [
    "Pick $m$ such that $x > \\frac1m$ and $\\frac85m^2 < n$. Then we have:\n",
    "\n",
    "$$\n",
    "\\frac85m < \\frac{n}{m} < nx\n",
    "\\to \\frac{8}{5nx} < \\frac1m\n",
    "$$"
   ]
  },
  {
   "cell_type": "markdown",
   "id": "bb9a8cf3",
   "metadata": {},
   "source": [
    "Thus, $f_n(x) <\\frac1m$ for large $n$ so our interval is $\\left(\\frac1m, \\frac\\pi2\\right)$. However, $f_n$ is symmetric over the interval $[0,\\pi]$ meaning that by symmetry, $E_\\delta = \\left(\\frac1m, \\pi-\\frac1m\\right)$."
   ]
  },
  {
   "cell_type": "markdown",
   "id": "05e4bed6",
   "metadata": {},
   "source": [
    "Therefore, for every $\\epsilon = \\frac1m$, there is an $N\\in\\mathbb{N}$ such that for all $n\\geq N$ and $x\\in G_\\delta$, we will have $|f_n(x)| < \\epsilon$ i.e uniform convergence.\n",
    "\n",
    "Further, $[0,\\pi]\\backslash\\left(\\frac1m, \\pi-\\frac1m\\right) = \\left[0,\\frac1m\\right]\\cup\\left[\\pi-\\frac1m, \\pi\\right]$ whose measure can be as small as we want. $\\blacksquare$"
   ]
  }
 ],
 "metadata": {
  "kernelspec": {
   "display_name": "Julia 1.6.1",
   "language": "julia",
   "name": "julia-1.6"
  },
  "language_info": {
   "file_extension": ".jl",
   "mimetype": "application/julia",
   "name": "julia",
   "version": "1.6.1"
  }
 },
 "nbformat": 4,
 "nbformat_minor": 5
}
