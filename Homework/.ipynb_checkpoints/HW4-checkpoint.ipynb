{
 "cells": [
  {
   "cell_type": "markdown",
   "id": "a7d1a91c",
   "metadata": {},
   "source": [
    "# Real Analysis Homework 4\n",
    "\n",
    "Isaac Hawn"
   ]
  },
  {
   "cell_type": "markdown",
   "id": "971db648",
   "metadata": {},
   "source": [
    "$\\textbf{1)}$\n",
    "\n",
    "We want to exhibit a one-to-one map $f:[0,1]\\to\\mathcal{C}$ where $\\mathcal{C}$ is defined as:\n",
    "\n",
    "$$\\mathcal{C} = \\left\\{x\\in[0,1]:x = \\sum_{n=1}^\\infty \\frac{a_n}{3^n},\\; a_n\\in\\{0,2\\}\\right\\}$$\n",
    "\n",
    "Note that if $a_n$ has two possibilites, only one of them must be as described above."
   ]
  },
  {
   "cell_type": "markdown",
   "id": "30bee568",
   "metadata": {},
   "source": [
    "From the previous homework, we know that $x$ has a nearly unique ternary expansion meaning that its $a_n$ is unique unless $\\exists\\;k:a_n = 2\\;\\forall n \\geq k$. If $a_n$ is not unique for a given $x$, only one of its expansions must have the property that $a_n \\in \\{0,1\\}$. Thus, let $f$ be defined as follows:\n",
    "\n",
    "$$f([0,1]) = 2\\sum_{n=1}^\\infty \\frac{b_n}{2^n},\\;b_n \\in \\{0,1\\}$$"
   ]
  },
  {
   "cell_type": "markdown",
   "id": "9b86f978",
   "metadata": {},
   "source": [
    "By transforming any $x\\in[0,1]$ into twice its binary expansion, we eliminate any $1$'s from the ternary expansion of $x$ and thus ensure $f(x) \\in \\mathcal{C}$. Since each expansion is nearly unique, $f$ exhibits a one-to-one correspondence."
   ]
  },
  {
   "cell_type": "markdown",
   "id": "75ad2e5d",
   "metadata": {},
   "source": [
    "$\\textbf{2)}$\n",
    "\n",
    "We want to show that $\\mathcal{C} = \\mathcal{C'}$."
   ]
  },
  {
   "cell_type": "markdown",
   "id": "fa439459",
   "metadata": {},
   "source": [
    "Proof:\n",
    "\n",
    "The set $\\mathcal{C}$ is constructed by removing the union of open sets from $[0,1]$ which means that $\\mathcal{C}$ is a closed set. As a closed set, $\\mathcal{C}$ will contain all of its accumulation points. Therefore, $\\mathcal{C'} \\subset \\mathcal{C}$."
   ]
  },
  {
   "cell_type": "markdown",
   "id": "36cb9080",
   "metadata": {},
   "source": [
    "NTS: $x$ is a limit point $\\forall\\;x\\in\\mathcal{C}$."
   ]
  },
  {
   "cell_type": "markdown",
   "id": "66ebb951",
   "metadata": {},
   "source": [
    "By definition, $x$ is a limit point of $\\mathcal{C}$ if $\\forall\\;\\epsilon>0$, there is a point $y\\in\\mathcal{C}\\backslash\\{x\\}$ such that $|x-y|<\\epsilon$."
   ]
  },
  {
   "cell_type": "markdown",
   "id": "74b7aa35",
   "metadata": {},
   "source": [
    "Define a sequence $\\left<\\mathcal{C_n}\\right>$ like so:\n",
    "\n",
    "$$\\begin{align} \\mathcal{C_0} &= [0,1]\\\\\n",
    "\\mathcal{C_1} &= \\mathcal{C_0}\\backslash\\left(\\frac13,\\frac23\\right)\\\\\n",
    "\\mathcal{C_2} &= \\mathcal{C_1}\\backslash\\left[\\left(\\frac19,\\frac29\\right)\\cup\\left(\\frac79,\\frac89\\right)\\right]\\\\\n",
    "\\mathcal{C_3} &= \\mathcal{C_2}\\backslash\\left[\\left(\\frac{1}{27},\\frac{2}{27}\\right)\\cup\\left(\\frac{7}{27},\\frac{8}{27}\\right)\\cup\\left(\\frac{19}{27},\\frac{20}{27}\\right)\\cup\\left(\\frac{25}{27},\\frac{26}{27}\\right)\\right]\\end{align}$$\n",
    "$$\\vdots$$"
   ]
  },
  {
   "cell_type": "markdown",
   "id": "da3db63d",
   "metadata": {},
   "source": [
    "Clearly, $\\mathcal{C} = \\bigcap_{n=1}^\\infty \\mathcal{C_n}$. Pick arbitrary $x\\in\\mathcal{C}$ such that there exists an open interval $O_x = (x-\\epsilon, x+\\epsilon)$ that surrounds it for $\\epsilon > 0$. Further, let $\\mathcal{C_{n_k}}\\subset \\mathcal{C_n}$ be the interval in $\\mathcal{C_n}$ which contains $O_x$."
   ]
  },
  {
   "cell_type": "markdown",
   "id": "5be78f85",
   "metadata": {},
   "source": [
    "Pick $N$ such that $\\forall\\;i\\geq N$, we have that $x\\in\\mathcal{C}_{i_k} \\subset O_x$. \n",
    "\n",
    "By the Principle of Recursive Definition, $\\left(\\mathcal{C}_{i_k}\\backslash\\{x\\}\\right)\\cap\\mathcal{C}$ is nonempty and thus contains another point $y\\in\\mathcal{C}\\backslash\\{x\\}$ such that $|x-y|<\\epsilon$."
   ]
  },
  {
   "cell_type": "markdown",
   "id": "ce6038a9",
   "metadata": {},
   "source": [
    "Therefore, $x$ is a limit point $\\forall\\;x\\in\\mathcal{C}$ meaning $\\mathcal{C} = \\mathcal{C'}$. $\\blacksquare$"
   ]
  }
 ],
 "metadata": {
  "kernelspec": {
   "display_name": "Julia 1.6.1",
   "language": "julia",
   "name": "julia-1.6"
  },
  "language_info": {
   "file_extension": ".jl",
   "mimetype": "application/julia",
   "name": "julia",
   "version": "1.6.1"
  }
 },
 "nbformat": 4,
 "nbformat_minor": 5
}
