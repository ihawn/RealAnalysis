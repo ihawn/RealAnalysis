{
 "cells": [
  {
   "cell_type": "markdown",
   "id": "403e504f",
   "metadata": {},
   "source": [
    "# Real Analysis Homework 5\n",
    "\n",
    "Isaac Hawn"
   ]
  },
  {
   "cell_type": "markdown",
   "id": "01692d00",
   "metadata": {},
   "source": [
    "$\\textbf{3)}$\n",
    "\n",
    "Assuming set $E$ is measurable, we want to prove that the set $E+y$ is also measurable for every $y\\in\\mathbb{R}$ and $m(E+y) = m(E)$."
   ]
  },
  {
   "cell_type": "markdown",
   "id": "0e68ba9e",
   "metadata": {},
   "source": [
    "Proof of translation invariance:\n",
    "\n",
    "Let $E$ be a set and let $\\left<I_n\\right>_{n\\in\\mathbb{N}}$ be a collection of open intervals that cover $E$. Then, for $y\\in\\mathbb{R}$ we have that the sequence of intervals $\\left<I_n+y\\right>_{n\\in\\mathbb{N}}$ covers $E+y$."
   ]
  },
  {
   "cell_type": "markdown",
   "id": "0513405c",
   "metadata": {},
   "source": [
    "Then we have the following from the definition of $m^*(E)$:\n",
    "\n",
    "$$\\begin{align}\n",
    "m^*(E) = \\inf_{A\\subset \\cup I_n} \\sum_n \\ell(I_n) &= \\inf_{A\\subset \\cup I_n} \\sum_n \\ell(I_n+y)\\;\\;\\text{Since }\\ell \\text{ is translation invariant}\\\\\n",
    "&\\geq m^*(E+y)\\;\\; \\text{Since}\\;\\left<I_n+y\\right>_{n\\in\\mathbb{N}} \\;\\text{covers}\\; E+y\n",
    "\\end{align}$$\n",
    "\n",
    "Thus, $m^*(E+y)\\leq m^*(E)$"
   ]
  },
  {
   "cell_type": "markdown",
   "id": "2306acdc",
   "metadata": {},
   "source": [
    "In the same way, for $y\\in\\mathbb{R}$ we let the sequence of open intervals $\\left<I_n\\right>_{n\\in\\mathbb{N}}$ cover $E+y$ meaning $\\left<I_n-y\\right>_{n\\in\\mathbb{N}}$ covers $E$. Thus:\n",
    "\n",
    "$$\n",
    "\\begin{align}\n",
    "m^*(E+y) = \\inf_{A\\subset\\cup I_n} \\sum_n \\ell(I_n+y) &= \\inf_{A\\subset\\cup I_n} \\sum_n \\ell(I_n-y)\\;\\;\\text{Since }\\ell \\text{ is translation invariant}\\\\\n",
    "&\\geq m^*(E)\\;\\;\\text{Since}\\;\\left<I_n-y\\right>_{n\\in\\mathbb{N}} \\;\\text{covers}\\; E\n",
    "\\end{align}\n",
    "$$\n",
    "\n",
    "Thus, $m^*(E+y)\\geq m^*(E)$\n",
    "\n",
    "Therefore, $m^*(E+y)= m^*(E)$"
   ]
  },
  {
   "cell_type": "markdown",
   "id": "460d6336",
   "metadata": {},
   "source": [
    "Since $E$ is measurable, we can drop the $^*$ to get $m(E+y) = m(E)\\;\\blacksquare$"
   ]
  },
  {
   "cell_type": "markdown",
   "id": "9c309b6a",
   "metadata": {},
   "source": [
    "Proof that $E+y$ is measurable for measurable $E$:\n",
    "\n",
    "By definition, a set $E+y$ is measurable if for each set $A$ we have that $m^*A = m^*(A\\cap (E+y)) + m^*(A\\cap (E+y)^c)$."
   ]
  },
  {
   "cell_type": "markdown",
   "id": "159374c5",
   "metadata": {},
   "source": [
    "$E$ is measurable so we have $m^*(A-y) = m^*((A-y)\\cap E) + m^*((A-y)\\cap E^c)$."
   ]
  },
  {
   "cell_type": "markdown",
   "id": "d8b0ca50",
   "metadata": {},
   "source": [
    "By translation invariance, this is equivalent to $m^*(A-y) = m^*(((A-y)\\cap E) + y) + m^*(((A-y)\\cap E^c)+y) = m^*(A\\cap (E+y)) + m^*(A\\cap (E+y)^c)$"
   ]
  },
  {
   "cell_type": "markdown",
   "id": "a1c11820",
   "metadata": {},
   "source": [
    "Thus, for measureable $E$, $E+y$ is also measurable. $\\blacksquare$"
   ]
  },
  {
   "cell_type": "markdown",
   "id": "be4ae46f",
   "metadata": {},
   "source": [
    "$\\textbf{4)}$\n",
    "\n",
    "We want to show that the Cantor ternary set has Lebesgue measure $0$."
   ]
  },
  {
   "cell_type": "markdown",
   "id": "53ab92dd",
   "metadata": {},
   "source": [
    "Since the measure of an interval will be its length, we can find the measure of the Cantor set by computing $m([0,1]) - m\\left(\\bigcup_{n\\in\\mathbb{N}} S_n\\right)$ where $\\left<S_n\\right> = S_1, S_2,\\ldots = \\left(\\frac13,\\frac23\\right),\\left[\\left(\\frac19,\\frac29\\right)\\cup\\left(\\frac79,\\frac89\\right)\\right],\\ldots$"
   ]
  },
  {
   "cell_type": "markdown",
   "id": "4afc3c07",
   "metadata": {},
   "source": [
    "We see that $m\\left(\\bigcup_{n\\in\\mathbb{N}} S_n\\right) = \\frac13 + \\left(\\frac19 + \\frac19\\right) + \\cdots = \\frac13 + \\frac29 + \\frac{4}{27} + \\cdots = \\sum_{n=1}^\\infty \\frac{2^{n-1}}{3^n} = \\sum_{n=1}^\\infty \\frac{2^n}{(2)3^n} = \\frac12\\sum_{n=1}^\\infty {\\left(\\frac23\\right)}^n = \\frac{2/3}{2(1-2/3)} = 1$"
   ]
  },
  {
   "cell_type": "markdown",
   "id": "8eb2af70",
   "metadata": {},
   "source": [
    "Thus, $m([0,1]) - m\\left(\\bigcup_{n\\in\\mathbb{N}} S_n\\right) = 1-1 = 0$ meaning that $m(\\mathcal{C}) = 0$. $\\blacksquare$"
   ]
  }
 ],
 "metadata": {
  "kernelspec": {
   "display_name": "Julia 1.6.1",
   "language": "julia",
   "name": "julia-1.6"
  },
  "language_info": {
   "file_extension": ".jl",
   "mimetype": "application/julia",
   "name": "julia",
   "version": "1.6.1"
  }
 },
 "nbformat": 4,
 "nbformat_minor": 5
}
