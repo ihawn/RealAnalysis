{
 "cells": [
  {
   "cell_type": "markdown",
   "id": "23e19bdc",
   "metadata": {},
   "source": [
    "# Real Analysis Final\n",
    "\n",
    "Isaac Hawn"
   ]
  },
  {
   "cell_type": "markdown",
   "id": "a831d8f5",
   "metadata": {},
   "source": [
    "### 1)\n",
    "\n",
    "For $E\\subset\\mathbb{R}$, we want to show that $mE = 0$ if and only if there are countably many intervals $\\{I_n\\}_{n\\in\\mathbb{N}}$ such that $\\sum_{n\\in\\mathbb{N}} \\ell(I_n) < \\infty$ and each $x\\in E$ lies in the interior of infinitely many of these intervals."
   ]
  },
  {
   "cell_type": "markdown",
   "id": "c5c206bb",
   "metadata": {},
   "source": [
    "Proof:\n",
    "\n",
    "Suppose $mE = 0$ for $E\\subset\\mathbb{R}$. Then we may construct a countable collection $\\{S_{\\epsilon_n}\\}_{n\\in\\mathbb{N}}$ of collections of open intervals $\\{I_j\\}_{j\\in\\mathbb{N}}$ covering $E$ such that $\\sum_{j\\in\\mathbb{N}}\\ell(I_j) < \\epsilon$ and $\\epsilon > 0$. Let $\\epsilon = \\frac{1}{2^n}$. We have that $U = \\bigcup_{n\\in\\mathbb{N}}\\left(\\bigcup_{j\\in\\mathbb{N}} I_j\\right)$ is countable and since the sum of each $J_n\\in U$ is less than $\\epsilon = \\frac{1}{2^n}$ we have:\n",
    "\n",
    "$$\n",
    "\\sum_{n\\in\\mathbb{N}} \\ell(J_n) < \\sum_{n\\in\\mathbb{N}} \\frac{1}{2^n} = 1 < \\infty\n",
    "$$"
   ]
  },
  {
   "cell_type": "markdown",
   "id": "c4501448",
   "metadata": {},
   "source": [
    "Consider also a point $x\\in E$. Then, there exists some $\\{I_j\\}_{j\\in\\mathbb{N}}\\in\\{S_{\\epsilon_n}\\}_{n\\in\\mathbb{N}}$ such that there is an $I_k\\in\\{I_j\\}$ with $x\\in I_k$. We have that $\\ell(I_k) = \\delta > 0$ but we must also have that $\\epsilon = \\frac{1}{2^m} < \\delta$ for $m$ large enough. Therefore there exists an $I_m$ such that $\\ell(I_m) < \\ell(I_k)$ and $m > k$. In this way, we may construct an infinite sequence of intervals $I_1, I_2,\\ldots$ containing $x$ such that $\\ell(I_{n+1}) < \\ell(I_n)$ for each $n$. We picked an arbitrary $x$ so we can construct such a sequence for any $x\\in E$. Notice too that each interval in $I_1, I_2,\\ldots$ is distinct since each of their lengths are distinct due to strict inequality. \n",
    "\n",
    "Thus if $mE = 0$, there are countably many intervals $\\{I_n\\}_{n\\in\\mathbb{N}}$ such that $\\sum_{n\\in\\mathbb{N}} \\ell(I_n) < \\infty$ and each $x\\in E$ lies in the interior of infinitely many of these intervals."
   ]
  },
  {
   "cell_type": "markdown",
   "id": "6b5a05c1",
   "metadata": {},
   "source": [
    "### 4)\n",
    "\n",
    "Let function $g$ be a monotone increasing absolutely continuous function on $[a,b]$ with $g(a) = c$ and $g(b) = d$.\n",
    "\n",
    "#### a.\n",
    "\n",
    "We want to show that for any open set $O\\subset[c,d]$, we have:\n",
    "\n",
    "$$\n",
    "mO = \\int_{g^{-1}[O]} g'(x) dx\n",
    "$$"
   ]
  },
  {
   "cell_type": "markdown",
   "id": "cc4ed502",
   "metadata": {},
   "source": [
    "Proof:\n",
    "\n",
    "Let $O$ be an open set with $O\\subset[c,d]$. We may express any open set as the countable union of disjoint open intervals. Denote such intervals $I_n$ so that we have $O = \\bigcup I_n$. Define sequences $x_n$ and $y_n$ so that we have $I_n = (x_n, y_n)$ for each $n$. "
   ]
  },
  {
   "cell_type": "markdown",
   "id": "ef40a5a6",
   "metadata": {},
   "source": [
    "Due to continuity and since $g(a) = c, g(b) = d$, we must have that there are sequences $u_n, v_n\\in[c,d]$ such that $g(u_n) = x_n$ and $g(v_n) = y_n$ for each $n$. Denote $J_n = (u_n, v_n)$. Thus we have $g^{-1}[O] = g^{-1}\\left[\\bigcup I_n\\right] = \\bigcup g^{-1}[I_n]$. But we have that $I_n = (g(u_n),g(v_n))$ meaning that $\\bigcup g^{-1}[I_n] = \\bigcup J_n$."
   ]
  },
  {
   "cell_type": "markdown",
   "id": "615098d7",
   "metadata": {},
   "source": [
    "This implies that $\\int_{g^{-1}[O]} g'(x) dx = \\int_{\\cup J_n} g'(x) dx = \\sum \\int_{J_n} g'(x) dx$ due to disjointness. Integrating the right side yields $\\sum \\int_{J_n} g'(x) dx =\\sum (g(v_n) - g(u_n)) = \\sum \\ell(I_n)$. Since all $I_n$ are disjoint, $\\sum \\ell(I_n) = m\\left(\\bigcup I_n\\right) = mO$. Therefore, $mO = \\int_{g^{-1}[O]} g'(x) dx$. $\\blacksquare$"
   ]
  },
  {
   "cell_type": "markdown",
   "id": "c73fcdc8",
   "metadata": {},
   "source": [
    "#### b.\n",
    "\n",
    "For $H = \\{x:g'(x)\\neq0\\}$ and $E\\subset[c,d]$ with $mE = 0$, we want to prove that $m(g^{-1}(E)\\cap H) = 0$."
   ]
  },
  {
   "cell_type": "markdown",
   "id": "f365185d",
   "metadata": {},
   "source": [
    "Proof:\n",
    "\n",
    "Let $E\\subset[c,d]$ with $mE = 0$ and let $H = \\{x:g'(x)\\neq0\\}$. By proposition 5 on page 58, there exists an open set $O$ such that $E\\subset O$ and $mO < mE +\\epsilon$ for $\\epsilon > 0$ implying $mO < \\epsilon$."
   ]
  },
  {
   "cell_type": "markdown",
   "id": "237cc129",
   "metadata": {},
   "source": [
    "Part $a$ tells us that $mO = \\int_{g^{-1}[O]} g'(x) dx$ so we have $\\int_{g^{-1}[O]} g'(x) dx < \\epsilon$. We also have that $E\\subset O$ implying that $g^{-1}(E)\\subset g^{-1}(O)$. Further $g^{-1}(E)\\cap H \\subset g^{-1}(E)$. Therefore:\n",
    "\n",
    "$$\n",
    "\\int_{g^{-1}(E)\\cap H}g'(x) dx \\leq \\int_{g^{-1}(E)}g'(x) dx \\leq \\int_{g^{-1}[O]}g'(x) dx < \\epsilon\n",
    "$$"
   ]
  },
  {
   "cell_type": "markdown",
   "id": "1a5ca751",
   "metadata": {},
   "source": [
    "This is true for all $\\epsilon>0$ which implies that $\\int_{g^{-1}(E)\\cap H}g'(x) dx = 0$. However, $g$ is a monotone increasing function on $[a,b]$ and is nonzero on $g^{-1}(E)\\cap H$ by the definition of $H$. Therefore, $g'(x) > 0$ on $g^{-1}(E)\\cap H$. This means that $\\int_{g^{-1}(E)\\cap H}g'(x) dx$ may only be zero if $m(g^{-1}(E)\\cap H) = 0$. $\\blacksquare$"
   ]
  },
  {
   "cell_type": "markdown",
   "id": "d856cd93",
   "metadata": {},
   "source": [
    "#### c.\n",
    "\n",
    "For measurable $E\\subset[c,d]$, we want to prove that $F = g^{-1}[E]\\cap H$ is measurable and:\n",
    "\n",
    "$$\n",
    "mE = \\int_F g'(x) dx = \\int_a^b \\chi_E(g(x))g'(x)dx\n",
    "$$"
   ]
  },
  {
   "cell_type": "markdown",
   "id": "c544c017",
   "metadata": {},
   "source": [
    "Proof:\n",
    "\n",
    "Let $E$ and $H$ be as before and let $F = g^{-1}[E]\\cap H$. Right away we have that $g^{-1}(E)$ is measurable since $E$ is measurable and $g$ is continuous. Further, since $g$ is increasing on $[a,b]$, we have that $g'$ is measurable by Theorem 3 so $H$ must be measurable as well since it is part of the domain of $g'$. Measurability is closed under finite intersection so $F = g^{-1}[E]\\cap H$ is measurable."
   ]
  },
  {
   "cell_type": "markdown",
   "id": "d62f0ebd",
   "metadata": {},
   "source": [
    "By proposition 15 on page 63, there is a $G\\in G_\\delta$ such that $E\\subset G \\subset [c,d]$ and $m(G\\backslash E) = 0$. Thus, $g^{-1}(G\\backslash E)\\cap H$ has measure zero by part $b$. Clearly $g^{-1}(G)\\cap H = [g^{-1}(E)\\cap H] \\cup [g^{-1}(G\\backslash E)\\cap H]$ and we have just shown that $m[g^{-1}(G\\backslash E)\\cap H] = 0$ so we must have:\n",
    "\n",
    "$$\n",
    "\\int_{g^{-1}(E)\\cap H} g'(x) dx = \\int_{g^{-1}(G)\\cap H}g'(x) dx\n",
    "$$"
   ]
  },
  {
   "cell_type": "markdown",
   "id": "496b37bf",
   "metadata": {},
   "source": [
    "Therefore, we need only show that the desired result holds for $G$. We have that $G\\in G_\\delta$. Thus, it is the countable intersection of open sets $O_n$. Without loss of generality, we may assume $\\left<O_n\\right>$ is decreasing so that $\\lim_{n\\to\\infty} mO_n = mG$."
   ]
  },
  {
   "cell_type": "markdown",
   "id": "db0ffc8f",
   "metadata": {},
   "source": [
    "Part $a$ tells us that $mO_n = \\int_{g^{-1}[O_n]} g'(x) dx$ which can be written as $\\int_a^b \\chi_{O_n}(g(x))g'(x) dx$. We have that $\\lim_{n\\to\\infty} mO_n = mG$ and $\\chi_{O_n}(g(x))g'(x) > 0$ since $g$ is monotone increasing. Further $\\chi_{O_n}(g(x))g'(x) \\leq g'(x)$ so by the Lebesgue Dominated Convergence Theorem:\n",
    "\n",
    "$$\n",
    "\\lim_{n\\to\\infty} \\int_a^b \\chi_{O_n}(g(x))g'(x) dx = \\int_a^b \\chi_{G}(g(x))g'(x) dx\n",
    "$$\n",
    "\n",
    "Thus we have:\n",
    "\n",
    "$$\n",
    "mG = \\int_{g^{-1}(G)\\cap H} g'(x) dx = \\int_a^b \\chi_{G}(g(x))g'(x) dx\n",
    "$$\n",
    "\n",
    "This implies:\n",
    "\n",
    "$$\n",
    "mE = \\int_F g'(x) dx = \\int_a^b \\chi_{E}(g(x))g'(x) dx. \\;\\;\\blacksquare\n",
    "$$"
   ]
  },
  {
   "cell_type": "markdown",
   "id": "25dad268",
   "metadata": {},
   "source": [
    "#### d.\n",
    "\n",
    "For measurable, nonnegative function $f$ on $[c,d]$, we want to prove that $(f\\circ g)g'$ is measurable on $[a,b]$ and:\n",
    "\n",
    "$$\n",
    "\\int_c^d f(y) dy = \\int_a^b f(g(x))g'(x) dx\n",
    "$$"
   ]
  },
  {
   "cell_type": "markdown",
   "id": "af1290bd",
   "metadata": {},
   "source": [
    "Proof:\n",
    "\n",
    "Let $f$ be given as above. By problem 4 on page 89, there exists an increasing sequence $\\left<\\phi_n\\right>$ of nonnegative simple functions on $[c,d]$ such that $\\lim_{n\\to\\infty} \\phi_n = f$. Simple functions are measurable meaning $\\phi_n\\circ g$ is measurable. Further, we have that $g'$ is measurable from the first part of the proof in part $c$. Measurability is closed under multiplication so $(\\phi_n\\circ g)g'$ is measurable implying $(f\\circ g)g'$ is measurable."
   ]
  },
  {
   "cell_type": "markdown",
   "id": "4742cfe1",
   "metadata": {},
   "source": [
    "We have that $\\lim_{n\\to\\infty} \\phi_n = f$ so $\\lim_{n\\to\\infty}\\int_c^d \\phi_n = \\int_c^d f$ by the Monotone Convergence Theorem. We also have that $\\phi_n$ is of the form $\\sum_{k=1}^N \\alpha_{n_k}\\chi_{E_k}$ so let $\\phi_n(g(x)) = \\sum_{k=1}^N \\alpha_{n_k}\\chi_{E_k}(g(x))$ for each $n$. Thus:\n",
    "\n",
    "$$\n",
    "\\int_a^b \\phi_n(g(x))g'(x) dx = \\sum_{k=1}^N \\int_a^b \\alpha_{n_k}\\chi_{E_k}(g(x))g'(x) dx\n",
    "$$"
   ]
  },
  {
   "cell_type": "markdown",
   "id": "c17b9b34",
   "metadata": {},
   "source": [
    "By part $c$ we have that $mE = \\int_a^b \\chi_{E}(g(x))g'(x) dx$ so:\n",
    "\n",
    "$$\n",
    "\\sum_{k=1}^N \\int_a^b \\alpha_{n_k}\\chi_{E_k}(g(x))g'(x) dx = \\sum_{k=1}^N \\alpha_{n_k} mE_k\n",
    "$$"
   ]
  },
  {
   "cell_type": "markdown",
   "id": "2eab1ea4",
   "metadata": {},
   "source": [
    "The measure of a set is equal to the integral of its characteristic. Thus we have:\n",
    "\n",
    "$$\n",
    "\\sum_{k=1}^N \\alpha_{n_k} mE_k = \\int_c^d \\sum_{k=1}^N \\alpha_{n_k} \\chi_{E_k} = \\int_c^d \\phi_n\n",
    "$$"
   ]
  },
  {
   "cell_type": "markdown",
   "id": "1be54542",
   "metadata": {},
   "source": [
    "Therefore:\n",
    "\n",
    "$$\n",
    "\\int_a^b \\phi_n(g(x))g'(x) dx = \\int_c^d \\phi_n (y) dy\n",
    "$$"
   ]
  },
  {
   "cell_type": "markdown",
   "id": "a4a3f61a",
   "metadata": {},
   "source": [
    "Taking the limit of both sides yields:\n",
    "\n",
    "$$\n",
    "\\lim_{n\\to\\infty}\\int_a^b \\phi_n(g(x))g'(x) dx = \\lim_{n\\to\\infty}\\int_c^d \\phi_n(y) dy\n",
    "$$"
   ]
  },
  {
   "cell_type": "markdown",
   "id": "5f01efda",
   "metadata": {},
   "source": [
    "As shown before, $\\lim_{n\\to\\infty}\\int_c^d \\phi_n(y) = \\int_c^d f(y)$ so we have:\n",
    "\n",
    "$$\n",
    "\\int_a^b f(g(x))g'(x) dx = \\int_c^d f(y) dy.\\;\\;\\blacksquare\n",
    "$$"
   ]
  }
 ],
 "metadata": {
  "kernelspec": {
   "display_name": "Julia 1.6.1",
   "language": "julia",
   "name": "julia-1.6"
  },
  "language_info": {
   "file_extension": ".jl",
   "mimetype": "application/julia",
   "name": "julia",
   "version": "1.6.1"
  }
 },
 "nbformat": 4,
 "nbformat_minor": 5
}
