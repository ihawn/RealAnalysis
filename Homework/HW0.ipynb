{
 "cells": [
  {
   "cell_type": "markdown",
   "metadata": {},
   "source": [
    "# Math 630 Homework 0\n",
    "\n",
    "Isaac Hawn"
   ]
  },
  {
   "cell_type": "markdown",
   "metadata": {},
   "source": [
    "$\\textbf{1)}$\n",
    "\n",
    "We want to simplify $\\bigcup_{n = 1}^{\\infty} \\mathbb{R}\\backslash[-\\frac1n, 1 + \\frac1n)$"
   ]
  },
  {
   "cell_type": "markdown",
   "metadata": {},
   "source": [
    "From DeMorgan's Law, this union of a complement with be equivalent to the complement of the intersection. Thus we see:\n",
    "\n",
    "$$\\bigcup_{n = 1}^{\\infty} \\mathbb{R} \\backslash [-\\frac1n, 1 + \\frac1n) = \\mathbb{R} \\backslash \\bigcap_{n = 1}^{\\infty} [-\\frac1n, 1 + \\frac1n) = \\mathbb{R} \\backslash [0, 1] = (-\\infty, 0) \\cup (1, \\infty)$$"
   ]
  },
  {
   "cell_type": "markdown",
   "metadata": {},
   "source": [
    "Proof:\n",
    "\n",
    "To prove equivalence, we must show that $\\bigcup_{n = 1}^{\\infty} \\mathbb{R} \\backslash [-\\frac1n, 1 + \\frac1n)$ and $\\mathbb{R} \\backslash \\bigcap_{n = 1}^{\\infty} [-\\frac1n, 1 + \\frac1n)$ are subsets of each other:\n",
    "\n",
    "Let $x \\in \\bigcup_{n = 1}^{\\infty} \\mathbb{R}\\backslash[-\\frac1n, 1 + \\frac1n)$. In other words, $x \\in \\mathbb{R}$, $x \\notin [-\\frac1n, 1 + \\frac1n),\\; n \\in \\mathbb{N}$. Thus $x \\notin \\bigcap_{n = 1}^{\\infty} [-\\frac1n, 1 + \\frac1n)$ since $x \\notin [-\\frac1n, 1 + \\frac1n),\\; n \\in \\mathbb{N}$. This implies $x \\in \\mathbb{R} \\backslash \\bigcap_{n = 1}^{\\infty} [-\\frac1n, 1 + \\frac1n)$ meaning that $\\bigcup_{n = 1}^{\\infty} \\mathbb{R} \\backslash [-\\frac1n, 1 + \\frac1n) \\subseteq \\mathbb{R} \\backslash \\bigcap_{n = 1}^{\\infty} [-\\frac1n, 1 + \\frac1n)$.\n",
    "\n",
    "Let $x \\in \\mathbb{R} \\backslash \\bigcap_{n = 1}^{\\infty} [-\\frac1n, 1 + \\frac1n)$ meaning that $x \\in \\mathbb{R}$ and $x \\notin \\bigcap_{n = 1}^{\\infty} [-\\frac1n, 1 + \\frac1n)$. Therefore, $x \\notin [-\\frac1n, 1 + \\frac1n),\\; n \\in \\mathbb{N}$. This implies that $x \\in \\mathbb{R} \\backslash [-\\frac1n, 1 + \\frac1n)$ meaning that $x \\in \\bigcup_{n = 1}^{\\infty} \\mathbb{R} \\backslash [-\\frac1n, 1 + \\frac1n)$. Thus, $\\mathbb{R} \\backslash \\bigcap_{n = 1}^{\\infty} [-\\frac1n, 1 + \\frac1n) \\subseteq \\bigcup_{n = 1}^{\\infty} \\mathbb{R} \\backslash [-\\frac1n, 1 + \\frac1n)$\n",
    "\n",
    "The two sets are subsets of each other. Thus, they are equivalent $\\blacksquare$"
   ]
  },
  {
   "cell_type": "markdown",
   "metadata": {},
   "source": [
    "$\\textbf{2)}$\n",
    "\n",
    "We want to find all rings such that $0 = 1$, where $0$ is the element satisfying $0 + a = a$ for every element in the ring."
   ]
  },
  {
   "cell_type": "markdown",
   "metadata": {},
   "source": [
    "Proof:\n",
    "\n",
    "Let $\\mathcal{R}$ be a ring and let $a$ be an element in $\\mathcal{R}$. We have that $1a = a$ and $0a = 0$. Thus to have $0 = 1$, we necessarily have that $0a = 0 = a = 1a$ meaning that $\\mathcal{R}$ contains only $0$. In other words, the only ring to have the property $0 = 1$ is the zero ring."
   ]
  },
  {
   "cell_type": "markdown",
   "metadata": {},
   "source": [
    "$\\textbf{3)}$\n",
    "\n",
    "For $S = \\{s \\in \\mathbb{R}: \\exists \\; \\text{a subsequence}\\; \\{a_{n_k}\\}_{k\\in\\mathbb{N}} \\text{such that} \\lim_{k\\to\\infty} a_{n_k} = s \\}$, we want to show that $\\lim\\sup_{n\\to\\infty} a_n = \\sup S = \\max S$."
   ]
  },
  {
   "cell_type": "markdown",
   "metadata": {},
   "source": [
    "$\\textbf{4)}$\n",
    "\n",
    "For $f(x) = x^3 + x^2 - x - 1$, we want to find the inverse image of set $W$ i.e. all $x$ such that $f(x) \\in W$:\n",
    "\n",
    "(a) $W = \\{0\\}$;\n",
    "\n",
    "Since this set only contains only $0$, we can simply set $f$ equal to $0$ and solve. The zeros of $f$ are $\\pm 1$ so $f^{-1}(W) = \\{-1, 1\\}.$"
   ]
  },
  {
   "cell_type": "markdown",
   "metadata": {},
   "source": [
    "(b) $W = (-\\infty, 0];$\n",
    "\n",
    "Here we want all $x$ that yield $f(x) \\leq 0$. The root $-1$ has multiplicity $2$ meaning that $f$ is tangent to the $y$-axis at $x = -1$. Further, $f^{''}(-1) < 0$ implying downward concavity here. Thus, $f(x) \\leq 0$ for $x \\in (-\\infty, 1]$ meaning that $f^{-1}(W) = (-\\infty, 1]$"
   ]
  },
  {
   "cell_type": "markdown",
   "metadata": {},
   "source": [
    "(c) $W = (-1, \\infty)$;\n",
    "\n",
    "Setting $f(x)$ equal to $-1$, we see that $f(x) = -1$ at $x = 0, \\phi, -\\phi$ where $\\phi$ is the Golden Ratio. Thus, $f(x) > -1$ for $x \\in (-\\phi, 0) \\cup (\\phi,\\infty)$ meaning that $f^{-1}(W) = (-\\phi, 0) \\cup (\\phi, \\infty)$"
   ]
  },
  {
   "cell_type": "markdown",
   "metadata": {},
   "source": [
    "$\\textbf{5)}$\n",
    "\n",
    "We have that $f:D \\subseteq \\mathbb{R} \\rightarrow \\mathbb{R}$ and $M \\subseteq D$. We want to show that $M\\subseteq f^{-1}(f(M))$."
   ]
  },
  {
   "cell_type": "markdown",
   "metadata": {},
   "source": [
    "Proof:\n",
    "\n",
    "First we assume that $f$ has an inverse. Let $x \\in M$. Then, we will have that $f(x) \\in f(M)$ which implies that $x \\in f^{-1}(f(M))$. Thus, $M\\subseteq f^{-1}(f(M))$. $\\blacksquare$"
   ]
  },
  {
   "cell_type": "markdown",
   "metadata": {},
   "source": [
    "The inclusion is proper when $f$ is not one-to-one. For example, let $f(x) = x^2$ meaning $f^{-1}(x) = \\pm \\sqrt{x}$. Further, let $M = \\{1\\}$. $f^{-1}(f(M)) = \\{-1, 1\\} \\supset M$."
   ]
  }
 ],
 "metadata": {
  "kernelspec": {
   "display_name": "Julia 1.6.2",
   "language": "julia",
   "name": "julia-1.6"
  },
  "language_info": {
   "file_extension": ".jl",
   "mimetype": "application/julia",
   "name": "julia",
   "version": "1.6.2"
  }
 },
 "nbformat": 4,
 "nbformat_minor": 4
}
