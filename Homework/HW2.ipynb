{
 "cells": [
  {
   "cell_type": "markdown",
   "metadata": {},
   "source": [
    "# Real Analysis Homework 2\n",
    "\n",
    "Isaac Hawn"
   ]
  },
  {
   "cell_type": "markdown",
   "metadata": {},
   "source": [
    "$\\textbf{1)}$\n",
    "\n",
    "We want to give an example of a relation on the set $X = \\{0,1,2\\}$ which is both an equivalence and an order."
   ]
  },
  {
   "cell_type": "markdown",
   "metadata": {},
   "source": [
    "Consider the following relation on $X$: $\\mathcal{R} = \\{(0,0),(1,1),(2,2)\\}$. Clearly this an equivalence relation since it has the following properties:\n",
    "\n",
    "(i) Reflexivity since $0=0$, $1=1$, $2=2$.\n",
    "\n",
    "(ii) Symmetry since $ \\forall \\; x,y \\in X$, $x = y \\rightarrow y=x$\n",
    "\n",
    "(iii) Transitivity since $\\forall\\; x,y,z \\in X$, $x=y, \\; y=z, \\; \n",
    "\\rightarrow x=z$\n",
    "\n"
   ]
  },
  {
   "cell_type": "markdown",
   "metadata": {},
   "source": [
    "Relation $\\mathcal{R}$ is an order too, since in addition to being reflexive and transitive, it is also antisymmetric: $\\forall\\; x,y \\in X, \\; x\\mathcal{R}y, \\; x\\mathcal{R}y \\rightarrow x = y$."
   ]
  },
  {
   "cell_type": "markdown",
   "metadata": {},
   "source": [
    "$\\textbf{2)}$\n",
    "\n",
    "We want to show that any subset of a well-ordered set is well ordered.\n",
    "\n",
    "Proof:\n",
    "\n",
    "Let $X$ be a well-ordered set. Because $X$ is well ordered, every non-empty $S \\subseteq X$ has a smallest element by definition. Let $x\\in S$ be the smallest element of $S$ meaning that there is a non-empty subset $A \\subseteq S$ that contains $x$. Since $A\\subseteq S$, $x$ is also the smallest element of $A$.\n",
    "\n",
    "Element $x$ is arbitrary so $A$ has a smallest element for any non-empty $A \\subseteq S$. Thus, $S$ is well ordered by definition. $\\blacksquare$"
   ]
  },
  {
   "cell_type": "markdown",
   "metadata": {},
   "source": [
    "$\\textbf{3)}$\n",
    "\n",
    "We want to show that a union of any number of segments is also a segment."
   ]
  },
  {
   "cell_type": "markdown",
   "metadata": {},
   "source": [
    "Proof:\n",
    "\n",
    "Let $\\hat{S}$ be a collection of an arbitrary number of segments $S_n \\subseteq (X, <), \\; n = 1,2,...$. By definition, $\\forall\\;S_n\\in\\hat{S}$, there is a $y_n\\in X$ such that $x<y_n\\;\\forall x\\in S_n$. Store all $y_n$ values into a set $Y$. \n",
    "\n",
    "Thus, for union $U = \\underset{S_n\\in\\hat{S}}\\bigcup S_n$, it will be that $\\forall\\; x\\in U$, $x$ is smaller than at least one element of $Y$ since $U$ is the union of all subsets with elements smaller than at least one element of $Y$. Thus, union $U$ of an arbitrary number of segments is itself a segment by definition. $\\blacksquare$"
   ]
  }
 ],
 "metadata": {
  "kernelspec": {
   "display_name": "Julia 1.4.1",
   "language": "julia",
   "name": "julia-1.4"
  },
  "language_info": {
   "file_extension": ".jl",
   "mimetype": "application/julia",
   "name": "julia",
   "version": "1.4.1"
  }
 },
 "nbformat": 4,
 "nbformat_minor": 4
}
