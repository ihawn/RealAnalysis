{
 "cells": [
  {
   "cell_type": "markdown",
   "id": "ffc2f2a8",
   "metadata": {},
   "source": [
    "# Real Analysis Homework 6\n",
    "\n",
    "Isaac Hawn"
   ]
  },
  {
   "cell_type": "markdown",
   "id": "15a43316",
   "metadata": {},
   "source": [
    "$\\textbf{1)}$\n",
    "\n",
    "We want to prove proposition 15 which states that for $E\\subseteq\\mathbb{R}$:\n",
    "\n",
    "(i) $E$ is measurable\n",
    "\n",
    "(ii) Given $\\epsilon >0$ there is an open set $O\\supset E$ such that $m^*(O\\backslash E)<\\epsilon$\n",
    "\n",
    "(iii) Given $\\epsilon > 0$, there is a closed set $F\\subset E$ with $m^*(E\\backslash F) < \\epsilon$\n",
    "\n",
    "(iv) There is a $G$ in $G_\\delta$ with $E\\subset G$, $m^*(G\\backslash E) = 0$\n",
    "\n",
    "(v) There is an $F$ in $F_\\sigma$ with $F\\subset E$, $m^*(E\\backslash F) = 0$\n",
    "\n",
    "If $m^* (E) < \\infty$, the above are equivalent to:\n",
    "\n",
    "(iv) For all $\\epsilon> 0$ there is a finite union $U$ of open intervals such that $m^* (U\\Delta E) < \\epsilon$"
   ]
  },
  {
   "cell_type": "markdown",
   "id": "3911da46",
   "metadata": {},
   "source": [
    "(i)$\\to$(ii)"
   ]
  },
  {
   "cell_type": "markdown",
   "id": "95bee3c7",
   "metadata": {},
   "source": [
    "Assume (i). Then there exist a countable collection of open intervals $\\{I_n\\}$ covering $E$. Let $O = \\bigcup_{n\\in\\mathbb{N}} I_n$. Then $E\\subset O$ since $O$ is the countable union of open sets covering $E$."
   ]
  },
  {
   "cell_type": "markdown",
   "id": "35ae570f",
   "metadata": {},
   "source": [
    "By Proposition 5, we will have that $m^*O \\leq m^*E + \\epsilon$. Since the outer measure of an interval will just be its length, we have that $m^*(O) - m^*(E) = \\ell(\\bigcup I_n) - m^*(E) \\leq \\ell(\\sum I_n) - m^*(E) < \\epsilon$ since $O$ is open. Thus, $m^*(O\\backslash E)<\\epsilon$. $\\blacksquare$"
   ]
  },
  {
   "cell_type": "markdown",
   "id": "78a954e7",
   "metadata": {},
   "source": [
    "(ii)$\\to$(vi)"
   ]
  },
  {
   "cell_type": "markdown",
   "id": "ffa8e5fc",
   "metadata": {},
   "source": [
    "Assume that given $\\epsilon >0$ there is an open set $O\\supset E$ such that $m^*(O\\backslash E)<\\epsilon$ and $m^*(E) < \\infty$."
   ]
  },
  {
   "cell_type": "markdown",
   "id": "0e9fddf0",
   "metadata": {},
   "source": [
    "$m^*(O\\backslash E)<\\epsilon$ implies $m^*(O)<m^*(E) + \\epsilon$. Let $\\{I_n\\}$ be a collection of disjoint open intervals such that $O = \\bigcup I_n$ meaning that $\\ell(\\bigcup I_n) < m^*(E) + \\epsilon$ since $\\{I_n\\}$ is a collection of intervals."
   ]
  },
  {
   "cell_type": "markdown",
   "id": "82613396",
   "metadata": {},
   "source": [
    "Since $\\{I_n\\}$ is disjoint, the length of its union, must equal the sum of the lengths of its elements. In other words, $\\ell(\\bigcup I_n) = \\ell(\\sum_{n=1}^\\infty I_n)$ meaning that $\\ell(\\sum_{n=1}^\\infty I_n) < m^*(E) + \\epsilon$."
   ]
  },
  {
   "cell_type": "markdown",
   "id": "bb3584f0",
   "metadata": {},
   "source": [
    "We can partition this sum like so:\n",
    "\n",
    "$$\\ell(\\sum_{n=1}^k I_n) + \\ell(\\sum_{n=k+1}^\\infty I_n) < m^*(E) + \\epsilon$$\n",
    "\n",
    "For some $k\\in\\mathbb{N}$. \n",
    "\n",
    "Since $k$ is arbitrary, let $k$ be such that  $\\ell(\\sum_{n=k+1}^\\infty I_n) < \\epsilon$ meaning that $\\ell(\\sum_{n=1}^k I_n) = m^*(E)$."
   ]
  },
  {
   "cell_type": "markdown",
   "id": "809c951f",
   "metadata": {},
   "source": [
    "Define set $U$ as $U = \\bigcup_{n=1}^k$ meaning that $m^*(U) \\leq m^*(O)$. We already have that $m^*(E) \\leq m^*(O)$ since $E\\subset O$."
   ]
  },
  {
   "cell_type": "markdown",
   "id": "2716c1cc",
   "metadata": {},
   "source": [
    "Thus, for $m^*(U\\Delta E) = m^*((U\\backslash E)\\cup(E\\backslash U))$, we must have that \n",
    "$$m^*((U\\backslash E)\\cup(E\\backslash U))\\leq m^*((O\\backslash E)\\cup(O\\backslash U)) = m^*(O\\backslash E)+m^*(O\\backslash U) < \\epsilon + \\epsilon = 2\\epsilon$$"
   ]
  },
  {
   "cell_type": "markdown",
   "id": "51b759c3",
   "metadata": {},
   "source": [
    "This is because $m^*(U) \\leq m^*(O)$, $m^*(E) \\leq m^*(O)$, $m^*(O\\backslash E)<\\epsilon$ and $m^*(E) <\\infty$."
   ]
  },
  {
   "cell_type": "markdown",
   "id": "33e3a3ec",
   "metadata": {},
   "source": [
    "Since $\\epsilon$ is arbitrary, we can drop the $2$ to obtain $m^*(U\\Delta E) < \\epsilon$. $\\blacksquare$"
   ]
  },
  {
   "cell_type": "markdown",
   "id": "d5cdaddb",
   "metadata": {},
   "source": [
    "(vi)$\\to$(ii)\n",
    "\n"
   ]
  },
  {
   "cell_type": "markdown",
   "id": "0ce08616",
   "metadata": {},
   "source": [
    "Assume that $m^* (E) < \\infty$ and for all $\\epsilon> 0$ there is a finite union $U$ of open intervals such that $m^* (U\\Delta E) < \\epsilon$."
   ]
  },
  {
   "cell_type": "markdown",
   "id": "a3108d1e",
   "metadata": {},
   "source": [
    "As before, let $O = \\bigcup_{n=1}^\\infty I_n$ and $U = \\bigcup_{n=1}^k I_n$ where $\\{I_n\\}$ is a collection of open intervals that covers $E$."
   ]
  },
  {
   "cell_type": "markdown",
   "id": "77f4f6bd",
   "metadata": {},
   "source": [
    "Clearly $U\\subset O$ and $E\\subset O$ meaning that $E\\backslash U\\subset O$. By Proposition 5, we have that $m^*(O) \\leq m^*(E\\backslash U) + \\epsilon$."
   ]
  },
  {
   "cell_type": "markdown",
   "id": "43eb6389",
   "metadata": {},
   "source": []
  },
  {
   "cell_type": "markdown",
   "id": "c8445f14",
   "metadata": {},
   "source": [
    "Thus, there is an open set $O\\supset E$ such that $m^*(O\\backslash E)<\\epsilon$"
   ]
  },
  {
   "cell_type": "markdown",
   "id": "1385f422",
   "metadata": {},
   "source": [
    "$\\textbf{4)}$\n",
    "\n",
    "We want to give an example of a continuous function $g$ and a measurable function $h$ such that $h \\circ g$ is not measurable."
   ]
  },
  {
   "cell_type": "markdown",
   "id": "278b18d5",
   "metadata": {},
   "source": [
    "Let $g:[0,1]\\to[0,1]$ be the Cantor function and let $h:[0,1]\\to[0,2] = g(x) + x$. The Cantor function is measurable and function $h$ is continuous."
   ]
  },
  {
   "cell_type": "markdown",
   "id": "d7a2e7e2",
   "metadata": {},
   "source": [
    "Since $h$ is continuous, its inverse $f(x) = h^{-1}(x)$ is continuous as well. Let $\\mathcal{C}$ be the Cantor set. By the definition of the Cantor function, we have that $g$ is constant over the set $[0,1]\\backslash\\mathcal{C}$ meaning that its measure on $[0,1]$ will simply be the length of $\\mathcal{[0,1]\\backslash\\mathcal{C}}$. Thus, $m(g(\\mathcal{[0,1]\\backslash\\mathcal{C}})) = 1$ on $[0,1]$. \n",
    "\n",
    "Therefore, $m(h(\\mathcal{C})) = 1$ on $[0,2]$ since $h$ must map $\\mathcal{C}$ to an interval which has the same length as $g(\\mathcal{[0,1]\\backslash\\mathcal{C}})$."
   ]
  },
  {
   "cell_type": "markdown",
   "id": "69df816d",
   "metadata": {},
   "source": [
    "We have that $m(h(\\mathcal{C})) = 1\\neq 0$ meaning that by Vitali's theorem, there must be an $S \\subseteq h(\\mathcal{C})$ which is not measurable."
   ]
  },
  {
   "cell_type": "markdown",
   "id": "ba3c5c0c",
   "metadata": {},
   "source": [
    "Let $X = f(S)$. Clearly, $X\\subseteq \\mathcal{C}$ since $f(S) = h^{-1}(S) \\subseteq \\mathcal{C}$. Thus, $X$ is measurable since it is the subset of a set with measure zero."
   ]
  },
  {
   "cell_type": "markdown",
   "id": "ef6e7cf5",
   "metadata": {},
   "source": [
    "Notice then, that the function $h \\circ g$ cannot be measurable since $(h \\circ g)(X) = h(h(X) \\backslash X) = h(S\\backslash X) = g(S\\backslash X) \\cup (S\\backslash X)$ is not measurable."
   ]
  },
  {
   "cell_type": "markdown",
   "id": "9a055aff",
   "metadata": {},
   "source": [
    "Vitali's Theorem: Given a set $A \\subseteq \\mathbb{R}$, set $A$ will have measure zero if and only if each $S\\subseteq A$ is measurable."
   ]
  }
 ],
 "metadata": {
  "kernelspec": {
   "display_name": "Julia 1.6.2",
   "language": "julia",
   "name": "julia-1.6"
  },
  "language_info": {
   "file_extension": ".jl",
   "mimetype": "application/julia",
   "name": "julia",
   "version": "1.6.2"
  }
 },
 "nbformat": 4,
 "nbformat_minor": 5
}
